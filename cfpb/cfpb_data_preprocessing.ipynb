{
 "cells": [
  {
   "cell_type": "code",
   "execution_count": null,
   "id": "b7ead201-a6f3-4065-a3dc-5f2bff232d57",
   "metadata": {},
   "outputs": [],
   "source": []
  },
  {
   "cell_type": "markdown",
   "id": "d7388f52-7ad5-46e1-97cc-d5cc71a0d69c",
   "metadata": {},
   "source": [
    "Data processing notebook for the data from the CFPB"
   ]
  },
  {
   "cell_type": "markdown",
   "id": "f61c85eb-09a2-4c4e-b4c0-2adbfd0a56a6",
   "metadata": {},
   "source": [
    "# Data\n",
    "\n",
    "1) Consumer Financial Protection Bureau (CFPB) - https://www.consumerfinance.gov/data-research/consumer-complaints/#download-the-data  \n",
    "(raw) 5.03 gb size csv file (1.05 gb compressed), so will likely need to reduce size significantly  \n",
    "(raw) 7,848,317 records  \n",
    "(processed) 1.06 gb size csv file  \n",
    "(processed) 7,638,765 records  "
   ]
  },
  {
   "cell_type": "code",
   "execution_count": 2,
   "id": "1e697d09-cd7f-4d38-a737-2bd36381d72b",
   "metadata": {},
   "outputs": [],
   "source": [
    "import pandas as pd\n",
    "import numpy as np\n",
    "import matplotlib.pyplot as plt"
   ]
  },
  {
   "cell_type": "code",
   "execution_count": null,
   "id": "0c4a9a1c-569c-4125-bf19-cb9ba30f4bb7",
   "metadata": {},
   "outputs": [],
   "source": []
  },
  {
   "cell_type": "code",
   "execution_count": 2,
   "id": "b3901f30-ae7e-4326-8a9b-4838139d7582",
   "metadata": {},
   "outputs": [
    {
     "name": "stderr",
     "output_type": "stream",
     "text": [
      "/var/folders/4x/v1l408vd5lx1w3p7ds26dljw0000gn/T/ipykernel_21243/1021600817.py:1: DtypeWarning: Columns (16) have mixed types. Specify dtype option on import or set low_memory=False.\n",
      "  df = pd.read_csv('data/complaints.csv')\n"
     ]
    }
   ],
   "source": [
    "df = pd.read_csv('data/complaints.csv')"
   ]
  },
  {
   "cell_type": "code",
   "execution_count": 4,
   "id": "6be38806-1f48-48d7-97e7-b7253819353f",
   "metadata": {},
   "outputs": [
    {
     "data": {
      "text/html": [
       "<div>\n",
       "<style scoped>\n",
       "    .dataframe tbody tr th:only-of-type {\n",
       "        vertical-align: middle;\n",
       "    }\n",
       "\n",
       "    .dataframe tbody tr th {\n",
       "        vertical-align: top;\n",
       "    }\n",
       "\n",
       "    .dataframe thead th {\n",
       "        text-align: right;\n",
       "    }\n",
       "</style>\n",
       "<table border=\"1\" class=\"dataframe\">\n",
       "  <thead>\n",
       "    <tr style=\"text-align: right;\">\n",
       "      <th></th>\n",
       "      <th>Date received</th>\n",
       "      <th>Product</th>\n",
       "      <th>Sub-product</th>\n",
       "      <th>Issue</th>\n",
       "      <th>Sub-issue</th>\n",
       "      <th>Consumer complaint narrative</th>\n",
       "      <th>Company public response</th>\n",
       "      <th>Company</th>\n",
       "      <th>State</th>\n",
       "      <th>ZIP code</th>\n",
       "      <th>Tags</th>\n",
       "      <th>Consumer consent provided?</th>\n",
       "      <th>Submitted via</th>\n",
       "      <th>Date sent to company</th>\n",
       "      <th>Company response to consumer</th>\n",
       "      <th>Timely response?</th>\n",
       "      <th>Consumer disputed?</th>\n",
       "      <th>Complaint ID</th>\n",
       "    </tr>\n",
       "  </thead>\n",
       "  <tbody>\n",
       "    <tr>\n",
       "      <th>0</th>\n",
       "      <td>2025-01-29</td>\n",
       "      <td>Credit reporting or other personal consumer re...</td>\n",
       "      <td>Credit reporting</td>\n",
       "      <td>Incorrect information on your report</td>\n",
       "      <td>Account status incorrect</td>\n",
       "      <td>NaN</td>\n",
       "      <td>NaN</td>\n",
       "      <td>Experian Information Solutions Inc.</td>\n",
       "      <td>NY</td>\n",
       "      <td>12543</td>\n",
       "      <td>NaN</td>\n",
       "      <td>NaN</td>\n",
       "      <td>Web</td>\n",
       "      <td>2025-01-29</td>\n",
       "      <td>In progress</td>\n",
       "      <td>Yes</td>\n",
       "      <td>NaN</td>\n",
       "      <td>11825440</td>\n",
       "    </tr>\n",
       "    <tr>\n",
       "      <th>1</th>\n",
       "      <td>2025-01-30</td>\n",
       "      <td>Credit reporting or other personal consumer re...</td>\n",
       "      <td>Credit reporting</td>\n",
       "      <td>Improper use of your report</td>\n",
       "      <td>Reporting company used your report improperly</td>\n",
       "      <td>NaN</td>\n",
       "      <td>NaN</td>\n",
       "      <td>Experian Information Solutions Inc.</td>\n",
       "      <td>NV</td>\n",
       "      <td>89148</td>\n",
       "      <td>NaN</td>\n",
       "      <td>NaN</td>\n",
       "      <td>Web</td>\n",
       "      <td>2025-01-30</td>\n",
       "      <td>In progress</td>\n",
       "      <td>Yes</td>\n",
       "      <td>NaN</td>\n",
       "      <td>11844247</td>\n",
       "    </tr>\n",
       "    <tr>\n",
       "      <th>2</th>\n",
       "      <td>2025-01-29</td>\n",
       "      <td>Payday loan, title loan, personal loan, or adv...</td>\n",
       "      <td>Installment loan</td>\n",
       "      <td>Problem when making payments</td>\n",
       "      <td>NaN</td>\n",
       "      <td>NaN</td>\n",
       "      <td>NaN</td>\n",
       "      <td>TD BANK US HOLDING COMPANY</td>\n",
       "      <td>FL</td>\n",
       "      <td>33055</td>\n",
       "      <td>NaN</td>\n",
       "      <td>NaN</td>\n",
       "      <td>Phone</td>\n",
       "      <td>2025-02-04</td>\n",
       "      <td>In progress</td>\n",
       "      <td>Yes</td>\n",
       "      <td>NaN</td>\n",
       "      <td>11824206</td>\n",
       "    </tr>\n",
       "    <tr>\n",
       "      <th>3</th>\n",
       "      <td>2025-01-27</td>\n",
       "      <td>Credit reporting or other personal consumer re...</td>\n",
       "      <td>Credit reporting</td>\n",
       "      <td>Problem with a company's investigation into an...</td>\n",
       "      <td>Their investigation did not fix an error on yo...</td>\n",
       "      <td>NaN</td>\n",
       "      <td>NaN</td>\n",
       "      <td>Resurgent Capital Services L.P.</td>\n",
       "      <td>NC</td>\n",
       "      <td>27455</td>\n",
       "      <td>NaN</td>\n",
       "      <td>NaN</td>\n",
       "      <td>Postal mail</td>\n",
       "      <td>2025-01-27</td>\n",
       "      <td>In progress</td>\n",
       "      <td>Yes</td>\n",
       "      <td>NaN</td>\n",
       "      <td>11799137</td>\n",
       "    </tr>\n",
       "    <tr>\n",
       "      <th>4</th>\n",
       "      <td>2025-01-28</td>\n",
       "      <td>Credit reporting or other personal consumer re...</td>\n",
       "      <td>Credit reporting</td>\n",
       "      <td>Improper use of your report</td>\n",
       "      <td>Reporting company used your report improperly</td>\n",
       "      <td>NaN</td>\n",
       "      <td>NaN</td>\n",
       "      <td>Experian Information Solutions Inc.</td>\n",
       "      <td>IL</td>\n",
       "      <td>60609</td>\n",
       "      <td>NaN</td>\n",
       "      <td>NaN</td>\n",
       "      <td>Web</td>\n",
       "      <td>2025-01-28</td>\n",
       "      <td>In progress</td>\n",
       "      <td>Yes</td>\n",
       "      <td>NaN</td>\n",
       "      <td>11810502</td>\n",
       "    </tr>\n",
       "  </tbody>\n",
       "</table>\n",
       "</div>"
      ],
      "text/plain": [
       "  Date received                                            Product  \\\n",
       "0    2025-01-29  Credit reporting or other personal consumer re...   \n",
       "1    2025-01-30  Credit reporting or other personal consumer re...   \n",
       "2    2025-01-29  Payday loan, title loan, personal loan, or adv...   \n",
       "3    2025-01-27  Credit reporting or other personal consumer re...   \n",
       "4    2025-01-28  Credit reporting or other personal consumer re...   \n",
       "\n",
       "        Sub-product                                              Issue  \\\n",
       "0  Credit reporting               Incorrect information on your report   \n",
       "1  Credit reporting                        Improper use of your report   \n",
       "2  Installment loan                       Problem when making payments   \n",
       "3  Credit reporting  Problem with a company's investigation into an...   \n",
       "4  Credit reporting                        Improper use of your report   \n",
       "\n",
       "                                           Sub-issue  \\\n",
       "0                           Account status incorrect   \n",
       "1      Reporting company used your report improperly   \n",
       "2                                                NaN   \n",
       "3  Their investigation did not fix an error on yo...   \n",
       "4      Reporting company used your report improperly   \n",
       "\n",
       "  Consumer complaint narrative Company public response  \\\n",
       "0                          NaN                     NaN   \n",
       "1                          NaN                     NaN   \n",
       "2                          NaN                     NaN   \n",
       "3                          NaN                     NaN   \n",
       "4                          NaN                     NaN   \n",
       "\n",
       "                               Company State ZIP code Tags  \\\n",
       "0  Experian Information Solutions Inc.    NY    12543  NaN   \n",
       "1  Experian Information Solutions Inc.    NV    89148  NaN   \n",
       "2           TD BANK US HOLDING COMPANY    FL    33055  NaN   \n",
       "3      Resurgent Capital Services L.P.    NC    27455  NaN   \n",
       "4  Experian Information Solutions Inc.    IL    60609  NaN   \n",
       "\n",
       "  Consumer consent provided? Submitted via Date sent to company  \\\n",
       "0                        NaN           Web           2025-01-29   \n",
       "1                        NaN           Web           2025-01-30   \n",
       "2                        NaN         Phone           2025-02-04   \n",
       "3                        NaN   Postal mail           2025-01-27   \n",
       "4                        NaN           Web           2025-01-28   \n",
       "\n",
       "  Company response to consumer Timely response? Consumer disputed?  \\\n",
       "0                  In progress              Yes                NaN   \n",
       "1                  In progress              Yes                NaN   \n",
       "2                  In progress              Yes                NaN   \n",
       "3                  In progress              Yes                NaN   \n",
       "4                  In progress              Yes                NaN   \n",
       "\n",
       "   Complaint ID  \n",
       "0      11825440  \n",
       "1      11844247  \n",
       "2      11824206  \n",
       "3      11799137  \n",
       "4      11810502  "
      ]
     },
     "execution_count": 4,
     "metadata": {},
     "output_type": "execute_result"
    }
   ],
   "source": [
    "df.head()"
   ]
  },
  {
   "cell_type": "code",
   "execution_count": 13,
   "id": "00381707-3135-41c3-85c3-044d71f7e562",
   "metadata": {},
   "outputs": [
    {
     "data": {
      "text/plain": [
       "7848317"
      ]
     },
     "execution_count": 13,
     "metadata": {},
     "output_type": "execute_result"
    }
   ],
   "source": [
    "len(df)"
   ]
  },
  {
   "cell_type": "code",
   "execution_count": 5,
   "id": "e214765c-8ff4-49b3-8b9f-34421ed4f9ab",
   "metadata": {},
   "outputs": [
    {
     "data": {
      "text/plain": [
       "Index(['Date received', 'Product', 'Sub-product', 'Issue', 'Sub-issue',\n",
       "       'Consumer complaint narrative', 'Company public response', 'Company',\n",
       "       'State', 'ZIP code', 'Tags', 'Consumer consent provided?',\n",
       "       'Submitted via', 'Date sent to company', 'Company response to consumer',\n",
       "       'Timely response?', 'Consumer disputed?', 'Complaint ID'],\n",
       "      dtype='object')"
      ]
     },
     "execution_count": 5,
     "metadata": {},
     "output_type": "execute_result"
    }
   ],
   "source": [
    "df.columns"
   ]
  },
  {
   "cell_type": "code",
   "execution_count": null,
   "id": "a766b85b-fa7e-4fe0-8759-71b9c2565b70",
   "metadata": {},
   "outputs": [],
   "source": []
  },
  {
   "cell_type": "code",
   "execution_count": 12,
   "id": "26d9e9aa-67ce-4b68-9dae-41da3fff2671",
   "metadata": {},
   "outputs": [
    {
     "data": {
      "text/plain": [
       "Product\n",
       "Credit reporting or other personal consumer reports                             3255674\n",
       "Credit reporting, credit repair services, or other personal consumer reports    2163864\n",
       "Debt collection                                                                  711906\n",
       "Mortgage                                                                         414704\n",
       "Checking or savings account                                                      269384\n",
       "Credit card or prepaid card                                                      206372\n",
       "Credit card                                                                      197794\n",
       "Credit reporting                                                                 140429\n",
       "Money transfer, virtual currency, or money service                               131002\n",
       "Student loan                                                                     100101\n",
       "Bank account or service                                                           86205\n",
       "Vehicle loan or lease                                                             66898\n",
       "Consumer Loan                                                                     31574\n",
       "Payday loan, title loan, or personal loan                                         30641\n",
       "Prepaid card                                                                      13273\n",
       "Payday loan, title loan, personal loan, or advance loan                           12816\n",
       "Payday loan                                                                        5541\n",
       "Money transfers                                                                    5354\n",
       "Debt or credit management                                                          3709\n",
       "Other financial service                                                            1058\n",
       "Virtual currency                                                                     18\n",
       "Name: count, dtype: int64"
      ]
     },
     "execution_count": 12,
     "metadata": {},
     "output_type": "execute_result"
    }
   ],
   "source": [
    "df['Product'].value_counts(dropna=False)"
   ]
  },
  {
   "cell_type": "code",
   "execution_count": 11,
   "id": "f6c5c286-5557-4990-87a1-972d10d22cc9",
   "metadata": {},
   "outputs": [
    {
     "data": {
      "text/plain": [
       "Consumer disputed?\n",
       "NaN    7080011\n",
       "No      619928\n",
       "Yes     148378\n",
       "Name: count, dtype: int64"
      ]
     },
     "execution_count": 11,
     "metadata": {},
     "output_type": "execute_result"
    }
   ],
   "source": [
    "df['Consumer disputed?'].value_counts(dropna=False)"
   ]
  },
  {
   "cell_type": "code",
   "execution_count": 9,
   "id": "3ea0e263-f199-437a-b12b-21e475859fa4",
   "metadata": {},
   "outputs": [
    {
     "data": {
      "text/plain": [
       "Complaint ID\n",
       "1110751     1\n",
       "11825440    1\n",
       "11844247    1\n",
       "11824206    1\n",
       "11799137    1\n",
       "           ..\n",
       "2918917     1\n",
       "8383712     1\n",
       "11636354    1\n",
       "11482617    1\n",
       "11482671    1\n",
       "Name: count, Length: 7848317, dtype: int64"
      ]
     },
     "execution_count": 9,
     "metadata": {},
     "output_type": "execute_result"
    }
   ],
   "source": [
    "df['Complaint ID'].value_counts()"
   ]
  },
  {
   "cell_type": "code",
   "execution_count": null,
   "id": "fd71a8b5-a734-41f7-ac6f-8bb593806148",
   "metadata": {},
   "outputs": [],
   "source": []
  },
  {
   "cell_type": "code",
   "execution_count": null,
   "id": "f20ce706-a8a7-4a82-b3ad-b8498d4b4c40",
   "metadata": {},
   "outputs": [],
   "source": []
  },
  {
   "cell_type": "markdown",
   "id": "c3b6b194-31b6-4269-9f75-93bfd92246a6",
   "metadata": {},
   "source": [
    "### Add year and month columns\n",
    "\n",
    "No idea if I'll need either (maybe for dynamic slicing?), but just in case."
   ]
  },
  {
   "cell_type": "code",
   "execution_count": 14,
   "id": "90a0cde2-bfe9-469b-b2ac-c6e7209e298f",
   "metadata": {},
   "outputs": [
    {
     "name": "stdout",
     "output_type": "stream",
     "text": [
      "<class 'pandas.core.series.Series'>\n",
      "RangeIndex: 7848317 entries, 0 to 7848316\n",
      "Series name: Date received\n",
      "Non-Null Count    Dtype \n",
      "--------------    ----- \n",
      "7848317 non-null  object\n",
      "dtypes: object(1)\n",
      "memory usage: 59.9+ MB\n"
     ]
    }
   ],
   "source": [
    "df['Date received'].info()"
   ]
  },
  {
   "cell_type": "code",
   "execution_count": null,
   "id": "a7a7071b-8d90-4913-8d5e-b79ec0eb112e",
   "metadata": {},
   "outputs": [],
   "source": []
  },
  {
   "cell_type": "code",
   "execution_count": 3,
   "id": "29ee75a7-ef9b-466b-a2db-6ae9124213d5",
   "metadata": {},
   "outputs": [
    {
     "data": {
      "text/plain": [
       "Date received\n",
       "Jan    937041\n",
       "Dec    722838\n",
       "Oct    701879\n",
       "Nov    672005\n",
       "Aug    667081\n",
       "Sep    653543\n",
       "Jul    617997\n",
       "Feb    613440\n",
       "May    579762\n",
       "Jun    575696\n",
       "Apr    558695\n",
       "Mar    548340\n",
       "Name: count, dtype: int64"
      ]
     },
     "execution_count": 3,
     "metadata": {},
     "output_type": "execute_result"
    }
   ],
   "source": [
    "# 2025-01-28\n",
    "pd.to_datetime(df['Date received']).apply(lambda dt: dt.strftime(\"%b\")).value_counts()"
   ]
  },
  {
   "cell_type": "code",
   "execution_count": 4,
   "id": "d5562ffd-bafb-4095-9532-6c5a9640976e",
   "metadata": {},
   "outputs": [],
   "source": [
    "df['Month received'] = pd.to_datetime(df['Date received']).apply(lambda dt: dt.strftime(\"%b\"))"
   ]
  },
  {
   "cell_type": "code",
   "execution_count": 5,
   "id": "b822aa65-e5d0-4b1b-b5f3-f69f37657b7e",
   "metadata": {},
   "outputs": [
    {
     "data": {
      "text/plain": [
       "Month received\n",
       "Jan    937041\n",
       "Dec    722838\n",
       "Oct    701879\n",
       "Nov    672005\n",
       "Aug    667081\n",
       "Sep    653543\n",
       "Jul    617997\n",
       "Feb    613440\n",
       "May    579762\n",
       "Jun    575696\n",
       "Apr    558695\n",
       "Mar    548340\n",
       "Name: count, dtype: int64"
      ]
     },
     "execution_count": 5,
     "metadata": {},
     "output_type": "execute_result"
    }
   ],
   "source": [
    "df['Month received'].value_counts()"
   ]
  },
  {
   "cell_type": "code",
   "execution_count": null,
   "id": "692e9c5c-1114-4219-921a-573f8b9c89f3",
   "metadata": {},
   "outputs": [],
   "source": []
  },
  {
   "cell_type": "code",
   "execution_count": 6,
   "id": "3c5869ca-d00b-4e35-87a4-486b119afb56",
   "metadata": {},
   "outputs": [
    {
     "data": {
      "text/plain": [
       "Date received\n",
       "2024    2734508\n",
       "2023    1292139\n",
       "2022     800349\n",
       "2025     607722\n",
       "2021     495993\n",
       "2020     444287\n",
       "2019     277294\n",
       "2018     257203\n",
       "2017     242850\n",
       "2016     191412\n",
       "2015     168433\n",
       "2014     153004\n",
       "2013     108215\n",
       "2012      72372\n",
       "2011       2536\n",
       "Name: count, dtype: int64"
      ]
     },
     "execution_count": 6,
     "metadata": {},
     "output_type": "execute_result"
    }
   ],
   "source": [
    "pd.to_datetime(df['Date received']).apply(lambda dt: dt.year).value_counts()"
   ]
  },
  {
   "cell_type": "code",
   "execution_count": 7,
   "id": "722d3457-6b49-4e09-8eff-6367cb75adbf",
   "metadata": {},
   "outputs": [],
   "source": [
    "df['Year received'] = pd.to_datetime(df['Date received']).apply(lambda dt: dt.year)"
   ]
  },
  {
   "cell_type": "code",
   "execution_count": 8,
   "id": "87d0d7fb-8f87-48ca-bee4-0d07e47395c3",
   "metadata": {},
   "outputs": [
    {
     "data": {
      "text/plain": [
       "Year received\n",
       "2024    2734508\n",
       "2023    1292139\n",
       "2022     800349\n",
       "2025     607722\n",
       "2021     495993\n",
       "2020     444287\n",
       "2019     277294\n",
       "2018     257203\n",
       "2017     242850\n",
       "2016     191412\n",
       "2015     168433\n",
       "2014     153004\n",
       "2013     108215\n",
       "2012      72372\n",
       "2011       2536\n",
       "Name: count, dtype: int64"
      ]
     },
     "execution_count": 8,
     "metadata": {},
     "output_type": "execute_result"
    }
   ],
   "source": [
    "df['Year received'].value_counts()"
   ]
  },
  {
   "cell_type": "raw",
   "id": "ff815647-29dd-44bf-b77d-ae488a8c1b7c",
   "metadata": {},
   "source": [
    "Re-arrange columns so date columns in front"
   ]
  },
  {
   "cell_type": "code",
   "execution_count": 9,
   "id": "32eeefca-3567-4a79-9a22-a645b459c2f3",
   "metadata": {},
   "outputs": [
    {
     "data": {
      "text/plain": [
       "Index(['Date received', 'Product', 'Sub-product', 'Issue', 'Sub-issue',\n",
       "       'Consumer complaint narrative', 'Company public response', 'Company',\n",
       "       'State', 'ZIP code', 'Tags', 'Consumer consent provided?',\n",
       "       'Submitted via', 'Date sent to company', 'Company response to consumer',\n",
       "       'Timely response?', 'Consumer disputed?', 'Complaint ID',\n",
       "       'Month received', 'Year received'],\n",
       "      dtype='object')"
      ]
     },
     "execution_count": 9,
     "metadata": {},
     "output_type": "execute_result"
    }
   ],
   "source": [
    "df.columns"
   ]
  },
  {
   "cell_type": "code",
   "execution_count": 10,
   "id": "1c157e3d-1abb-4675-8bc4-23af1ab172dd",
   "metadata": {},
   "outputs": [],
   "source": [
    "df = df[['Date received', 'Month received', 'Year received', 'Product', 'Sub-product', 'Issue', 'Sub-issue',\n",
    "       'Consumer complaint narrative', 'Company public response', 'Company',\n",
    "       'State', 'ZIP code', 'Tags', 'Consumer consent provided?',\n",
    "       'Submitted via', 'Date sent to company', 'Company response to consumer',\n",
    "       'Timely response?', 'Consumer disputed?', 'Complaint ID']]"
   ]
  },
  {
   "cell_type": "code",
   "execution_count": 11,
   "id": "a5beea51-caef-404c-96cd-5108298cfddd",
   "metadata": {},
   "outputs": [
    {
     "data": {
      "text/plain": [
       "Index(['Date received', 'Month received', 'Year received', 'Product',\n",
       "       'Sub-product', 'Issue', 'Sub-issue', 'Consumer complaint narrative',\n",
       "       'Company public response', 'Company', 'State', 'ZIP code', 'Tags',\n",
       "       'Consumer consent provided?', 'Submitted via', 'Date sent to company',\n",
       "       'Company response to consumer', 'Timely response?',\n",
       "       'Consumer disputed?', 'Complaint ID'],\n",
       "      dtype='object')"
      ]
     },
     "execution_count": 11,
     "metadata": {},
     "output_type": "execute_result"
    }
   ],
   "source": [
    "df.columns"
   ]
  },
  {
   "cell_type": "code",
   "execution_count": null,
   "id": "09dba030-83b8-43e1-b3ba-ecce2dd1e69c",
   "metadata": {},
   "outputs": [],
   "source": []
  },
  {
   "cell_type": "markdown",
   "id": "413092e0-1308-4002-acad-199ad56ff4f0",
   "metadata": {},
   "source": [
    " ### Sorting through and standardizing product/sub-product/issue/sub-issue\n",
    "\n",
    " From my quick view of it earlier, it appears that there's multiple different names for the same categories (at least for Product, likely for the other 3 columns here). So let's check for nulls, then standardize categories a bit"
   ]
  },
  {
   "cell_type": "code",
   "execution_count": null,
   "id": "83930d1d-a919-4a02-8261-420412e70789",
   "metadata": {},
   "outputs": [],
   "source": []
  },
  {
   "cell_type": "code",
   "execution_count": 88,
   "id": "9dd11567-a14a-4118-b564-95728e4f8689",
   "metadata": {},
   "outputs": [
    {
     "data": {
      "text/plain": [
       "Product\n",
       "Credit reporting or other personal consumer reports                             3255674\n",
       "Credit reporting, credit repair services, or other personal consumer reports    2163864\n",
       "Debt collection                                                                  711906\n",
       "Mortgage                                                                         414704\n",
       "Checking or savings account                                                      269384\n",
       "Credit card or prepaid card                                                      206372\n",
       "Credit card                                                                      197794\n",
       "Credit reporting                                                                 140429\n",
       "Money transfer, virtual currency, or money service                               131002\n",
       "Student loan                                                                     100101\n",
       "Bank account or service                                                           86205\n",
       "Vehicle loan or lease                                                             66898\n",
       "Consumer Loan                                                                     31574\n",
       "Payday loan, title loan, or personal loan                                         30641\n",
       "Prepaid card                                                                      13273\n",
       "Payday loan, title loan, personal loan, or advance loan                           12816\n",
       "Payday loan                                                                        5541\n",
       "Money transfers                                                                    5354\n",
       "Debt or credit management                                                          3709\n",
       "Other financial service                                                            1058\n",
       "Virtual currency                                                                     18\n",
       "Name: count, dtype: int64"
      ]
     },
     "execution_count": 88,
     "metadata": {},
     "output_type": "execute_result"
    }
   ],
   "source": [
    "df['Product'].value_counts(dropna=False)"
   ]
  },
  {
   "cell_type": "code",
   "execution_count": 12,
   "id": "7f49c9ef-16c8-4a8e-9e6a-641afd279eb2",
   "metadata": {},
   "outputs": [
    {
     "data": {
      "text/plain": [
       "['Bank account or service',\n",
       " 'Checking or savings account',\n",
       " 'Consumer Loan',\n",
       " 'Credit card',\n",
       " 'Credit card or prepaid card',\n",
       " 'Credit reporting',\n",
       " 'Credit reporting or other personal consumer reports',\n",
       " 'Credit reporting, credit repair services, or other personal consumer reports',\n",
       " 'Debt collection',\n",
       " 'Debt or credit management',\n",
       " 'Money transfer, virtual currency, or money service',\n",
       " 'Money transfers',\n",
       " 'Mortgage',\n",
       " 'Other financial service',\n",
       " 'Payday loan',\n",
       " 'Payday loan, title loan, or personal loan',\n",
       " 'Payday loan, title loan, personal loan, or advance loan',\n",
       " 'Prepaid card',\n",
       " 'Student loan',\n",
       " 'Vehicle loan or lease',\n",
       " 'Virtual currency']"
      ]
     },
     "execution_count": 12,
     "metadata": {},
     "output_type": "execute_result"
    }
   ],
   "source": [
    "product_categories = df['Product'].value_counts(dropna=False).index.tolist()\n",
    "product_categories = sorted(product_categories)\n",
    "product_categories"
   ]
  },
  {
   "cell_type": "markdown",
   "id": "2966db56-e35f-467a-9914-c371b3c73c9e",
   "metadata": {},
   "source": [
    "Here are the groupings -> and what the category name will be named\n",
    "\n",
    "['Bank account or service', 'Checking or savings account',] -> 'Bank accounts'  \n",
    "['Consumer Loan',] -> 'Consumer loans'  \n",
    "['Credit card', 'Credit card or prepaid card', 'Prepaid card',] -> 'Credit cards'  \n",
    "['Credit reporting', 'Credit reporting or other personal consumer reports', 'Credit reporting, credit repair services, or other personal consumer reports',] -> 'Credit reporting'  \n",
    "['Debt collection', 'Debt or credit management',] -> 'Debt collection'  \n",
    "['Money transfer, virtual currency, or money service', 'Money transfers', 'Virtual currency'] -> 'Money services'  \n",
    "['Mortgage',] -> 'Mortgages'  \n",
    "['Other financial service',] -> 'Other'  \n",
    "['Payday loan', 'Payday loan, title loan, or personal loan', 'Payday loan, title loan, personal loan, or advance loan',] -> 'Short-term loans'  \n",
    "['Student loan',] -> 'Student loans'  \n",
    "['Vehicle loan or lease',] -> 'Vehicle loans'   "
   ]
  },
  {
   "cell_type": "code",
   "execution_count": 13,
   "id": "bf2c22fc-ab6a-41ef-817e-f7cb41dcb35e",
   "metadata": {},
   "outputs": [],
   "source": [
    "def product_grouping_and_renaming(s):\n",
    "    if s in ['Bank account or service', 'Checking or savings account',]:\n",
    "        return 'Bank accounts' \n",
    "    elif s in ['Consumer Loan',]:\n",
    "        return 'Consumer loans'\n",
    "    elif s in ['Credit card', 'Credit card or prepaid card', 'Prepaid card',]:\n",
    "        return 'Credit cards'\n",
    "    elif s in ['Credit reporting', 'Credit reporting or other personal consumer reports', 'Credit reporting, credit repair services, or other personal consumer reports',]:\n",
    "        return 'Credit reporting'\n",
    "    elif s in ['Debt collection', 'Debt or credit management',]:\n",
    "        return 'Debt collection'\n",
    "    elif s in ['Money transfer, virtual currency, or money service', 'Money transfers', 'Virtual currency']:\n",
    "        return 'Money services'\n",
    "    elif s in ['Mortgage',]:\n",
    "        return 'Mortgages'\n",
    "    elif s in ['Payday loan', 'Payday loan, title loan, or personal loan', 'Payday loan, title loan, personal loan, or advance loan',]:\n",
    "        return 'Short-term loans'\n",
    "    elif s in ['Student loan',]:\n",
    "        return 'Student loans'\n",
    "    elif s in ['Vehicle loan or lease',]:\n",
    "        return 'Vehicle loans'\n",
    "    else: # including ['Other financial service',]\n",
    "        return 'Other'"
   ]
  },
  {
   "cell_type": "code",
   "execution_count": 14,
   "id": "0fb43d8c-5877-4ca0-b7b2-a41fa7ef3890",
   "metadata": {},
   "outputs": [],
   "source": [
    "df['Product'] = df['Product'].apply(product_grouping_and_renaming)\n",
    "# this reduced the size from 5.08gb to "
   ]
  },
  {
   "cell_type": "code",
   "execution_count": 15,
   "id": "aff353f6-9c6b-42c7-9dc4-df03ef9ec188",
   "metadata": {},
   "outputs": [
    {
     "data": {
      "text/plain": [
       "Product\n",
       "Credit reporting    5559967\n",
       "Debt collection      715615\n",
       "Credit cards         417439\n",
       "Mortgages            414704\n",
       "Bank accounts        355589\n",
       "Money services       136374\n",
       "Student loans        100101\n",
       "Vehicle loans         66898\n",
       "Short-term loans      48998\n",
       "Consumer loans        31574\n",
       "Other                  1058\n",
       "Name: count, dtype: int64"
      ]
     },
     "execution_count": 15,
     "metadata": {},
     "output_type": "execute_result"
    }
   ],
   "source": [
    "df['Product'].value_counts()"
   ]
  },
  {
   "cell_type": "code",
   "execution_count": null,
   "id": "f81a62bd-ed74-48c6-ba0b-863cde6f04cc",
   "metadata": {},
   "outputs": [],
   "source": []
  },
  {
   "cell_type": "code",
   "execution_count": null,
   "id": "599eaf18-79c3-4d3a-a900-dbf65e001173",
   "metadata": {},
   "outputs": [],
   "source": []
  },
  {
   "cell_type": "markdown",
   "id": "72bc1385-b47b-44c6-b205-f1907a2f7fbd",
   "metadata": {},
   "source": [
    "If you wanted a more granular look at some of these specific data, these categories may be something good to look into. Most of this I may just toss out for the purposes of this dashboard."
   ]
  },
  {
   "cell_type": "code",
   "execution_count": 52,
   "id": "ecaa3c93-fd78-44dc-b890-3a1b77f0945b",
   "metadata": {},
   "outputs": [
    {
     "data": {
      "text/plain": [
       "Sub-product\n",
       "Credit reporting                              5382512\n",
       "Checking account                               275517\n",
       "General-purpose credit card or charge card     256039\n",
       "NaN                                            235295\n",
       "I do not know                                  204425\n",
       "                                               ...   \n",
       "Student prepaid card                               43\n",
       "Student loan debt relief                           41\n",
       "Transit card                                       37\n",
       "Tax refund anticipation loan or check              22\n",
       "Electronic Benefit Transfer / EBT card             12\n",
       "Name: count, Length: 87, dtype: int64"
      ]
     },
     "execution_count": 52,
     "metadata": {},
     "output_type": "execute_result"
    }
   ],
   "source": [
    "df['Sub-product'].value_counts(dropna=False)"
   ]
  },
  {
   "cell_type": "code",
   "execution_count": 54,
   "id": "30d1bf2c-79c9-4650-b2ad-42e0ac5b7dd5",
   "metadata": {},
   "outputs": [
    {
     "name": "stdout",
     "output_type": "stream",
     "text": [
      "['Credit reporting', 'Checking account', 'General-purpose credit card or charge card', nan, 'I do not know', 'Other debt', 'Credit card debt', 'Conventional home mortgage', 'Other mortgage', 'Conventional fixed mortgage', 'Domestic (US) money transfer', 'Medical debt', 'Federal student loan servicing', 'Loan', 'FHA mortgage', 'Other (i.e. phone, health club, etc.)', 'Store credit card', 'Mobile or digital wallet', 'Other personal consumer report', 'Installment loan', 'Credit card', 'Savings account', 'Other banking product or service', 'Conventional adjustable mortgage (ARM)', 'Non-federal student loan', 'Auto debt', 'Medical', 'Private student loan', 'VA mortgage', 'Other bank product/service', 'Vehicle loan', 'Payday loan', 'Other type of mortgage', 'General-purpose prepaid card', 'Virtual currency', 'International money transfer', 'Telecommunications debt', 'Payday loan debt', 'Personal line of credit', 'Home equity loan or line of credit', 'Home equity loan or line of credit (HELOC)', 'Government benefit card', 'Rental debt', 'Lease', 'Mortgage debt', 'Credit repair services', 'CD (Certificate of Deposit)', 'Reverse mortgage', 'Mortgage', 'Private student loan debt', 'Federal student loan debt', 'Title loan', 'Auto', '(CD) Certificate of deposit', 'Debt settlement', 'Vehicle lease', 'Federal student loan', 'Gift card', 'General purpose card', 'Payroll card', 'Check cashing service', \"Money order, traveler's check or cashier's check\", 'Foreign currency exchange', \"Traveler's check or cashier's check\", 'Money order', 'Refund anticipation check', 'Second mortgage', 'Cashing a check without an account', 'Mobile wallet', 'Gift or merchant card', 'Government benefit payment card', 'Manufactured home loan', 'USDA mortgage', 'Check cashing', 'Other advances of future income', 'Pawn loan', 'ID prepaid card', 'Other special purpose card', 'Mortgage modification or foreclosure avoidance', 'Credit repair', 'Earned wage access', 'Traveler’s/Cashier’s checks', 'Student prepaid card', 'Student loan debt relief', 'Transit card', 'Tax refund anticipation loan or check', 'Electronic Benefit Transfer / EBT card']\n"
     ]
    }
   ],
   "source": [
    "print(df['Sub-product'].value_counts(dropna=False).index.tolist())"
   ]
  },
  {
   "cell_type": "code",
   "execution_count": 55,
   "id": "44d75b9c-80bd-4c8d-834f-ac8e0bc60b13",
   "metadata": {},
   "outputs": [
    {
     "data": {
      "text/plain": [
       "Issue\n",
       "Incorrect information on your report                                                2684928\n",
       "Improper use of your report                                                         1456795\n",
       "Problem with a company's investigation into an existing problem                      663010\n",
       "Problem with a credit reporting company's investigation into an existing problem     589336\n",
       "Attempts to collect debt not owed                                                    275937\n",
       "                                                                                     ...   \n",
       "Lost or stolen refund                                                                     7\n",
       "Lender sold the property                                                                  7\n",
       "Property was damaged or destroyed property                                                7\n",
       "NaN                                                                                       6\n",
       "Lender damaged or destroyed property                                                      3\n",
       "Name: count, Length: 179, dtype: int64"
      ]
     },
     "execution_count": 55,
     "metadata": {},
     "output_type": "execute_result"
    }
   ],
   "source": [
    "df['Issue'].value_counts(dropna=False)"
   ]
  },
  {
   "cell_type": "code",
   "execution_count": 57,
   "id": "b95ea1d1-d707-46e2-ac07-41e8999c77e6",
   "metadata": {},
   "outputs": [
    {
     "data": {
      "text/plain": [
       "Sub-issue\n",
       "Information belongs to someone else                                                 1715049\n",
       "Reporting company used your report improperly                                        961150\n",
       "NaN                                                                                  815662\n",
       "Their investigation did not fix an error on your report                              722975\n",
       "Credit inquiries on your report that you don't recognize                             485642\n",
       "                                                                                     ...   \n",
       "Insurance terms                                                                           6\n",
       "Problem with a credit reporting company's investigation into an existing problem          5\n",
       "Improper use of your report                                                               1\n",
       "Problem with fraud alerts or security freezes                                             1\n",
       "Credit monitoring or identity theft protection services                                   1\n",
       "Name: count, Length: 273, dtype: int64"
      ]
     },
     "execution_count": 57,
     "metadata": {},
     "output_type": "execute_result"
    }
   ],
   "source": [
    "df['Sub-issue'].value_counts(dropna=False)"
   ]
  },
  {
   "cell_type": "code",
   "execution_count": null,
   "id": "6ba008f8-3460-4189-9445-dd3033c3f623",
   "metadata": {},
   "outputs": [],
   "source": []
  },
  {
   "cell_type": "code",
   "execution_count": null,
   "id": "444650b4-a440-4f69-908d-91a0182defab",
   "metadata": {},
   "outputs": [],
   "source": []
  },
  {
   "cell_type": "code",
   "execution_count": 51,
   "id": "51b9522a-4a37-4441-b7d5-d3fc9c37d699",
   "metadata": {},
   "outputs": [
    {
     "data": {
      "text/plain": [
       "Index(['Date received', 'Month received', 'Year received', 'Product',\n",
       "       'Sub-product', 'Issue', 'Sub-issue', 'Has consumer complaint narrative',\n",
       "       'Company response', 'Company', 'State', 'ZIP code', 'Tags',\n",
       "       'Consumer consent provided?', 'Submitted via', 'Date sent to company',\n",
       "       'Company response to consumer', 'Timely response?',\n",
       "       'Consumer disputed?', 'Complaint ID'],\n",
       "      dtype='object')"
      ]
     },
     "execution_count": 51,
     "metadata": {},
     "output_type": "execute_result"
    }
   ],
   "source": [
    "df.columns"
   ]
  },
  {
   "cell_type": "code",
   "execution_count": null,
   "id": "363b49e9-b03a-4cc2-8afe-6371aa6a1cc7",
   "metadata": {},
   "outputs": [],
   "source": []
  },
  {
   "cell_type": "code",
   "execution_count": null,
   "id": "8992274a-cf54-4016-8f2d-3aa25317c9df",
   "metadata": {},
   "outputs": [],
   "source": []
  },
  {
   "cell_type": "markdown",
   "id": "367b13a6-f44d-41a4-90a1-83e1becb9d63",
   "metadata": {},
   "source": [
    "### Dealing with the large text columns  \n",
    "\n",
    "`Consumer complaint narrative` and `Company public response` both (although as I explore, more columns may be needed to treated like these) will be compressed in some way.  \n",
    "\n",
    "`Consumer complaint narrative` -> into a column 'Has consumer complaint narrative': has text -> True, else -> False  \n",
    "`Company public response` -> into 5 categories: 'No Public Response', 'Company Acted Appropriately', 'Dispute or Unverifiable Facts', 'External or Isolated Issue', 'Opportunity for Improvement'  \n",
    "\n"
   ]
  },
  {
   "cell_type": "code",
   "execution_count": null,
   "id": "453377f8-6187-4371-83ac-cc9ab075580c",
   "metadata": {},
   "outputs": [],
   "source": []
  },
  {
   "cell_type": "code",
   "execution_count": 87,
   "id": "220bb2a3-125f-4960-8925-350b43013f3c",
   "metadata": {},
   "outputs": [
    {
     "data": {
      "text/plain": [
       "Index(['Date received', 'Month received', 'Year received', 'Product',\n",
       "       'Sub-product', 'Issue', 'Sub-issue', 'Consumer complaint narrative',\n",
       "       'Company public response', 'Company', 'State', 'ZIP code', 'Tags',\n",
       "       'Consumer consent provided?', 'Submitted via', 'Date sent to company',\n",
       "       'Company response to consumer', 'Timely response?',\n",
       "       'Consumer disputed?', 'Complaint ID'],\n",
       "      dtype='object')"
      ]
     },
     "execution_count": 87,
     "metadata": {},
     "output_type": "execute_result"
    }
   ],
   "source": [
    "df.columns"
   ]
  },
  {
   "cell_type": "code",
   "execution_count": null,
   "id": "f836170c-a6a1-4dcf-be74-e9bc76f38ef1",
   "metadata": {},
   "outputs": [],
   "source": []
  },
  {
   "cell_type": "code",
   "execution_count": 21,
   "id": "5c03676a-74c6-4b5e-a92a-92216e2a7de5",
   "metadata": {},
   "outputs": [
    {
     "data": {
      "text/plain": [
       "np.int64(5332868)"
      ]
     },
     "execution_count": 21,
     "metadata": {},
     "output_type": "execute_result"
    }
   ],
   "source": [
    "df['Consumer complaint narrative'].isna().sum()"
   ]
  },
  {
   "cell_type": "code",
   "execution_count": 22,
   "id": "d485b7f4-40cd-4dd4-8d64-3041e07d32bb",
   "metadata": {},
   "outputs": [
    {
     "data": {
      "text/plain": [
       "7848317"
      ]
     },
     "execution_count": 22,
     "metadata": {},
     "output_type": "execute_result"
    }
   ],
   "source": [
    "len(df)"
   ]
  },
  {
   "cell_type": "code",
   "execution_count": null,
   "id": "e3596291-b172-443f-829e-50c3bb43a9a8",
   "metadata": {},
   "outputs": [],
   "source": []
  },
  {
   "cell_type": "code",
   "execution_count": 23,
   "id": "d33b7400-c291-4182-b944-3ddafc8ef7d9",
   "metadata": {},
   "outputs": [],
   "source": [
    "current = 0\n",
    "col_to_examine = 'Consumer complaint narrative'"
   ]
  },
  {
   "cell_type": "code",
   "execution_count": 25,
   "id": "d3f3fa87-c58b-4d29-bc99-dedd742b6859",
   "metadata": {},
   "outputs": [
    {
     "name": "stdout",
     "output_type": "stream",
     "text": [
      "20 XXXX XXXX XXXX XXXX XXXX XXXX XXXX XXXX XXXX XXXX XXXX XXXX De XXXX ] [ XXXX ] [ XXXX ] Consumer Financial Protection Bureau 1700 G Street NW XXXX XXXX XXXX  Subject : Formal Dispute of Inaccurate Credit Reporting Request for Deletion Under FCRA Dear CFPB, I am writing to dispute inaccurate information reported by TransUnion, XXXX, and XXXX regarding the account XXXX Under the Fair Credit Reporting Act ( FCRA ), I am entitled to accurate, complete, and consistent information on my credit reports. After reviewing my reports, I found several errors : Inconsistent \" High Balance '' : TransUnion : {$520.00}, XXXX : {$0.00}, XXXX : {$320.00}. \n",
      "\n",
      "Violates 623 ( a ) ( 1 ) ( A ). \n",
      "\n",
      "Conflicting \" Date of Last Activity '' ( DLA ) : TransUnion : XX/XX/XXXX, XXXX : XX/XX/XXXX, XXXX : XX/XX/XXXX. \n",
      "\n",
      "Violates 611 ( a ) ( 1 ) ( A ). \n",
      "\n",
      "Omission of \" Closed Date '' : TransUnion lists XX/XX/XXXX, but XXXX and XXXX do not report this information.\n",
      "\n",
      "Violates 609 ( a ) ( 1 ).\n",
      "\n",
      "Discrepancy in Creditor Remarks : TransUnion : \" Charged off as bad debt, '' XXXX : \" Profit and loss write-off, '' XXXX : XXXX Charged off account. '' Violates 611 ( a ) ( 1 ) ( A ). \n",
      "\n",
      "Inconsistent \" Credit Limit '' : TransUnion and XXXX : {$400.00}, XXXX : {$0.00}. \n",
      "\n",
      "Violates 609 ( a ) ( 1 ). \n",
      "\n",
      "Payment History Errors : XXXX shows inconsistent reporting of charge-offs ( CO ), while XXXX exaggerates late payments ( e.g., 37 instances of 90-day lates ). \n",
      "\n",
      "Violates 611 ( a ) ( 1 ) ( A ).\n",
      "\n",
      "These inaccuracies are harmful to my creditworthiness and violate the FCRAs requirement for accurate and verifiable reporting. I request the immediate deletion of this account from all three credit bureau reports due to the following reasons : The errors are inconsistent and unverifiable.\n",
      "\n",
      "The reporting violates multiple sections of the FCRA, including 609 ( a ) ( 1 ), 611 ( a ) ( 1 ) ( A ), and 623 ( a ) ( 1 ) ( A ). \n",
      "\n",
      "\n",
      "[ XXXXXXXX XXXX XXXX XXXX XXXX XXXX XXXX XXXX XXXX\n",
      "=================================\n",
      "22 I disputed an account listed under XXXX XXXXXXXX XXXX XXXX  on my XXXX, transunion and XXXX credit report, as I have never conducted business with this company nor authorized any transactions associated with it. Despite submitting my dispute with sufficient documentation, including proof of identity and supporting details, XXXX, Transunion and XXXX. failed to conduct a proper investigation or remove the fraudulent account. \n",
      "\n",
      "This account has been negatively impacting my credit report, and XXXX, transunion and XXXXXXXX XXXX  lack of action violates the Fair Credit Reporting Act ( FCRA ), specifically the requirements under XXXX XXXX  XXXX, which mandate a reasonable and accurate investigation of disputed items. \n",
      "\n",
      "The dispute was initially submitted in XXXX, and I have yet to receive any meaningful response or evidence of verification from XXXX, transunion and XXXX. This lack of action has caused significant XXXX XXXX and XXXX, as the inaccurate account continues to damage my creditworthiness and financial stability. \n",
      "\n",
      "I request that the Consumer Financial Protection Bureau ( CFPB ) hold XXXX, transunion and XXXX accountable for their failure to comply with FCRA requirements. \n",
      "I demand a thorough investigation of the disputed account and the immediate removal of the fraudulent account from my credit report.\n",
      "=================================\n",
      "23 To : XXXX, Experian, XXXX and XXXX XXXX XXXX-Date of inquiry : XX/XX/XXXX : NOTICE AND DEMAND FOR SETTLEMENT OF UNAUTHORIZED INQUIRY ON CONSUMER REPORT To : Whom It May Concern : This notice is to inform you that you are unlawfully reporting an unauthorized inquiry on my consumer report. I have not given you permission to access my credit profile and you have no permissible purpose by law to contact third parties with my private or personal information. Your offenses amount to Aggravated Identity Theft pursuant to 18 U.S.C. 1028A. You have knowingly transferred, possessed, or used, without lawful authority, a means of identification of me, which is a felony punishable with up to 2 years of imprisonment, in addition to civil liability. By obtaining my CREDIT BUREAU consumer report on XX/XX/XXXX without my permission, or without a permissible purpose by law, you are also in violation of the Fair Credit Reporting Act ( FCRA ) codified at 15 U.S.C 1681b ( a ) 3 ( f ) ( i ). XXXX XXXX XXXX, XXXX XXXX XXXX XXXX XXXX XXXX XXXX XXXX XXXXXXXX ) I have not initiated any transaction with XXXX XXXX XXXX. Furthermore, I do not have an account as defined under 15 U.S.C. 1693a ( 2 ) with XXXX XXXX XXXX for review or collection. Pursuant to 15 U.S.C. 1681n ( a ), Any person who knowingly and willfully obtains information on a consumer from a consumer reporting agency under false pretenses shall be fined under Title 18, imprisoned for not more than 2 years, or both. By willfully violating the FCRA, I am willing to settle your civil liability damages I have suffered as a result of your violation for {$1000.00} pursuant to FCRA 616 ( a ) ( 1 ) ( B ) [ 15 U.S.C. 1681n ]. Should you fail or refuse to settle the matter by tendering payment in the amount of {$1000.00} within ten ( 10 ) calendar days of receipt of this notice and demand, I will seek actual damages which are greater than {$1000.00}. Send payment immediately via Certified Funds to : XXXX XXXX XXXX XXXX XXXX XXXXXXXX XXXX, Fl, XXXX Regards, XXXX XXXX ( FCRA ). CC : XXXX XXXX XXXX, XXXX, Experian and XXXX XXXX XXXX. \n",
      "\n",
      "I am attaching my ID and proof of address to verify my identity.\n",
      "=================================\n",
      "32 XX/XX/XXXX Subject : Complaint Regarding Inaccurate Late Payment Reporting Dear CFPB, I am filing a formal complaint against XXXX, XXXX, and TransUnion for their continued failure to correct inaccurate information regarding late payments reported on my credit report for the XXXX XXXX XXXX account. Despite my repeated requests for correction, including disputes submitted on XX/XX/XXXX, and XX/XX/XXXX, the errors remain unresolved, constituting violations of federal consumer protection laws.\n",
      "\n",
      "Discrepancies and Errors Identified Late Payment Reporting Discrepancy : A 30-day late payment for XX/XX/XXXX is reported inconsistently across the credit bureaus. However, my payment history reflects timely payments before and after this date, and no substantiated evidence of a late payment has been provided by the credit bureaus or the creditor. \n",
      "Inconsistent Data Across Bureaus : The closed date for this account is inaccurately reported or omitted by certain credit bureaus.\n",
      "\n",
      "Payment statuses and account descriptions are inconsistent, with one bureau indicating Account closed by consumer and another marking it as Closed or paid account/zero balance. \n",
      "Violation of FCRA Standards : Under 15 U.S. Code 1681i, credit reporting agencies are obligated to ensure the accuracy of consumer file information. This obligation has been disregarded, as evidenced by the unresolved errors in reporting.\n",
      "\n",
      "Failure to Provide Notice as Mandated by TILA : According to 15 U.S. Code 1666b, creditors are required to send periodic statements at least 21 days before the payment due date. The reported late payment for XX/XX/XXXX raises concerns about the creditor 's compliance with this requirement.\n",
      "\n",
      "Impact of Inaccurate Reporting The inaccurate reporting has significantly harmed my creditworthiness and caused undue stress. The lack of timely correction has further eroded my confidence in the accuracy and reliability of credit reporting practices. \n",
      "Desired Resolution Immediate removal of the inaccurate late payment notation for XX/XX/XXXX from my credit report with XXXX, XXXX, and TransUnion. \n",
      "Written confirmation from each credit bureau confirming the correction. \n",
      "If this issue is not resolved promptly, I will pursue further action, including potential legal proceedings and filing additional complaints with relevant regulatory agencies. \n",
      "Thank you for your attention to this matter. \n",
      "Sincerely, XXXX XXXX XXXX\n",
      "=================================\n",
      "38 Issue : Failure to properly investigate credit report errors and misrepresentation of account status by TransUnion. \n",
      "\n",
      "Company : TransUnion Complaint Type : Credit reporting issues I am writing to file a formal complaint against TransUnion for failing to properly investigate errors in my credit report, which has resulted in the re-addition of deleted items, re-aging of an account, and continuous balance increases on a charged-off account. These actions have caused significant harm to my credit score and my character and prevented me from being able to acquire credit or housing. \n",
      "\n",
      "\n",
      "Deleted items have been improperly re-added to my credit report despite prior resolutions confirming their removal. \n",
      "An account that was charged off and closed has been re-aged and continues to show inaccurate activity, including balance increases. \n",
      "This account also appears to be misrepresented by opening and closing repeatedly, further damaging my credit profile. \n",
      "I have made several attempts to resolve these issues directly with TransUnion, but the problems persist. These failures raise concerns of noncompliance with the Fair Credit Reporting Act ( FCRA ) and align with the type of inadequate investigations referenced in the Consumer Financial Protection Bureau 's recent legal actions against XXXX. TransUnion 's lack of proper investigation and resolution of these issues has negatively impacted my financial well-being. I do not believe a true investigation is being done in any capacity, and I do not mean a verification of accounts but a true and full investigation with documentation on each account and since these accounts are not receiving these investigations with no record of accounts whatsoever, they are in clear violations of the FCRA to me, the consumer, and need to be deleted immediately. \n",
      "\n",
      "The accounts in question are : XXXX XXXX XXXX XXXX XXXX XXXX XXXX XXXX XXXX XXXX XXXX XXXX XXXX XXXX\n",
      "=================================\n"
     ]
    }
   ],
   "source": [
    "count = 0\n",
    "count_end = 5\n",
    "for i in range(len(df)):\n",
    "    if i < current:\n",
    "        continue\n",
    "    if pd.isna(df.loc[i, col_to_examine]):\n",
    "        continue\n",
    "    print(i, df.loc[i, col_to_examine])\n",
    "    print('=================================')\n",
    "    count += 1\n",
    "    if count >= count_end:\n",
    "        current = i\n",
    "        break"
   ]
  },
  {
   "cell_type": "code",
   "execution_count": 35,
   "id": "0978cbc8-45f3-41df-9825-78fb781bf240",
   "metadata": {},
   "outputs": [],
   "source": [
    "def has_text(s):\n",
    "    if pd.isnull(s):\n",
    "        return False\n",
    "    if len(s) == 0:\n",
    "        return False\n",
    "    return True"
   ]
  },
  {
   "cell_type": "code",
   "execution_count": 36,
   "id": "257f26d0-28e8-479e-97b3-b1935950901f",
   "metadata": {},
   "outputs": [],
   "source": [
    "df['Has consumer complaint narrative'] = df['Consumer complaint narrative'].apply(has_text)"
   ]
  },
  {
   "cell_type": "code",
   "execution_count": 40,
   "id": "d7cc6ce2-ae53-4e5f-b771-05e6109cc211",
   "metadata": {},
   "outputs": [
    {
     "data": {
      "text/plain": [
       "Index(['Date received', 'Month received', 'Year received', 'Product',\n",
       "       'Sub-product', 'Issue', 'Sub-issue', 'Has consumer complaint narrative',\n",
       "       'Company public response', 'Company', 'State', 'ZIP code', 'Tags',\n",
       "       'Consumer consent provided?', 'Submitted via', 'Date sent to company',\n",
       "       'Company response to consumer', 'Timely response?',\n",
       "       'Consumer disputed?', 'Complaint ID'],\n",
       "      dtype='object')"
      ]
     },
     "execution_count": 40,
     "metadata": {},
     "output_type": "execute_result"
    }
   ],
   "source": [
    "df.drop('Consumer complaint narrative', axis=1, inplace=True)\n",
    "df.columns"
   ]
  },
  {
   "cell_type": "code",
   "execution_count": null,
   "id": "e4a0fa12-b85a-491f-9e9a-f5621456b941",
   "metadata": {},
   "outputs": [],
   "source": []
  },
  {
   "cell_type": "code",
   "execution_count": null,
   "id": "9a5936a8-11b5-45be-8586-25b1c9b509c6",
   "metadata": {},
   "outputs": [],
   "source": []
  },
  {
   "cell_type": "code",
   "execution_count": null,
   "id": "d2057798-db48-4d90-8671-dbd3ef3360a2",
   "metadata": {},
   "outputs": [],
   "source": []
  },
  {
   "cell_type": "code",
   "execution_count": null,
   "id": "7eadb09f-a600-4d00-be30-f27c4920fab2",
   "metadata": {},
   "outputs": [],
   "source": []
  },
  {
   "cell_type": "code",
   "execution_count": 19,
   "id": "b6c12c5a-b41e-41ef-963f-b989eea8389c",
   "metadata": {},
   "outputs": [
    {
     "data": {
      "text/plain": [
       "Company public response\n",
       "NaN                                                                                                                        3933594\n",
       "Company has responded to the consumer and the CFPB and chooses not to provide a public response                            3629886\n",
       "Company believes it acted appropriately as authorized by contract or law                                                    175548\n",
       "Company chooses not to provide a public response                                                                             52473\n",
       "Company believes the complaint is the result of a misunderstanding                                                           13637\n",
       "Company disputes the facts presented in the complaint                                                                        12898\n",
       "Company believes complaint caused principally by actions of third party outside the control or direction of the company       8200\n",
       "Company believes complaint is the result of an isolated error                                                                 6628\n",
       "Company believes complaint represents an opportunity for improvement to better serve consumers                                5164\n",
       "Company can't verify or dispute the facts in the complaint                                                                    5114\n",
       "Company believes the complaint provided an opportunity to answer consumer's questions                                         5055\n",
       "Company believes complaint relates to a discontinued policy or procedure                                                       120\n",
       "Name: count, dtype: int64"
      ]
     },
     "execution_count": 19,
     "metadata": {},
     "output_type": "execute_result"
    }
   ],
   "source": [
    "df['Company public response'].value_counts(dropna=False)"
   ]
  },
  {
   "cell_type": "code",
   "execution_count": null,
   "id": "f72f04d0-11c9-4ac3-81a2-f6b9b296ecbc",
   "metadata": {},
   "outputs": [],
   "source": []
  },
  {
   "cell_type": "code",
   "execution_count": 46,
   "id": "b3e9f2de-9d84-4b8c-a9e6-49933032b78c",
   "metadata": {},
   "outputs": [
    {
     "data": {
      "text/plain": [
       "[nan,\n",
       " 'Company has responded to the consumer and the CFPB and chooses not to provide a public response',\n",
       " 'Company believes it acted appropriately as authorized by contract or law',\n",
       " 'Company chooses not to provide a public response',\n",
       " 'Company believes the complaint is the result of a misunderstanding',\n",
       " 'Company disputes the facts presented in the complaint',\n",
       " 'Company believes complaint caused principally by actions of third party outside the control or direction of the company',\n",
       " 'Company believes complaint is the result of an isolated error',\n",
       " 'Company believes complaint represents an opportunity for improvement to better serve consumers',\n",
       " \"Company can't verify or dispute the facts in the complaint\",\n",
       " \"Company believes the complaint provided an opportunity to answer consumer's questions\",\n",
       " 'Company believes complaint relates to a discontinued policy or procedure']"
      ]
     },
     "execution_count": 46,
     "metadata": {},
     "output_type": "execute_result"
    }
   ],
   "source": [
    "df['Company public response'].value_counts(dropna=False).index.values.tolist()"
   ]
  },
  {
   "cell_type": "code",
   "execution_count": null,
   "id": "fbb1ce76-b223-441e-9eca-9ff2904073f9",
   "metadata": {},
   "outputs": [],
   "source": []
  },
  {
   "cell_type": "markdown",
   "id": "67d675e4-3ac9-4b6d-877b-6f122c035732",
   "metadata": {},
   "source": [
    "Answers from dataset->  \n",
    "[nan,  \n",
    "'Company has responded to the consumer and the CFPB and chooses not to provide a public response',  \n",
    " 'Company believes it acted appropriately as authorized by contract or law',  \n",
    " 'Company chooses not to provide a public response',  \n",
    " 'Company believes the complaint is the result of a misunderstanding',\n",
    " 'Company disputes the facts presented in the complaint',  \n",
    " 'Company believes complaint caused principally by actions of third party outside the control or direction of the company',  \n",
    " 'Company believes complaint is the result of an isolated error',  \n",
    " 'Company believes complaint represents an opportunity for improvement to better serve consumers',  \n",
    " \"Company can't verify or dispute the facts in the complaint\",  \n",
    " \"Company believes the complaint provided an opportunity to answer consumer's questions\",  \n",
    " 'Company believes complaint relates to a discontinued policy or procedure']  \n",
    "\n",
    " \n",
    "No Public Response  \n",
    "[nan, 'Company has responded to the consumer and the CFPB and chooses not to provide a public response', 'Company chooses not to provide a public response', ]  \n",
    "\n",
    "Company Acted Appropriately  \n",
    "['Company believes it acted appropriately as authorized by contract or law', 'Company believes the complaint is the result of a misunderstanding', ]  \n",
    "\n",
    "Dispute or Unverifiable Facts  \n",
    "['Company disputes the facts presented in the complaint', \"Company can't verify or dispute the facts in the complaint\",  ]  \n",
    "\n",
    "External or Isolated Issue  \n",
    "['Company believes complaint caused principally by actions of third party outside the control or direction of the company', 'Company believes complaint is the result of an isolated error', 'Company believes complaint relates to a discontinued policy or procedure']  \n",
    "\n",
    "Opportunity for Improvement  \n",
    "['Company believes complaint represents an opportunity for improvement to better serve consumers', \"Company believes the complaint provided an opportunity to answer consumer's questions\",  ]  \n",
    "\n"
   ]
  },
  {
   "cell_type": "code",
   "execution_count": 47,
   "id": "35a0b359-2931-4386-9091-5d5513fefe4d",
   "metadata": {},
   "outputs": [],
   "source": [
    "def company_response_categories(s):\n",
    "    if pd.isnull(s) or s in ['Company has responded to the consumer and the CFPB and chooses not to provide a public response', \n",
    "                             'Company chooses not to provide a public response', ]:\n",
    "        return 'No Public Response'\n",
    "    elif s in ['Company believes it acted appropriately as authorized by contract or law', \n",
    "               'Company believes the complaint is the result of a misunderstanding', ]:\n",
    "        return 'Company Acted Appropriately'\n",
    "    elif s in ['Company disputes the facts presented in the complaint', \n",
    "               \"Company can't verify or dispute the facts in the complaint\", ]:\n",
    "        return 'Dispute or Unverifiable Facts'\n",
    "    elif s in ['Company believes complaint caused principally by actions of third party outside the control or direction of the company', \n",
    "               'Company believes complaint is the result of an isolated error', \n",
    "               'Company believes complaint relates to a discontinued policy or procedure']:\n",
    "        return 'External or Isolated Issue'\n",
    "    else: # s in ['Company believes complaint represents an opportunity for improvement to better serve consumers', \n",
    "          # \"Company believes the complaint provided an opportunity to answer consumer's questions\", ]\n",
    "        return 'Opportunity for Improvement'\n"
   ]
  },
  {
   "cell_type": "code",
   "execution_count": 48,
   "id": "bda99b1c-d7f2-4417-90bf-fba7a623b9e6",
   "metadata": {},
   "outputs": [
    {
     "data": {
      "text/plain": [
       "Index(['Date received', 'Month received', 'Year received', 'Product',\n",
       "       'Sub-product', 'Issue', 'Sub-issue', 'Has consumer complaint narrative',\n",
       "       'Company public response', 'Company', 'State', 'ZIP code', 'Tags',\n",
       "       'Consumer consent provided?', 'Submitted via', 'Date sent to company',\n",
       "       'Company response to consumer', 'Timely response?',\n",
       "       'Consumer disputed?', 'Complaint ID'],\n",
       "      dtype='object')"
      ]
     },
     "execution_count": 48,
     "metadata": {},
     "output_type": "execute_result"
    }
   ],
   "source": [
    "df.columns"
   ]
  },
  {
   "cell_type": "code",
   "execution_count": 49,
   "id": "e4f41f2f-42f7-4e21-85cc-0427d062be6d",
   "metadata": {},
   "outputs": [],
   "source": [
    "df['Company public response'] = df['Company public response'].apply(company_response_categories)\n",
    "df.columns = ['Date received', 'Month received', 'Year received', 'Product',\n",
    "       'Sub-product', 'Issue', 'Sub-issue', 'Has consumer complaint narrative',\n",
    "       'Company response', 'Company', 'State', 'ZIP code', 'Tags',\n",
    "       'Consumer consent provided?', 'Submitted via', 'Date sent to company',\n",
    "       'Company response to consumer', 'Timely response?',\n",
    "       'Consumer disputed?', 'Complaint ID']"
   ]
  },
  {
   "cell_type": "code",
   "execution_count": 50,
   "id": "9b0f389d-bc9c-4869-b8ba-18865888a0fd",
   "metadata": {},
   "outputs": [
    {
     "data": {
      "text/plain": [
       "Index(['Date received', 'Month received', 'Year received', 'Product',\n",
       "       'Sub-product', 'Issue', 'Sub-issue', 'Has consumer complaint narrative',\n",
       "       'Company response', 'Company', 'State', 'ZIP code', 'Tags',\n",
       "       'Consumer consent provided?', 'Submitted via', 'Date sent to company',\n",
       "       'Company response to consumer', 'Timely response?',\n",
       "       'Consumer disputed?', 'Complaint ID'],\n",
       "      dtype='object')"
      ]
     },
     "execution_count": 50,
     "metadata": {},
     "output_type": "execute_result"
    }
   ],
   "source": [
    "df.columns"
   ]
  },
  {
   "cell_type": "code",
   "execution_count": null,
   "id": "8ee7217a-99d9-4f75-8fd8-0327c4f17b00",
   "metadata": {},
   "outputs": [],
   "source": []
  },
  {
   "cell_type": "code",
   "execution_count": null,
   "id": "e32e7959-4dc5-4087-be07-81b9c195251b",
   "metadata": {},
   "outputs": [],
   "source": []
  },
  {
   "cell_type": "code",
   "execution_count": null,
   "id": "6acf4805-520d-47e7-9d50-256763b4adda",
   "metadata": {},
   "outputs": [],
   "source": []
  },
  {
   "cell_type": "markdown",
   "id": "4e10c069-8f5e-4777-9b9b-d9d74019f436",
   "metadata": {},
   "source": [
    "`Company` seems like a pretty clean column so I'll leave it as is and use it as an interactive filter"
   ]
  },
  {
   "cell_type": "code",
   "execution_count": 62,
   "id": "60796d3e-d8ed-4b0d-898f-357126c1e024",
   "metadata": {},
   "outputs": [
    {
     "data": {
      "text/plain": [
       "['EQUIFAX, INC.',\n",
       " 'TRANSUNION INTERMEDIATE HOLDINGS, INC.',\n",
       " 'Experian Information Solutions Inc.',\n",
       " 'BANK OF AMERICA, NATIONAL ASSOCIATION',\n",
       " 'WELLS FARGO & COMPANY',\n",
       " 'JPMORGAN CHASE & CO.',\n",
       " 'CAPITAL ONE FINANCIAL CORPORATION',\n",
       " 'CITIBANK, N.A.',\n",
       " 'SYNCHRONY FINANCIAL',\n",
       " 'Block, Inc.',\n",
       " 'Navient Solutions, LLC.',\n",
       " 'AMERICAN EXPRESS COMPANY',\n",
       " 'U.S. BANCORP',\n",
       " 'Onity Group Inc.',\n",
       " 'PORTFOLIO RECOVERY ASSOCIATES INC',\n",
       " 'DISCOVER BANK',\n",
       " 'ENCORE CAPITAL GROUP INC.',\n",
       " 'Resurgent Capital Services L.P.',\n",
       " 'NAVY FEDERAL CREDIT UNION',\n",
       " 'Bread Financial Holdings, Inc.']"
      ]
     },
     "execution_count": 62,
     "metadata": {},
     "output_type": "execute_result"
    }
   ],
   "source": [
    "df['Company'].value_counts().index.tolist()[:20]"
   ]
  },
  {
   "cell_type": "code",
   "execution_count": 69,
   "id": "1b06dd52-a412-4d93-bf45-3d282b914af2",
   "metadata": {},
   "outputs": [
    {
     "data": {
      "text/plain": [
       "['JPMORGAN CHASE & CO.']"
      ]
     },
     "execution_count": 69,
     "metadata": {},
     "output_type": "execute_result"
    }
   ],
   "source": [
    "[x for x in df['Company'].value_counts().index.tolist() if 'chase' in x.lower()]"
   ]
  },
  {
   "cell_type": "code",
   "execution_count": 70,
   "id": "2f609032-5660-4fd6-9f2f-4d6503acfa12",
   "metadata": {},
   "outputs": [
    {
     "data": {
      "text/plain": [
       "7539"
      ]
     },
     "execution_count": 70,
     "metadata": {},
     "output_type": "execute_result"
    }
   ],
   "source": [
    "df['Company'].nunique()"
   ]
  },
  {
   "cell_type": "code",
   "execution_count": null,
   "id": "98255104-2f77-44d5-94d2-56008f2aec58",
   "metadata": {},
   "outputs": [],
   "source": []
  },
  {
   "cell_type": "markdown",
   "id": "117b253b-dbcf-4ca6-a7fc-40c8ef708214",
   "metadata": {},
   "source": [
    "Geographic features (`State` and `ZIP code`). Will need to add a geospatial file of US zip codes to be able to map these onto a Tableau map (either using the boundaries themselves ideally or by getting a centroid of the zip code).\n",
    "\n",
    "Apologies to any of the Armed Forces abroad or citizens living in any of the territories and what not, but for the sake of simplificiation, I'll remove any entry not in the 50 states+DC (also partially for zip code concerns."
   ]
  },
  {
   "cell_type": "code",
   "execution_count": 72,
   "id": "bc1b2f6b-1e82-445d-b3bc-0088aa2f37ff",
   "metadata": {},
   "outputs": [
    {
     "data": {
      "text/plain": [
       "State\n",
       "FL    1005190\n",
       "TX     912451\n",
       "CA     846771\n",
       "GA     557229\n",
       "NY     508269\n",
       "       ...   \n",
       "AA         96\n",
       "AS         71\n",
       "MP         68\n",
       "MH         33\n",
       "PW         13\n",
       "Name: count, Length: 64, dtype: int64"
      ]
     },
     "execution_count": 72,
     "metadata": {},
     "output_type": "execute_result"
    }
   ],
   "source": [
    "df['State'].value_counts(dropna=False)"
   ]
  },
  {
   "cell_type": "code",
   "execution_count": 81,
   "id": "e06b0639-4cab-4094-b855-7f632e5dbb50",
   "metadata": {},
   "outputs": [],
   "source": [
    "states = df['State'].value_counts().index.tolist()"
   ]
  },
  {
   "cell_type": "code",
   "execution_count": 79,
   "id": "bb3099ae-f200-45f0-a415-0dd2268a66fb",
   "metadata": {},
   "outputs": [],
   "source": [
    "# from this github gist : https://gist.github.com/JeffPaine/3083347\n",
    "states_dc = [\"AK\", \"AL\", \"AR\", \"AZ\", \"CA\", \"CO\", \"CT\", \"DE\", \"FL\", \"GA\", \"HI\", \"IA\",\n",
    "    \"ID\", \"IL\", \"IN\", \"KS\", \"KY\", \"LA\", \"MA\", \"MD\", \"ME\", \"MI\", \"MN\", \"MO\",\n",
    "    \"MS\", \"MT\", \"NC\", \"ND\", \"NE\", \"NH\", \"NJ\", \"NM\", \"NV\", \"NY\", \"OH\", \"OK\",\n",
    "    \"OR\", \"PA\", \"RI\", \"SC\", \"SD\", \"TN\", \"TX\", \"UT\", \"VA\", \"VT\", \"WA\", \"WI\",\n",
    "    \"WV\", \"WY\",\n",
    "    \"DC\",]"
   ]
  },
  {
   "cell_type": "code",
   "execution_count": 80,
   "id": "48f0f075-5b8e-48c2-8950-dd0159ebc045",
   "metadata": {},
   "outputs": [
    {
     "data": {
      "text/plain": [
       "51"
      ]
     },
     "execution_count": 80,
     "metadata": {},
     "output_type": "execute_result"
    }
   ],
   "source": [
    "len(states_dc)"
   ]
  },
  {
   "cell_type": "code",
   "execution_count": 82,
   "id": "baf509d3-1834-43e0-931a-9d798ca72a2c",
   "metadata": {},
   "outputs": [
    {
     "name": "stdout",
     "output_type": "stream",
     "text": [
      "PR VI AE AP UNITED STATES MINOR OUTLYING ISLANDS GU FM AA AS MP MH PW "
     ]
    }
   ],
   "source": [
    "for state in states:\n",
    "    if state not in states_dc:\n",
    "        print(state, end=' ')"
   ]
  },
  {
   "cell_type": "raw",
   "id": "22c833ba-1699-4f7a-8174-c9824aa51764",
   "metadata": {},
   "source": [
    "PR = Puerto Rico\n",
    "VI = US Virgin Islands\n",
    "AE = Armed Forces Africa, Europe, Middle East, and Canada\n",
    "AP = Armed Forces Pacific\n",
    "UNITED STATES MINOR OUTLYING ISLANDS\n",
    "GU = Guam\n",
    "FM = Federated States of Micronesia\n",
    "AA = Armed Forces Americas (except Canada)\n",
    "AS = American Samoa\n",
    "MP = Northern Mariana Islands\n",
    "MH = Marshall Islands\n",
    "PW = Palau"
   ]
  },
  {
   "cell_type": "code",
   "execution_count": 83,
   "id": "df9a5316-78e6-4015-a4ff-0b8ccaeefcca",
   "metadata": {},
   "outputs": [
    {
     "data": {
      "text/plain": [
       "7848317"
      ]
     },
     "execution_count": 83,
     "metadata": {},
     "output_type": "execute_result"
    }
   ],
   "source": [
    "len(df)"
   ]
  },
  {
   "cell_type": "code",
   "execution_count": 85,
   "id": "fc9334d0-081b-42d8-8a6f-f3a9a063b369",
   "metadata": {},
   "outputs": [],
   "source": [
    "df = df[df['State'].isin(states_dc)]"
   ]
  },
  {
   "cell_type": "code",
   "execution_count": 87,
   "id": "d5e12f11-03fe-4901-992a-d4258f6a841e",
   "metadata": {},
   "outputs": [
    {
     "data": {
      "text/plain": [
       "7767184"
      ]
     },
     "execution_count": 87,
     "metadata": {},
     "output_type": "execute_result"
    }
   ],
   "source": [
    "len(df)"
   ]
  },
  {
   "cell_type": "code",
   "execution_count": null,
   "id": "f99d8d96-611b-4e45-ad46-3b77d7bc4573",
   "metadata": {},
   "outputs": [],
   "source": []
  },
  {
   "cell_type": "code",
   "execution_count": 90,
   "id": "b134511f-17d8-4225-9c55-89cb5e0d5d5c",
   "metadata": {},
   "outputs": [
    {
     "data": {
      "text/plain": [
       "34105"
      ]
     },
     "execution_count": 90,
     "metadata": {},
     "output_type": "execute_result"
    }
   ],
   "source": [
    "df['ZIP code'].nunique()"
   ]
  },
  {
   "cell_type": "code",
   "execution_count": 91,
   "id": "53d6a11c-fe43-4a05-8204-4c4e1c5ca406",
   "metadata": {},
   "outputs": [
    {
     "data": {
      "text/plain": [
       "ZIP code\n",
       "XXXXX    128419\n",
       "30349     15125\n",
       "33025     12152\n",
       "19143     11593\n",
       "77449     10631\n",
       "          ...  \n",
       "35575         1\n",
       "43626         1\n",
       "61617         1\n",
       "96858         1\n",
       "01696         1\n",
       "Name: count, Length: 34106, dtype: int64"
      ]
     },
     "execution_count": 91,
     "metadata": {},
     "output_type": "execute_result"
    }
   ],
   "source": [
    "df['ZIP code'].value_counts(dropna=False)"
   ]
  },
  {
   "cell_type": "code",
   "execution_count": 95,
   "id": "6295f35a-a632-42ad-bdb9-eb719f803202",
   "metadata": {},
   "outputs": [
    {
     "data": {
      "text/plain": [
       "7638765"
      ]
     },
     "execution_count": 95,
     "metadata": {},
     "output_type": "execute_result"
    }
   ],
   "source": [
    "df = df[df['ZIP code'] != 'XXXXX']\n",
    "len(df)"
   ]
  },
  {
   "cell_type": "code",
   "execution_count": null,
   "id": "1af74bee-4b61-4846-ac4a-d7097040a388",
   "metadata": {},
   "outputs": [],
   "source": []
  },
  {
   "cell_type": "code",
   "execution_count": null,
   "id": "4b8e609e-eafe-48e5-833f-6a105174c145",
   "metadata": {},
   "outputs": [],
   "source": []
  },
  {
   "cell_type": "markdown",
   "id": "740259f3-c04d-4928-b1dc-1cea8533b707",
   "metadata": {},
   "source": [
    "`Tags` are interesting data, but I don't think I'll use it in any way, so I'll toss it for now"
   ]
  },
  {
   "cell_type": "code",
   "execution_count": 96,
   "id": "ba8d715d-f726-4f41-878a-2cfd002da455",
   "metadata": {},
   "outputs": [
    {
     "data": {
      "text/plain": [
       "Tags\n",
       "Servicemember                    339493\n",
       "Older American                   167801\n",
       "Older American, Servicemember     41873\n",
       "Name: count, dtype: int64"
      ]
     },
     "execution_count": 96,
     "metadata": {},
     "output_type": "execute_result"
    }
   ],
   "source": [
    "df['Tags'].value_counts()"
   ]
  },
  {
   "cell_type": "code",
   "execution_count": 98,
   "id": "ac0e5ed8-12bd-4b2d-9582-d1fa82cb8baf",
   "metadata": {},
   "outputs": [
    {
     "data": {
      "text/plain": [
       "Index(['Date received', 'Month received', 'Year received', 'Product',\n",
       "       'Sub-product', 'Issue', 'Sub-issue', 'Has consumer complaint narrative',\n",
       "       'Company response', 'Company', 'State', 'ZIP code',\n",
       "       'Consumer consent provided?', 'Submitted via', 'Date sent to company',\n",
       "       'Company response to consumer', 'Timely response?',\n",
       "       'Consumer disputed?', 'Complaint ID'],\n",
       "      dtype='object')"
      ]
     },
     "execution_count": 98,
     "metadata": {},
     "output_type": "execute_result"
    }
   ],
   "source": [
    "df.drop('Tags', axis=1, inplace=True)\n",
    "df.columns"
   ]
  },
  {
   "cell_type": "code",
   "execution_count": null,
   "id": "e10be429-1ce6-4cc4-b227-32b548e217f0",
   "metadata": {},
   "outputs": [],
   "source": []
  },
  {
   "cell_type": "markdown",
   "id": "186aace9-55d8-4755-a220-4be4152e3f50",
   "metadata": {},
   "source": [
    "Likewise with consumer consent (`Consumer consent provided?`) information"
   ]
  },
  {
   "cell_type": "code",
   "execution_count": 99,
   "id": "dac2329a-71b6-4978-89f0-b95478fcb5e5",
   "metadata": {},
   "outputs": [
    {
     "data": {
      "text/plain": [
       "Consumer consent provided?\n",
       "Consent not provided    3558645\n",
       "Consent provided        2386493\n",
       "Other                    299573\n",
       "Consent withdrawn         11754\n",
       "Name: count, dtype: int64"
      ]
     },
     "execution_count": 99,
     "metadata": {},
     "output_type": "execute_result"
    }
   ],
   "source": [
    "df['Consumer consent provided?'].value_counts()"
   ]
  },
  {
   "cell_type": "code",
   "execution_count": 100,
   "id": "d7ed2f07-5a63-4c43-b0bc-e792439a517b",
   "metadata": {},
   "outputs": [
    {
     "data": {
      "text/plain": [
       "Index(['Date received', 'Month received', 'Year received', 'Product',\n",
       "       'Sub-product', 'Issue', 'Sub-issue', 'Has consumer complaint narrative',\n",
       "       'Company response', 'Company', 'State', 'ZIP code', 'Submitted via',\n",
       "       'Date sent to company', 'Company response to consumer',\n",
       "       'Timely response?', 'Consumer disputed?', 'Complaint ID'],\n",
       "      dtype='object')"
      ]
     },
     "execution_count": 100,
     "metadata": {},
     "output_type": "execute_result"
    }
   ],
   "source": [
    "df.drop('Consumer consent provided?', axis=1, inplace=True)\n",
    "df.columns"
   ]
  },
  {
   "cell_type": "code",
   "execution_count": null,
   "id": "06305764-ade5-4547-8590-e0072259a92d",
   "metadata": {},
   "outputs": [],
   "source": []
  },
  {
   "cell_type": "markdown",
   "id": "757e0c45-36ac-42b1-b1ca-c0cd3c398a45",
   "metadata": {},
   "source": [
    "Probably won't use `Submitted via` but will keep for now"
   ]
  },
  {
   "cell_type": "code",
   "execution_count": 102,
   "id": "2bc15156-d208-464c-bff2-0a4ec1c13b64",
   "metadata": {},
   "outputs": [
    {
     "data": {
      "text/plain": [
       "Submitted via\n",
       "Web             7091239\n",
       "Referral         249593\n",
       "Phone            173813\n",
       "Postal mail       97852\n",
       "Fax               24674\n",
       "Web Referral       1239\n",
       "Email               355\n",
       "Name: count, dtype: int64"
      ]
     },
     "execution_count": 102,
     "metadata": {},
     "output_type": "execute_result"
    }
   ],
   "source": [
    "df['Submitted via'].value_counts()"
   ]
  },
  {
   "cell_type": "code",
   "execution_count": null,
   "id": "afcf5514-045e-4b70-8aa0-dfbf93356370",
   "metadata": {},
   "outputs": [],
   "source": []
  },
  {
   "cell_type": "markdown",
   "id": "cd29e012-e680-4250-995b-2d946fea98da",
   "metadata": {},
   "source": [
    "`Date sent to company` doesn't seem to interesting as a column as most seem to be instantly sent, so I'll remove this."
   ]
  },
  {
   "cell_type": "code",
   "execution_count": 109,
   "id": "d6819bc6-1280-4517-907a-284ff56d55f6",
   "metadata": {},
   "outputs": [
    {
     "data": {
      "text/plain": [
       "0          0 days\n",
       "1          0 days\n",
       "2          6 days\n",
       "3          0 days\n",
       "4          0 days\n",
       "            ...  \n",
       "7848312    0 days\n",
       "7848313    0 days\n",
       "7848314    0 days\n",
       "7848315    1 days\n",
       "7848316   15 days\n",
       "Length: 7638765, dtype: timedelta64[ns]"
      ]
     },
     "execution_count": 109,
     "metadata": {},
     "output_type": "execute_result"
    }
   ],
   "source": [
    "pd.to_datetime(df['Date sent to company']) - pd.to_datetime(df['Date received'])"
   ]
  },
  {
   "cell_type": "code",
   "execution_count": 106,
   "id": "a9618a1b-0b45-45a0-bd11-885fb682f6a7",
   "metadata": {},
   "outputs": [
    {
     "data": {
      "text/plain": [
       "Timedelta('0 days 20:48:18.968092355')"
      ]
     },
     "execution_count": 106,
     "metadata": {},
     "output_type": "execute_result"
    }
   ],
   "source": [
    "(pd.to_datetime(df['Date sent to company']) - pd.to_datetime(df['Date received'])).mean()"
   ]
  },
  {
   "cell_type": "code",
   "execution_count": 110,
   "id": "071fea95-6f65-4d17-96c7-5f3902f73d59",
   "metadata": {},
   "outputs": [
    {
     "data": {
      "text/plain": [
       "Index(['Date received', 'Month received', 'Year received', 'Product',\n",
       "       'Sub-product', 'Issue', 'Sub-issue', 'Has consumer complaint narrative',\n",
       "       'Company response', 'Company', 'State', 'ZIP code', 'Submitted via',\n",
       "       'Company response to consumer', 'Timely response?',\n",
       "       'Consumer disputed?', 'Complaint ID'],\n",
       "      dtype='object')"
      ]
     },
     "execution_count": 110,
     "metadata": {},
     "output_type": "execute_result"
    }
   ],
   "source": [
    "df.drop('Date sent to company', axis=1, inplace=True)\n",
    "df.columns"
   ]
  },
  {
   "cell_type": "code",
   "execution_count": null,
   "id": "03fe8217-b3d4-448a-a580-3d664035fb1f",
   "metadata": {},
   "outputs": [],
   "source": []
  },
  {
   "cell_type": "code",
   "execution_count": null,
   "id": "ff8dea24-510c-4856-b4b8-74d44f73cf3f",
   "metadata": {},
   "outputs": [],
   "source": []
  },
  {
   "cell_type": "code",
   "execution_count": 111,
   "id": "e6026c91-10d2-4ed7-a0e7-908b65d11c67",
   "metadata": {},
   "outputs": [
    {
     "data": {
      "text/plain": [
       "Company response to consumer\n",
       "Closed with explanation            4509541\n",
       "Closed with non-monetary relief    2449017\n",
       "In progress                         464718\n",
       "Closed with monetary relief         163937\n",
       "Closed without relief                17724\n",
       "Closed                               17210\n",
       "Untimely response                    11354\n",
       "Closed with relief                    5244\n",
       "NaN                                     20\n",
       "Name: count, dtype: int64"
      ]
     },
     "execution_count": 111,
     "metadata": {},
     "output_type": "execute_result"
    }
   ],
   "source": [
    "df['Company response to consumer'].value_counts(dropna=False)"
   ]
  },
  {
   "cell_type": "code",
   "execution_count": 112,
   "id": "7e65aab0-ecfb-47d4-82e1-cce608d43e0d",
   "metadata": {},
   "outputs": [
    {
     "data": {
      "text/plain": [
       "0.06083679757133516"
      ]
     },
     "execution_count": 112,
     "metadata": {},
     "output_type": "execute_result"
    }
   ],
   "source": [
    "464718/7638765"
   ]
  },
  {
   "cell_type": "code",
   "execution_count": 115,
   "id": "c3dbe7c9-a0e8-43a5-98df-43d4adb434f1",
   "metadata": {},
   "outputs": [
    {
     "data": {
      "text/plain": [
       "['In progress',\n",
       " 'Closed with non-monetary relief',\n",
       " 'Closed with explanation',\n",
       " 'Untimely response',\n",
       " 'Closed without relief',\n",
       " 'Closed with monetary relief',\n",
       " 'Closed with relief',\n",
       " 'Closed',\n",
       " nan]"
      ]
     },
     "execution_count": 115,
     "metadata": {},
     "output_type": "execute_result"
    }
   ],
   "source": [
    "df['Company response to consumer'].unique().tolist()"
   ]
  },
  {
   "cell_type": "markdown",
   "id": "491ef0b1-6da5-4892-bb02-a1370642823b",
   "metadata": {},
   "source": [
    "Grouping these up:  \n",
    "['In progress',\n",
    " 'Closed with non-monetary relief',\n",
    " 'Closed with explanation',\n",
    " 'Untimely response',\n",
    " 'Closed without relief',\n",
    " 'Closed with monetary relief',\n",
    " 'Closed with relief',\n",
    " 'Closed',\n",
    " nan]  \n",
    "\n",
    "Closed (relief unknown)  \n",
    "['Closed', nan]  \n",
    "'Closed with relief'  \n",
    "['Closed with non-monetary relief', 'Closed with monetary relief', 'Closed with relief',]  \n",
    "'Closed without relief'  \n",
    "['Closed without relief', 'Closed with explanation',]  \n",
    "'Untimely response'  \n",
    "['Untimely response',]  \n",
    "'In progress'  \n",
    "['In progress',]  "
   ]
  },
  {
   "cell_type": "code",
   "execution_count": 126,
   "id": "abbf2e1e-a4d6-4d92-8863-26f5f85e554a",
   "metadata": {},
   "outputs": [],
   "source": [
    "def company_response_to_consumer_categories(s):\n",
    "    if pd.isnull(s) or s in ['Closed',]:\n",
    "        return 'Closed (relief unknown)'\n",
    "    elif s in ['Closed with non-monetary relief', \n",
    "               'Closed with monetary relief', \n",
    "               'Closed with relief',]:\n",
    "        return 'Closed with relief'\n",
    "    elif s in ['Closed without relief', \n",
    "               'Closed with explanation',]:\n",
    "        return 'Closed without relief'\n",
    "    elif s in ['Untimely response',]:\n",
    "        return 'Untimely response'\n",
    "    else: # ['In progress',]\n",
    "        return 'In progress'"
   ]
  },
  {
   "cell_type": "code",
   "execution_count": 127,
   "id": "35f03ac2-015d-4b7e-87be-ce29e5c14df1",
   "metadata": {},
   "outputs": [],
   "source": [
    "df['Company response to consumer'] = (\n",
    "    df['Company response to consumer']\n",
    "    .apply(company_response_to_consumer_categories)\n",
    ")"
   ]
  },
  {
   "cell_type": "code",
   "execution_count": 128,
   "id": "b84fe9e4-6487-4d1d-803c-6ebe96c8ff72",
   "metadata": {},
   "outputs": [
    {
     "data": {
      "text/plain": [
       "Company response to consumer\n",
       "Closed without relief      4527265\n",
       "Closed with relief         2618198\n",
       "In progress                 464718\n",
       "Closed (relief unknown)      17230\n",
       "Untimely response            11354\n",
       "Name: count, dtype: int64"
      ]
     },
     "execution_count": 128,
     "metadata": {},
     "output_type": "execute_result"
    }
   ],
   "source": [
    "df['Company response to consumer'].value_counts()"
   ]
  },
  {
   "cell_type": "code",
   "execution_count": null,
   "id": "bd85502c-33f3-4f8f-8bd8-02836d000e08",
   "metadata": {},
   "outputs": [],
   "source": []
  },
  {
   "cell_type": "markdown",
   "id": "09bf2bb9-845b-41c1-a401-6c4b8f55fff9",
   "metadata": {},
   "source": [
    "Will leave `Timely response?` as is"
   ]
  },
  {
   "cell_type": "code",
   "execution_count": 131,
   "id": "f703cbe4-6f10-4944-8f46-4c78f85b9650",
   "metadata": {},
   "outputs": [
    {
     "data": {
      "text/plain": [
       "Timely response?\n",
       "Yes    7576280\n",
       "No       62485\n",
       "Name: count, dtype: int64"
      ]
     },
     "execution_count": 131,
     "metadata": {},
     "output_type": "execute_result"
    }
   ],
   "source": [
    "df['Timely response?'].value_counts(dropna=False)"
   ]
  },
  {
   "cell_type": "code",
   "execution_count": 133,
   "id": "6035a25d-9085-4fa7-9974-2d330bed07cb",
   "metadata": {},
   "outputs": [
    {
     "data": {
      "text/plain": [
       "Timely response?\n",
       "No    11354\n",
       "Name: count, dtype: int64"
      ]
     },
     "execution_count": 133,
     "metadata": {},
     "output_type": "execute_result"
    }
   ],
   "source": [
    "df[df['Company response to consumer']=='Untimely response']['Timely response?'].value_counts()"
   ]
  },
  {
   "cell_type": "code",
   "execution_count": 134,
   "id": "e9a3630b-5726-4de5-83b8-4f7cff9ce3ff",
   "metadata": {},
   "outputs": [
    {
     "data": {
      "text/plain": [
       "Company response to consumer\n",
       "Closed without relief      43770\n",
       "Untimely response          11354\n",
       "Closed with relief          5658\n",
       "Closed (relief unknown)     1703\n",
       "Name: count, dtype: int64"
      ]
     },
     "execution_count": 134,
     "metadata": {},
     "output_type": "execute_result"
    }
   ],
   "source": [
    "df[df['Timely response?']=='No']['Company response to consumer'].value_counts()"
   ]
  },
  {
   "cell_type": "code",
   "execution_count": null,
   "id": "0c193e4c-68aa-4bea-a9a4-c725dd5bdff9",
   "metadata": {},
   "outputs": [],
   "source": []
  },
  {
   "cell_type": "markdown",
   "id": "b84f2c87-a77d-4860-aab1-1553540e3255",
   "metadata": {},
   "source": [
    "I will remove `Consumer disputed?` as it's a few levels in to this process (complaint -> response -> dispute) and there's the vast majority of the records missing values."
   ]
  },
  {
   "cell_type": "code",
   "execution_count": 135,
   "id": "d6c98826-e495-45b9-aac2-fe7d7da102b9",
   "metadata": {},
   "outputs": [
    {
     "data": {
      "text/plain": [
       "Consumer disputed?\n",
       "NaN    6886841\n",
       "No      607164\n",
       "Yes     144760\n",
       "Name: count, dtype: int64"
      ]
     },
     "execution_count": 135,
     "metadata": {},
     "output_type": "execute_result"
    }
   ],
   "source": [
    "df['Consumer disputed?'].value_counts(dropna=False)"
   ]
  },
  {
   "cell_type": "code",
   "execution_count": 136,
   "id": "da0a0a89-9fb4-45fe-b09f-66d355d513cf",
   "metadata": {},
   "outputs": [],
   "source": [
    "df.drop('Consumer disputed?', axis=1, inplace=True)"
   ]
  },
  {
   "cell_type": "code",
   "execution_count": 138,
   "id": "b122af24-eb24-4bb4-a866-f47a6eb9e689",
   "metadata": {},
   "outputs": [
    {
     "data": {
      "text/plain": [
       "Index(['Date received', 'Month received', 'Year received', 'Product',\n",
       "       'Sub-product', 'Issue', 'Sub-issue', 'Has consumer complaint narrative',\n",
       "       'Company response', 'Company', 'State', 'ZIP code', 'Submitted via',\n",
       "       'Company response to consumer', 'Timely response?', 'Complaint ID'],\n",
       "      dtype='object')"
      ]
     },
     "execution_count": 138,
     "metadata": {},
     "output_type": "execute_result"
    }
   ],
   "source": [
    "df.columns"
   ]
  },
  {
   "cell_type": "code",
   "execution_count": null,
   "id": "fb7745d5-3eab-4408-9517-818a4b7a3d62",
   "metadata": {},
   "outputs": [],
   "source": []
  },
  {
   "cell_type": "markdown",
   "id": "06510810-1ec2-4866-9ef0-5dafb16b79ae",
   "metadata": {},
   "source": [
    "Will also drop `Complaint ID`."
   ]
  },
  {
   "cell_type": "code",
   "execution_count": 140,
   "id": "4496b31f-700b-4867-80f6-8ba3d0c49aec",
   "metadata": {},
   "outputs": [],
   "source": [
    "df.drop('Complaint ID', axis=1, inplace=True)"
   ]
  },
  {
   "cell_type": "code",
   "execution_count": 141,
   "id": "e6edaeeb-9cc5-4458-8e23-14d494156a07",
   "metadata": {},
   "outputs": [
    {
     "data": {
      "text/plain": [
       "Index(['Date received', 'Month received', 'Year received', 'Product',\n",
       "       'Sub-product', 'Issue', 'Sub-issue', 'Has consumer complaint narrative',\n",
       "       'Company response', 'Company', 'State', 'ZIP code', 'Submitted via',\n",
       "       'Company response to consumer', 'Timely response?'],\n",
       "      dtype='object')"
      ]
     },
     "execution_count": 141,
     "metadata": {},
     "output_type": "execute_result"
    }
   ],
   "source": [
    "df.columns"
   ]
  },
  {
   "cell_type": "code",
   "execution_count": null,
   "id": "143a87db-de28-48af-8299-b66f23c09726",
   "metadata": {},
   "outputs": [],
   "source": []
  },
  {
   "cell_type": "code",
   "execution_count": 143,
   "id": "ad8fa404-fab9-4edc-8e78-22dbb6e4478a",
   "metadata": {},
   "outputs": [],
   "source": [
    "df.to_csv('data/cfpb_complaints_processed.csv', index=False)"
   ]
  },
  {
   "cell_type": "code",
   "execution_count": 144,
   "id": "5bcb805c-09c9-49c0-b324-76b58e47a24c",
   "metadata": {},
   "outputs": [
    {
     "data": {
      "text/plain": [
       "7638765"
      ]
     },
     "execution_count": 144,
     "metadata": {},
     "output_type": "execute_result"
    }
   ],
   "source": [
    "len(df)"
   ]
  },
  {
   "cell_type": "code",
   "execution_count": null,
   "id": "a82cc614-46d2-4190-ab8e-5297a2692c7f",
   "metadata": {},
   "outputs": [],
   "source": []
  },
  {
   "cell_type": "code",
   "execution_count": null,
   "id": "44d5dbb7-d0e2-48bf-aa47-12080d2a2f9d",
   "metadata": {},
   "outputs": [],
   "source": []
  },
  {
   "cell_type": "markdown",
   "id": "295e65bd-5451-439f-88ad-4ef9064d78f7",
   "metadata": {},
   "source": [
    "Here's a sampled version (of just years 2017 and 2018) to upload to github. The full version should be on the CFPB website listed at the top of this notebook."
   ]
  },
  {
   "cell_type": "code",
   "execution_count": 3,
   "id": "4b17f69f-7384-45fe-b028-74d81bec7145",
   "metadata": {},
   "outputs": [],
   "source": [
    "df = pd.read_csv('data/cfpb_complaints_processed.csv')"
   ]
  },
  {
   "cell_type": "code",
   "execution_count": 4,
   "id": "8cafd175-9109-4fe1-9faa-d68d98611adc",
   "metadata": {},
   "outputs": [
    {
     "data": {
      "text/plain": [
       "7638765"
      ]
     },
     "execution_count": 4,
     "metadata": {},
     "output_type": "execute_result"
    }
   ],
   "source": [
    "len(df)"
   ]
  },
  {
   "cell_type": "code",
   "execution_count": 19,
   "id": "175a0986-53db-451a-b1ac-7416804b123f",
   "metadata": {},
   "outputs": [],
   "source": [
    "years = [2017, 2018]"
   ]
  },
  {
   "cell_type": "code",
   "execution_count": 20,
   "id": "d9a22b87-7e52-49f6-aaba-3aa4c23f8a45",
   "metadata": {},
   "outputs": [
    {
     "data": {
      "text/plain": [
       "464762"
      ]
     },
     "execution_count": 20,
     "metadata": {},
     "output_type": "execute_result"
    }
   ],
   "source": [
    "len(df[df['Year received'].isin(years)])"
   ]
  },
  {
   "cell_type": "code",
   "execution_count": 21,
   "id": "58dd418f-2b07-4014-b683-06c44dbd736e",
   "metadata": {},
   "outputs": [],
   "source": [
    "df[df['Year received'].isin(years)].to_csv('cfpb_sample.csv', index=False)"
   ]
  },
  {
   "cell_type": "code",
   "execution_count": null,
   "id": "0cf91a7d-1d8b-42d1-9d39-d3d1fe8cba24",
   "metadata": {},
   "outputs": [],
   "source": []
  },
  {
   "cell_type": "code",
   "execution_count": null,
   "id": "4746da5e-c281-4051-a329-d2e4636e30a3",
   "metadata": {},
   "outputs": [],
   "source": []
  },
  {
   "cell_type": "code",
   "execution_count": null,
   "id": "0d3dcec0-29eb-496b-8237-ccf2578a19ed",
   "metadata": {},
   "outputs": [],
   "source": []
  }
 ],
 "metadata": {
  "kernelspec": {
   "display_name": "Python 3 (ipykernel)",
   "language": "python",
   "name": "python3"
  },
  "language_info": {
   "codemirror_mode": {
    "name": "ipython",
    "version": 3
   },
   "file_extension": ".py",
   "mimetype": "text/x-python",
   "name": "python",
   "nbconvert_exporter": "python",
   "pygments_lexer": "ipython3",
   "version": "3.10.14"
  }
 },
 "nbformat": 4,
 "nbformat_minor": 5
}
