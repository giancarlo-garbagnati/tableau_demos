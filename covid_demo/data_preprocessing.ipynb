{
 "cells": [
  {
   "cell_type": "code",
   "execution_count": null,
   "id": "5491a6bb-b245-4774-8994-f0d927d46cbb",
   "metadata": {},
   "outputs": [],
   "source": []
  },
  {
   "cell_type": "markdown",
   "id": "4f15f7a8-76bf-4c6d-9e42-86aa1bcf99d8",
   "metadata": {},
   "source": [
    "Processing notebook for COVID datasets to be used in a Tableau dashboard"
   ]
  },
  {
   "cell_type": "markdown",
   "id": "c8e58cf0-bf4b-4a31-ab95-8740c0a1b75f",
   "metadata": {},
   "source": [
    "Sources\n",
    "\n",
    "1) https://data.cdc.gov/Case-Surveillance/COVID-19-Case-Surveillance-Public-Use-Data/vbim-akqf/about_data\n",
    "Filtered on the CDC website by:\n",
    "- sex - not one of 'Unknown', 'Missing', 'NA', 'Other'\n",
    "- age_group - not one of 'Missing', 'NA'\n",
    "- race_ethnicity_combined - not one of 'Unknown', 'Missing', 'NA'\n",
    "- Remove all rows other than ['cdc_report_dt', 'sex', 'age_group', 'race_ethnicity_combined',\n",
    "       'hosp_yn', 'icu_yn', 'death_yn', 'medcond_yn']\n",
    "However, you could also filter out any rows with 'Unknown' or 'Missing' in the 'hosp_yn', 'icu_yn', 'death_yn' and not include the 'medcond_yn' col\n",
    "5.57gb\n",
    "\n",
    "2) https://data.cdc.gov/Case-Surveillance/Weekly-United-States-COVID-19-Cases-and-Deaths-by-/pwn4-m3yp/about_data\n",
    "612kb\n",
    "Filter on CDC website by:\n",
    "- Drop all columsn other than ['state', 'start_date', 'new_cases', 'new_deaths']\n",
    "\n"
   ]
  },
  {
   "cell_type": "code",
   "execution_count": null,
   "id": "7c10c597-2b72-4504-b912-9519bad36836",
   "metadata": {},
   "outputs": [],
   "source": []
  },
  {
   "cell_type": "code",
   "execution_count": 2,
   "id": "bc2a61f1-3038-41c4-8e40-b03f9d5c75af",
   "metadata": {},
   "outputs": [],
   "source": [
    "import pandas as pd"
   ]
  },
  {
   "cell_type": "code",
   "execution_count": null,
   "id": "bb65e2f4-b297-419d-89dd-807516c495c3",
   "metadata": {},
   "outputs": [],
   "source": []
  },
  {
   "cell_type": "markdown",
   "id": "b737820c-3653-4ee8-a277-1548e382c4b6",
   "metadata": {},
   "source": [
    "Processing for the case dataset. Since this was such a large dataset, I'm going to have to pare the dataset down. I didn't get a super clear answer of what was the max size of data that can be used in Tableau Public, with some sources saying <1gb and then after using the dataset, the app also saying less than 15m rows."
   ]
  },
  {
   "cell_type": "code",
   "execution_count": 4,
   "id": "0d6c5f20-e07c-4a49-b6f5-932faea92820",
   "metadata": {},
   "outputs": [],
   "source": [
    "# Load in case data\n",
    "\n",
    "df = pd.read_csv('COVID-19_Case_Surveillance_Public_Use_Data_20240718.csv')"
   ]
  },
  {
   "cell_type": "code",
   "execution_count": 5,
   "id": "f6d8434a-8fd1-44ba-8425-6a667ce2bb8c",
   "metadata": {},
   "outputs": [],
   "source": [
    "# Select columns\n",
    "\n",
    "df = df[['cdc_report_dt', 'sex', 'age_group', 'race_ethnicity_combined',\n",
    "       'hosp_yn', 'icu_yn', 'death_yn', 'medcond_yn']]"
   ]
  },
  {
   "cell_type": "code",
   "execution_count": 6,
   "id": "cc11eda1-df58-4dcd-8578-5178631330e0",
   "metadata": {},
   "outputs": [
    {
     "data": {
      "text/plain": [
       "70701797"
      ]
     },
     "execution_count": 6,
     "metadata": {},
     "output_type": "execute_result"
    }
   ],
   "source": [
    "# Change column names to be more clear\n",
    "\n",
    "df.columns = ['cdc_report_dt', 'sex', 'age_group', 'race_ethnicity',\n",
    "       'hospitalized', 'icu', 'death', 'preexisting_medcondition']\n",
    "\n",
    "len(df)"
   ]
  },
  {
   "cell_type": "code",
   "execution_count": 7,
   "id": "ecd6c95a-a114-4216-bbaa-b145f25e7288",
   "metadata": {},
   "outputs": [
    {
     "data": {
      "text/html": [
       "<div>\n",
       "<style scoped>\n",
       "    .dataframe tbody tr th:only-of-type {\n",
       "        vertical-align: middle;\n",
       "    }\n",
       "\n",
       "    .dataframe tbody tr th {\n",
       "        vertical-align: top;\n",
       "    }\n",
       "\n",
       "    .dataframe thead th {\n",
       "        text-align: right;\n",
       "    }\n",
       "</style>\n",
       "<table border=\"1\" class=\"dataframe\">\n",
       "  <thead>\n",
       "    <tr style=\"text-align: right;\">\n",
       "      <th></th>\n",
       "      <th>cdc_report_dt</th>\n",
       "      <th>sex</th>\n",
       "      <th>age_group</th>\n",
       "      <th>race_ethnicity</th>\n",
       "      <th>hospitalized</th>\n",
       "      <th>icu</th>\n",
       "      <th>death</th>\n",
       "      <th>preexisting_medcondition</th>\n",
       "    </tr>\n",
       "  </thead>\n",
       "  <tbody>\n",
       "    <tr>\n",
       "      <th>0</th>\n",
       "      <td>2022/01/31</td>\n",
       "      <td>Female</td>\n",
       "      <td>20 - 29 Years</td>\n",
       "      <td>Asian, Non-Hispanic</td>\n",
       "      <td>Missing</td>\n",
       "      <td>Missing</td>\n",
       "      <td>Missing</td>\n",
       "      <td>Missing</td>\n",
       "    </tr>\n",
       "    <tr>\n",
       "      <th>1</th>\n",
       "      <td>2020/07/11</td>\n",
       "      <td>Female</td>\n",
       "      <td>20 - 29 Years</td>\n",
       "      <td>Asian, Non-Hispanic</td>\n",
       "      <td>Unknown</td>\n",
       "      <td>Unknown</td>\n",
       "      <td>Unknown</td>\n",
       "      <td>No</td>\n",
       "    </tr>\n",
       "    <tr>\n",
       "      <th>2</th>\n",
       "      <td>2022/09/01</td>\n",
       "      <td>Female</td>\n",
       "      <td>20 - 29 Years</td>\n",
       "      <td>Asian, Non-Hispanic</td>\n",
       "      <td>Unknown</td>\n",
       "      <td>Missing</td>\n",
       "      <td>No</td>\n",
       "      <td>Missing</td>\n",
       "    </tr>\n",
       "    <tr>\n",
       "      <th>3</th>\n",
       "      <td>2023/01/10</td>\n",
       "      <td>Female</td>\n",
       "      <td>20 - 29 Years</td>\n",
       "      <td>Asian, Non-Hispanic</td>\n",
       "      <td>Unknown</td>\n",
       "      <td>Unknown</td>\n",
       "      <td>Missing</td>\n",
       "      <td>Unknown</td>\n",
       "    </tr>\n",
       "    <tr>\n",
       "      <th>4</th>\n",
       "      <td>2020/11/01</td>\n",
       "      <td>Female</td>\n",
       "      <td>20 - 29 Years</td>\n",
       "      <td>Asian, Non-Hispanic</td>\n",
       "      <td>Unknown</td>\n",
       "      <td>Missing</td>\n",
       "      <td>Unknown</td>\n",
       "      <td>Missing</td>\n",
       "    </tr>\n",
       "    <tr>\n",
       "      <th>5</th>\n",
       "      <td>2024/06/24</td>\n",
       "      <td>Female</td>\n",
       "      <td>20 - 29 Years</td>\n",
       "      <td>Asian, Non-Hispanic</td>\n",
       "      <td>Unknown</td>\n",
       "      <td>Missing</td>\n",
       "      <td>Unknown</td>\n",
       "      <td>Missing</td>\n",
       "    </tr>\n",
       "    <tr>\n",
       "      <th>6</th>\n",
       "      <td>2022/10/01</td>\n",
       "      <td>Female</td>\n",
       "      <td>20 - 29 Years</td>\n",
       "      <td>Asian, Non-Hispanic</td>\n",
       "      <td>Missing</td>\n",
       "      <td>Missing</td>\n",
       "      <td>Missing</td>\n",
       "      <td>Missing</td>\n",
       "    </tr>\n",
       "    <tr>\n",
       "      <th>7</th>\n",
       "      <td>2022/07/08</td>\n",
       "      <td>Female</td>\n",
       "      <td>20 - 29 Years</td>\n",
       "      <td>Asian, Non-Hispanic</td>\n",
       "      <td>No</td>\n",
       "      <td>Missing</td>\n",
       "      <td>Missing</td>\n",
       "      <td>Missing</td>\n",
       "    </tr>\n",
       "    <tr>\n",
       "      <th>8</th>\n",
       "      <td>2021/09/08</td>\n",
       "      <td>Female</td>\n",
       "      <td>20 - 29 Years</td>\n",
       "      <td>Asian, Non-Hispanic</td>\n",
       "      <td>No</td>\n",
       "      <td>Missing</td>\n",
       "      <td>No</td>\n",
       "      <td>Missing</td>\n",
       "    </tr>\n",
       "    <tr>\n",
       "      <th>9</th>\n",
       "      <td>2022/01/21</td>\n",
       "      <td>Female</td>\n",
       "      <td>20 - 29 Years</td>\n",
       "      <td>Asian, Non-Hispanic</td>\n",
       "      <td>No</td>\n",
       "      <td>Unknown</td>\n",
       "      <td>Missing</td>\n",
       "      <td>Yes</td>\n",
       "    </tr>\n",
       "  </tbody>\n",
       "</table>\n",
       "</div>"
      ],
      "text/plain": [
       "  cdc_report_dt     sex      age_group       race_ethnicity hospitalized  \\\n",
       "0    2022/01/31  Female  20 - 29 Years  Asian, Non-Hispanic      Missing   \n",
       "1    2020/07/11  Female  20 - 29 Years  Asian, Non-Hispanic      Unknown   \n",
       "2    2022/09/01  Female  20 - 29 Years  Asian, Non-Hispanic      Unknown   \n",
       "3    2023/01/10  Female  20 - 29 Years  Asian, Non-Hispanic      Unknown   \n",
       "4    2020/11/01  Female  20 - 29 Years  Asian, Non-Hispanic      Unknown   \n",
       "5    2024/06/24  Female  20 - 29 Years  Asian, Non-Hispanic      Unknown   \n",
       "6    2022/10/01  Female  20 - 29 Years  Asian, Non-Hispanic      Missing   \n",
       "7    2022/07/08  Female  20 - 29 Years  Asian, Non-Hispanic           No   \n",
       "8    2021/09/08  Female  20 - 29 Years  Asian, Non-Hispanic           No   \n",
       "9    2022/01/21  Female  20 - 29 Years  Asian, Non-Hispanic           No   \n",
       "\n",
       "       icu    death preexisting_medcondition  \n",
       "0  Missing  Missing                  Missing  \n",
       "1  Unknown  Unknown                       No  \n",
       "2  Missing       No                  Missing  \n",
       "3  Unknown  Missing                  Unknown  \n",
       "4  Missing  Unknown                  Missing  \n",
       "5  Missing  Unknown                  Missing  \n",
       "6  Missing  Missing                  Missing  \n",
       "7  Missing  Missing                  Missing  \n",
       "8  Missing       No                  Missing  \n",
       "9  Unknown  Missing                      Yes  "
      ]
     },
     "execution_count": 7,
     "metadata": {},
     "output_type": "execute_result"
    }
   ],
   "source": [
    "df.head(10)"
   ]
  },
  {
   "cell_type": "code",
   "execution_count": 11,
   "id": "2da3a3f6-91c8-4928-8c13-90373545b84f",
   "metadata": {},
   "outputs": [
    {
     "data": {
      "text/plain": [
       "64744531"
      ]
     },
     "execution_count": 11,
     "metadata": {},
     "output_type": "execute_result"
    }
   ],
   "source": [
    "# Get year and month columns, first by removing NaN entries from 'cdc_report_dt'\n",
    "\n",
    "df = df[df['cdc_report_dt'].notnull()]\n",
    "\n",
    "len(df)"
   ]
  },
  {
   "cell_type": "code",
   "execution_count": 13,
   "id": "971fb895-93ca-4a40-95d6-3b6b21775dde",
   "metadata": {},
   "outputs": [],
   "source": [
    "# Get year/month columns from 'cdc_report_dt'\n",
    "\n",
    "def find_year(s):\n",
    "    return int(s[:4])\n",
    "\n",
    "def find_month(s):\n",
    "    months = ['Jan', 'Feb', 'Mar', 'Apr', 'May', 'Jun', 'Jul', 'Aug', 'Sep', 'Oct', 'Nov', 'Dec']\n",
    "    month_number = int(s[5:7])\n",
    "    return months[month_number-1]"
   ]
  },
  {
   "cell_type": "code",
   "execution_count": 14,
   "id": "710a4aa4-de1a-4803-8f5e-905f17a6d9e8",
   "metadata": {},
   "outputs": [
    {
     "data": {
      "text/plain": [
       "year\n",
       "2022    26239736\n",
       "2021    19684148\n",
       "2020     8068261\n",
       "2023     6556838\n",
       "2024     4195548\n",
       "Name: count, dtype: int64"
      ]
     },
     "execution_count": 14,
     "metadata": {},
     "output_type": "execute_result"
    }
   ],
   "source": [
    "df['year'] = df['cdc_report_dt'].apply(find_year)\n",
    "\n",
    "df.year.value_counts()"
   ]
  },
  {
   "cell_type": "code",
   "execution_count": 15,
   "id": "6b6b8ea5-a902-4542-bba9-88e140246f2b",
   "metadata": {},
   "outputs": [
    {
     "data": {
      "text/plain": [
       "month\n",
       "Jan    13167888\n",
       "Dec     8957772\n",
       "Feb     5172326\n",
       "Jun     4839285\n",
       "Nov     4817338\n",
       "Sep     4755668\n",
       "Aug     4543409\n",
       "Mar     4456959\n",
       "Oct     3899482\n",
       "May     3448534\n",
       "Jul     3357687\n",
       "Apr     3328183\n",
       "Name: count, dtype: int64"
      ]
     },
     "execution_count": 15,
     "metadata": {},
     "output_type": "execute_result"
    }
   ],
   "source": [
    "df['month'] = df['cdc_report_dt'].apply(find_month)\n",
    "\n",
    "df.month.value_counts()"
   ]
  },
  {
   "cell_type": "code",
   "execution_count": 61,
   "id": "9ec640b9-eb40-40a0-8a9c-7c0003fb51e8",
   "metadata": {},
   "outputs": [],
   "source": [
    "# save initial file, will need to slice more off\n",
    "df.to_csv('covid_case_data_20240718_full.csv', index=False)"
   ]
  },
  {
   "cell_type": "code",
   "execution_count": 16,
   "id": "431e2d61-13f9-4b1b-a07c-8349e247b4c6",
   "metadata": {},
   "outputs": [
    {
     "data": {
      "text/plain": [
       "race_ethnicity\n",
       "White, Non-Hispanic                                     36620322\n",
       "Hispanic/Latino                                         14038653\n",
       "Black, Non-Hispanic                                      8661624\n",
       "Asian, Non-Hispanic                                      2446178\n",
       "Multiple/Other, Non-Hispanic                             2160177\n",
       "American Indian/Alaska Native, Non-Hispanic               668503\n",
       "Native Hawaiian/Other Pacific Islander, Non-Hispanic      149074\n",
       "Name: count, dtype: int64"
      ]
     },
     "execution_count": 16,
     "metadata": {},
     "output_type": "execute_result"
    }
   ],
   "source": [
    "# drop more unneeded columns\n",
    "\n",
    "df.drop(['cdc_report_dt', 'preexisting_medcondition', 'sex'], axis=1, inplace=True)\n",
    "\n",
    "df.race_ethnicity.value_counts()"
   ]
  },
  {
   "cell_type": "code",
   "execution_count": 68,
   "id": "c6761f45-bc21-477f-8b83-2191c42db60e",
   "metadata": {},
   "outputs": [
    {
     "data": {
      "text/html": [
       "<div>\n",
       "<style scoped>\n",
       "    .dataframe tbody tr th:only-of-type {\n",
       "        vertical-align: middle;\n",
       "    }\n",
       "\n",
       "    .dataframe tbody tr th {\n",
       "        vertical-align: top;\n",
       "    }\n",
       "\n",
       "    .dataframe thead th {\n",
       "        text-align: right;\n",
       "    }\n",
       "</style>\n",
       "<table border=\"1\" class=\"dataframe\">\n",
       "  <thead>\n",
       "    <tr style=\"text-align: right;\">\n",
       "      <th></th>\n",
       "      <th>age_group</th>\n",
       "      <th>race_ethnicity</th>\n",
       "      <th>hospitalized</th>\n",
       "      <th>icu</th>\n",
       "      <th>death</th>\n",
       "      <th>month</th>\n",
       "    </tr>\n",
       "  </thead>\n",
       "  <tbody>\n",
       "    <tr>\n",
       "      <th>count</th>\n",
       "      <td>64742216</td>\n",
       "      <td>64742216</td>\n",
       "      <td>64742216</td>\n",
       "      <td>64742216</td>\n",
       "      <td>64742216</td>\n",
       "      <td>64742216</td>\n",
       "    </tr>\n",
       "    <tr>\n",
       "      <th>unique</th>\n",
       "      <td>9</td>\n",
       "      <td>7</td>\n",
       "      <td>4</td>\n",
       "      <td>4</td>\n",
       "      <td>4</td>\n",
       "      <td>12</td>\n",
       "    </tr>\n",
       "    <tr>\n",
       "      <th>top</th>\n",
       "      <td>20 - 29 Years</td>\n",
       "      <td>White, Non-Hispanic</td>\n",
       "      <td>Missing</td>\n",
       "      <td>Missing</td>\n",
       "      <td>Missing</td>\n",
       "      <td>Jan</td>\n",
       "    </tr>\n",
       "    <tr>\n",
       "      <th>freq</th>\n",
       "      <td>10633145</td>\n",
       "      <td>36619285</td>\n",
       "      <td>27136853</td>\n",
       "      <td>54261309</td>\n",
       "      <td>29943644</td>\n",
       "      <td>13167231</td>\n",
       "    </tr>\n",
       "  </tbody>\n",
       "</table>\n",
       "</div>"
      ],
      "text/plain": [
       "            age_group       race_ethnicity hospitalized       icu     death  \\\n",
       "count        64742216             64742216     64742216  64742216  64742216   \n",
       "unique              9                    7            4         4         4   \n",
       "top     20 - 29 Years  White, Non-Hispanic      Missing   Missing   Missing   \n",
       "freq         10633145             36619285     27136853  54261309  29943644   \n",
       "\n",
       "           month  \n",
       "count   64742216  \n",
       "unique        12  \n",
       "top          Jan  \n",
       "freq    13167231  "
      ]
     },
     "execution_count": 68,
     "metadata": {},
     "output_type": "execute_result"
    }
   ],
   "source": [
    "df[['age_group', 'race_ethnicity', 'hospitalized', 'icu', 'death', 'month']].describe()"
   ]
  },
  {
   "cell_type": "code",
   "execution_count": 69,
   "id": "6728c73d-f66f-453d-8992-fd78b437611f",
   "metadata": {},
   "outputs": [],
   "source": [
    "# save working file, but it's still too large at 3.9gb\n",
    "df.to_csv('covid_case_data_20240718.csv', index=False)"
   ]
  },
  {
   "cell_type": "code",
   "execution_count": 17,
   "id": "1ecedb57-8aab-4ba2-9ba8-bb231a41f83c",
   "metadata": {},
   "outputs": [
    {
     "data": {
      "text/plain": [
       "age_group\n",
       "20 - 29 Years    10633821\n",
       "30 - 39 Years    10337565\n",
       "40 - 49 Years     8918956\n",
       "50 - 59 Years     8478110\n",
       "10 - 19 Years     7434446\n",
       "60 - 69 Years     6692122\n",
       "0 - 9 Years       5039337\n",
       "70 - 79 Years     4294017\n",
       "80+ Years         2916157\n",
       "Name: count, dtype: int64"
      ]
     },
     "execution_count": 17,
     "metadata": {},
     "output_type": "execute_result"
    }
   ],
   "source": [
    "# will try to make the file size smaller by truncating some of the text\n",
    "\n",
    "df.age_group.value_counts()"
   ]
  },
  {
   "cell_type": "code",
   "execution_count": 18,
   "id": "8cd118b3-634e-4524-bbe9-dc76290a01ff",
   "metadata": {},
   "outputs": [
    {
     "data": {
      "text/plain": [
       "age_group\n",
       "20-29    10633821\n",
       "30-39    10337565\n",
       "40-49     8918956\n",
       "50-59     8478110\n",
       "10-19     7434446\n",
       "60-69     6692122\n",
       "0-9       5039337\n",
       "70-79     4294017\n",
       "80+       2916157\n",
       "Name: count, dtype: int64"
      ]
     },
     "execution_count": 18,
     "metadata": {},
     "output_type": "execute_result"
    }
   ],
   "source": [
    "df['age_group'] = df['age_group'].apply(lambda s: s.replace('Years','').replace(' ',''))\n",
    "\n",
    "df.age_group.value_counts()"
   ]
  },
  {
   "cell_type": "code",
   "execution_count": 19,
   "id": "01715f8b-f286-4f63-b907-8832111f8554",
   "metadata": {},
   "outputs": [
    {
     "data": {
      "text/plain": [
       "race_ethnicity\n",
       "White, Non-Hispanic                                     36620322\n",
       "Hispanic/Latino                                         14038653\n",
       "Black, Non-Hispanic                                      8661624\n",
       "Asian, Non-Hispanic                                      2446178\n",
       "Multiple/Other, Non-Hispanic                             2160177\n",
       "American Indian/Alaska Native, Non-Hispanic               668503\n",
       "Native Hawaiian/Other Pacific Islander, Non-Hispanic      149074\n",
       "Name: count, dtype: int64"
      ]
     },
     "execution_count": 19,
     "metadata": {},
     "output_type": "execute_result"
    }
   ],
   "source": [
    "df.race_ethnicity.value_counts()"
   ]
  },
  {
   "cell_type": "code",
   "execution_count": 20,
   "id": "1ae61435-dbf1-4bf2-89fd-3495b5e96349",
   "metadata": {},
   "outputs": [
    {
     "data": {
      "text/plain": [
       "race_ethnicity\n",
       "White                                     36620322\n",
       "Hispanic/Latino                           14038653\n",
       "Black                                      8661624\n",
       "Asian                                      2446178\n",
       "Multiple/Other                             2160177\n",
       "American Indian/Alaska Native               668503\n",
       "Native Hawaiian/Other Pacific Islander      149074\n",
       "Name: count, dtype: int64"
      ]
     },
     "execution_count": 20,
     "metadata": {},
     "output_type": "execute_result"
    }
   ],
   "source": [
    "df['race_ethnicity'] = df['race_ethnicity'].apply(lambda s: s.replace(', Non-Hispanic', ''))\n",
    "\n",
    "df.race_ethnicity.value_counts()"
   ]
  },
  {
   "cell_type": "code",
   "execution_count": 22,
   "id": "6b8c2e23-4c48-47ca-9a56-4a3393a9c736",
   "metadata": {},
   "outputs": [],
   "source": [
    "def replace_hospitalized_icu_death_values_to_bool(s):\n",
    "    if s in ['Missing', 'Unknown']:\n",
    "        return None\n",
    "    elif s == 'Yes':\n",
    "        return True\n",
    "    else:\n",
    "        return False\n",
    "\n",
    "df['hospitalized'] = df['hospitalized'].apply(replace_hospitalized_icu_death_values_to_bool)\n",
    "df['icu'] = df['icu'].apply(replace_hospitalized_icu_death_values_to_bool)\n",
    "df['death'] = df['death'].apply(replace_hospitalized_icu_death_values_to_bool)"
   ]
  },
  {
   "cell_type": "code",
   "execution_count": 89,
   "id": "422edf7b-2192-47ae-bd89-83329fa89eb0",
   "metadata": {},
   "outputs": [],
   "source": [
    "# still 1.8 gb\n",
    "df.to_csv('covid_case_data_20240718.csv', index=False)"
   ]
  },
  {
   "cell_type": "code",
   "execution_count": null,
   "id": "77f23b32-9bbf-4265-ab35-67b5c76cf5d1",
   "metadata": {},
   "outputs": [],
   "source": [
    "# removing all values with missing data in the three columns: hospitalized, icu, death"
   ]
  },
  {
   "cell_type": "code",
   "execution_count": 23,
   "id": "932d5406-06ce-42c6-b40c-c891ae6a245b",
   "metadata": {},
   "outputs": [
    {
     "data": {
      "text/plain": [
       "64744531"
      ]
     },
     "execution_count": 23,
     "metadata": {},
     "output_type": "execute_result"
    }
   ],
   "source": [
    "len(df)"
   ]
  },
  {
   "cell_type": "code",
   "execution_count": 24,
   "id": "f5288bdd-a31b-4d79-9a86-42831ab78df9",
   "metadata": {},
   "outputs": [
    {
     "data": {
      "text/plain": [
       "hospitalized\n",
       "None     38058369\n",
       "False    24045696\n",
       "True      2640466\n",
       "Name: count, dtype: int64"
      ]
     },
     "execution_count": 24,
     "metadata": {},
     "output_type": "execute_result"
    }
   ],
   "source": [
    "df.hospitalized.value_counts(dropna=False)"
   ]
  },
  {
   "cell_type": "code",
   "execution_count": 25,
   "id": "64cdec06-bc62-4f37-815e-842f21d8cc17",
   "metadata": {},
   "outputs": [
    {
     "data": {
      "text/plain": [
       "33899801"
      ]
     },
     "execution_count": 25,
     "metadata": {},
     "output_type": "execute_result"
    }
   ],
   "source": [
    "df.dropna(axis=0, how='all', subset=['hospitalized','icu','death'], inplace=True)\n",
    "\n",
    "len(df)"
   ]
  },
  {
   "cell_type": "code",
   "execution_count": 102,
   "id": "22add3b8-06f7-4fc5-b8a8-2f5a0350b2d3",
   "metadata": {},
   "outputs": [],
   "source": [
    "# 1.1gb...\n",
    "df.to_csv('covid_case_data_20240718.csv', index=False)"
   ]
  },
  {
   "cell_type": "code",
   "execution_count": 26,
   "id": "e4ee2c00-861d-4143-9412-123758526133",
   "metadata": {},
   "outputs": [
    {
     "data": {
      "text/plain": [
       "year\n",
       "2021    11784651\n",
       "2022    11591679\n",
       "2020     5721511\n",
       "2024     1829967\n",
       "2023     1490896\n",
       "Name: count, dtype: int64"
      ]
     },
     "execution_count": 26,
     "metadata": {},
     "output_type": "execute_result"
    }
   ],
   "source": [
    "# since the state dataset only goes from 1/2020-5/2023, we'll remove anything beyond that\n",
    "\n",
    "df2 = df[df['year']==2023]\n",
    "indices = df2[df2['month'].isin(['May','Jun','Jul','Aug','Sep','Oct','Nov','Dec'])].index\n",
    "\n",
    "df.drop(indices, inplace=True)\n",
    "\n",
    "df.year.value_counts(dropna=False)"
   ]
  },
  {
   "cell_type": "code",
   "execution_count": 148,
   "id": "4980781f-aa52-42ec-8791-1fd71c789d12",
   "metadata": {},
   "outputs": [],
   "source": [
    "# 1.05 gb, getting there\n",
    "df.to_csv('covid_case_data_20240718.csv', index=False)"
   ]
  },
  {
   "cell_type": "code",
   "execution_count": 27,
   "id": "df6cb96b-f0da-4164-8514-2ab631ee8094",
   "metadata": {},
   "outputs": [
    {
     "data": {
      "text/plain": [
       "race_ethnicity\n",
       "White                                     19118362\n",
       "Hispanic/Latino                            6935268\n",
       "Black                                      3934111\n",
       "Asian                                      1076207\n",
       "Multiple/Other                              974343\n",
       "American Indian/Alaska Native               303574\n",
       "Native Hawaiian/Other Pacific Islander       76839\n",
       "Name: count, dtype: int64"
      ]
     },
     "execution_count": 27,
     "metadata": {},
     "output_type": "execute_result"
    }
   ],
   "source": [
    "# truncate race/enthnicity column names\n",
    "\n",
    "df.race_ethnicity.value_counts(dropna=False)"
   ]
  },
  {
   "cell_type": "code",
   "execution_count": 28,
   "id": "3d6d28c9-ee30-461a-ab5d-3fdda9aaf351",
   "metadata": {},
   "outputs": [
    {
     "data": {
      "text/plain": [
       "race_ethnicity\n",
       "White       19118362\n",
       "Hispanic     6935268\n",
       "Black        3934111\n",
       "Other        1354756\n",
       "Asian        1076207\n",
       "Name: count, dtype: int64"
      ]
     },
     "execution_count": 28,
     "metadata": {},
     "output_type": "execute_result"
    }
   ],
   "source": [
    "def truncate_race_names(s):\n",
    "    if s == 'Hispanic/Latino':\n",
    "        return 'Hispanic'\n",
    "    elif s in ['Multiple/Other',\n",
    "               'American Indian/Alaska Native',\n",
    "               'Native Hawaiian/Other Pacific Islander']:\n",
    "        return 'Other'\n",
    "    else:\n",
    "        return s\n",
    "\n",
    "df['race_ethnicity'] = df['race_ethnicity'].apply(truncate_race_names)\n",
    "\n",
    "df.race_ethnicity.value_counts(dropna=False)"
   ]
  },
  {
   "cell_type": "code",
   "execution_count": 157,
   "id": "55cf1ef3-769f-4460-a6ee-b62310072f98",
   "metadata": {},
   "outputs": [],
   "source": [
    "df.to_csv('covid_case_data_20240718.csv', index=False)"
   ]
  },
  {
   "cell_type": "code",
   "execution_count": null,
   "id": "ffc5f978-8730-4128-8e03-d05683c007cc",
   "metadata": {},
   "outputs": [],
   "source": [
    "# so apparently, i can only have <15mil rows in Tableau public, so we have to reduce more\n",
    "# this time by removing any missing/null data in 'hospitalized', 'icu' or 'death' columns"
   ]
  },
  {
   "cell_type": "code",
   "execution_count": 29,
   "id": "8db0acc9-d3e1-42fb-a08a-de17e94941fc",
   "metadata": {},
   "outputs": [
    {
     "data": {
      "text/plain": [
       "32418704"
      ]
     },
     "execution_count": 29,
     "metadata": {},
     "output_type": "execute_result"
    }
   ],
   "source": [
    "len(df)"
   ]
  },
  {
   "cell_type": "code",
   "execution_count": 35,
   "id": "5e72ee7d-0c48-4ab8-9050-e9a225b4a770",
   "metadata": {},
   "outputs": [
    {
     "data": {
      "text/plain": [
       "1712832"
      ]
     },
     "execution_count": 35,
     "metadata": {},
     "output_type": "execute_result"
    }
   ],
   "source": [
    "df.dropna(subset = ['hospitalized','icu','death'], inplace=True)\n",
    "\n",
    "len(df)"
   ]
  },
  {
   "cell_type": "code",
   "execution_count": 6,
   "id": "d0a0ffee-5256-4a73-9456-2daf31b6f415",
   "metadata": {},
   "outputs": [],
   "source": [
    "df.to_csv('covid_case_data_20240718_reduced.csv', index=False)"
   ]
  },
  {
   "cell_type": "code",
   "execution_count": null,
   "id": "de72863e-0673-436e-b283-7dbc50fd4896",
   "metadata": {},
   "outputs": [],
   "source": []
  },
  {
   "cell_type": "code",
   "execution_count": null,
   "id": "b791055a-56aa-46c8-ba85-989f7b040e7d",
   "metadata": {},
   "outputs": [],
   "source": []
  },
  {
   "cell_type": "markdown",
   "id": "cc23cb48-1a79-4f26-afe1-89b6d32898f2",
   "metadata": {},
   "source": [
    "Processing for the weekly state dataset. This shouldn't have size issues, but will have to clean some date columns and aggregate by state+month"
   ]
  },
  {
   "cell_type": "code",
   "execution_count": 37,
   "id": "7f1e396e-5fac-4de0-a183-8a17dc692bed",
   "metadata": {},
   "outputs": [
    {
     "data": {
      "text/html": [
       "<div>\n",
       "<style scoped>\n",
       "    .dataframe tbody tr th:only-of-type {\n",
       "        vertical-align: middle;\n",
       "    }\n",
       "\n",
       "    .dataframe tbody tr th {\n",
       "        vertical-align: top;\n",
       "    }\n",
       "\n",
       "    .dataframe thead th {\n",
       "        text-align: right;\n",
       "    }\n",
       "</style>\n",
       "<table border=\"1\" class=\"dataframe\">\n",
       "  <thead>\n",
       "    <tr style=\"text-align: right;\">\n",
       "      <th></th>\n",
       "      <th>date_updated</th>\n",
       "      <th>state</th>\n",
       "      <th>start_date</th>\n",
       "      <th>end_date</th>\n",
       "      <th>tot_cases</th>\n",
       "      <th>new_cases</th>\n",
       "      <th>tot_deaths</th>\n",
       "      <th>new_deaths</th>\n",
       "      <th>new_historic_cases</th>\n",
       "      <th>new_historic_deaths</th>\n",
       "    </tr>\n",
       "  </thead>\n",
       "  <tbody>\n",
       "    <tr>\n",
       "      <th>0</th>\n",
       "      <td>02/23/2023</td>\n",
       "      <td>AZ</td>\n",
       "      <td>02/16/2023</td>\n",
       "      <td>02/22/2023</td>\n",
       "      <td>2434631</td>\n",
       "      <td>3716</td>\n",
       "      <td>33042</td>\n",
       "      <td>39</td>\n",
       "      <td>23150</td>\n",
       "      <td>0</td>\n",
       "    </tr>\n",
       "    <tr>\n",
       "      <th>1</th>\n",
       "      <td>12/22/2022</td>\n",
       "      <td>LA</td>\n",
       "      <td>12/15/2022</td>\n",
       "      <td>12/21/2022</td>\n",
       "      <td>1507707</td>\n",
       "      <td>4041</td>\n",
       "      <td>18345</td>\n",
       "      <td>21</td>\n",
       "      <td>21397</td>\n",
       "      <td>0</td>\n",
       "    </tr>\n",
       "    <tr>\n",
       "      <th>2</th>\n",
       "      <td>02/23/2023</td>\n",
       "      <td>GA</td>\n",
       "      <td>02/16/2023</td>\n",
       "      <td>02/22/2023</td>\n",
       "      <td>3061141</td>\n",
       "      <td>5298</td>\n",
       "      <td>42324</td>\n",
       "      <td>88</td>\n",
       "      <td>6800</td>\n",
       "      <td>0</td>\n",
       "    </tr>\n",
       "    <tr>\n",
       "      <th>3</th>\n",
       "      <td>03/30/2023</td>\n",
       "      <td>LA</td>\n",
       "      <td>03/23/2023</td>\n",
       "      <td>03/29/2023</td>\n",
       "      <td>1588259</td>\n",
       "      <td>2203</td>\n",
       "      <td>18858</td>\n",
       "      <td>23</td>\n",
       "      <td>5347</td>\n",
       "      <td>0</td>\n",
       "    </tr>\n",
       "    <tr>\n",
       "      <th>4</th>\n",
       "      <td>02/02/2023</td>\n",
       "      <td>LA</td>\n",
       "      <td>01/26/2023</td>\n",
       "      <td>02/01/2023</td>\n",
       "      <td>1548508</td>\n",
       "      <td>5725</td>\n",
       "      <td>18572</td>\n",
       "      <td>47</td>\n",
       "      <td>4507</td>\n",
       "      <td>0</td>\n",
       "    </tr>\n",
       "  </tbody>\n",
       "</table>\n",
       "</div>"
      ],
      "text/plain": [
       "  date_updated state  start_date    end_date  tot_cases  new_cases  \\\n",
       "0   02/23/2023    AZ  02/16/2023  02/22/2023    2434631       3716   \n",
       "1   12/22/2022    LA  12/15/2022  12/21/2022    1507707       4041   \n",
       "2   02/23/2023    GA  02/16/2023  02/22/2023    3061141       5298   \n",
       "3   03/30/2023    LA  03/23/2023  03/29/2023    1588259       2203   \n",
       "4   02/02/2023    LA  01/26/2023  02/01/2023    1548508       5725   \n",
       "\n",
       "   tot_deaths  new_deaths  new_historic_cases  new_historic_deaths  \n",
       "0       33042          39               23150                    0  \n",
       "1       18345          21               21397                    0  \n",
       "2       42324          88                6800                    0  \n",
       "3       18858          23                5347                    0  \n",
       "4       18572          47                4507                    0  "
      ]
     },
     "execution_count": 37,
     "metadata": {},
     "output_type": "execute_result"
    }
   ],
   "source": [
    "# Load in state/time data\n",
    "\n",
    "df = pd.read_csv('Weekly_United_States_COVID-19_Cases_and_Deaths_by_State_-_ARCHIVED_20240720.csv')\n",
    "\n",
    "df.head()"
   ]
  },
  {
   "cell_type": "code",
   "execution_count": 38,
   "id": "072830f4-46ca-420a-92b0-dc6de3c0173f",
   "metadata": {},
   "outputs": [
    {
     "data": {
      "text/html": [
       "<div>\n",
       "<style scoped>\n",
       "    .dataframe tbody tr th:only-of-type {\n",
       "        vertical-align: middle;\n",
       "    }\n",
       "\n",
       "    .dataframe tbody tr th {\n",
       "        vertical-align: top;\n",
       "    }\n",
       "\n",
       "    .dataframe thead th {\n",
       "        text-align: right;\n",
       "    }\n",
       "</style>\n",
       "<table border=\"1\" class=\"dataframe\">\n",
       "  <thead>\n",
       "    <tr style=\"text-align: right;\">\n",
       "      <th></th>\n",
       "      <th>state</th>\n",
       "      <th>start_date</th>\n",
       "      <th>new_cases</th>\n",
       "      <th>new_deaths</th>\n",
       "    </tr>\n",
       "  </thead>\n",
       "  <tbody>\n",
       "    <tr>\n",
       "      <th>0</th>\n",
       "      <td>AZ</td>\n",
       "      <td>02/16/2023</td>\n",
       "      <td>3716</td>\n",
       "      <td>39</td>\n",
       "    </tr>\n",
       "    <tr>\n",
       "      <th>1</th>\n",
       "      <td>LA</td>\n",
       "      <td>12/15/2022</td>\n",
       "      <td>4041</td>\n",
       "      <td>21</td>\n",
       "    </tr>\n",
       "    <tr>\n",
       "      <th>2</th>\n",
       "      <td>GA</td>\n",
       "      <td>02/16/2023</td>\n",
       "      <td>5298</td>\n",
       "      <td>88</td>\n",
       "    </tr>\n",
       "    <tr>\n",
       "      <th>3</th>\n",
       "      <td>LA</td>\n",
       "      <td>03/23/2023</td>\n",
       "      <td>2203</td>\n",
       "      <td>23</td>\n",
       "    </tr>\n",
       "    <tr>\n",
       "      <th>4</th>\n",
       "      <td>LA</td>\n",
       "      <td>01/26/2023</td>\n",
       "      <td>5725</td>\n",
       "      <td>47</td>\n",
       "    </tr>\n",
       "  </tbody>\n",
       "</table>\n",
       "</div>"
      ],
      "text/plain": [
       "  state  start_date  new_cases  new_deaths\n",
       "0    AZ  02/16/2023       3716          39\n",
       "1    LA  12/15/2022       4041          21\n",
       "2    GA  02/16/2023       5298          88\n",
       "3    LA  03/23/2023       2203          23\n",
       "4    LA  01/26/2023       5725          47"
      ]
     },
     "execution_count": 38,
     "metadata": {},
     "output_type": "execute_result"
    }
   ],
   "source": [
    "# drop unnecessary columns\n",
    "\n",
    "df.drop(['date_updated', 'end_date', 'tot_cases', 'tot_deaths', 'new_historic_cases', 'new_historic_deaths'], axis=1, inplace=True)\n",
    "\n",
    "df.head()"
   ]
  },
  {
   "cell_type": "code",
   "execution_count": 39,
   "id": "1864698e-b0d6-436a-aedf-3705c7e0996d",
   "metadata": {},
   "outputs": [
    {
     "data": {
      "text/html": [
       "<div>\n",
       "<style scoped>\n",
       "    .dataframe tbody tr th:only-of-type {\n",
       "        vertical-align: middle;\n",
       "    }\n",
       "\n",
       "    .dataframe tbody tr th {\n",
       "        vertical-align: top;\n",
       "    }\n",
       "\n",
       "    .dataframe thead th {\n",
       "        text-align: right;\n",
       "    }\n",
       "</style>\n",
       "<table border=\"1\" class=\"dataframe\">\n",
       "  <thead>\n",
       "    <tr style=\"text-align: right;\">\n",
       "      <th></th>\n",
       "      <th>state</th>\n",
       "      <th>new_cases</th>\n",
       "      <th>new_deaths</th>\n",
       "      <th>year</th>\n",
       "      <th>month</th>\n",
       "    </tr>\n",
       "  </thead>\n",
       "  <tbody>\n",
       "    <tr>\n",
       "      <th>0</th>\n",
       "      <td>AZ</td>\n",
       "      <td>3716</td>\n",
       "      <td>39</td>\n",
       "      <td>2023</td>\n",
       "      <td>Feb</td>\n",
       "    </tr>\n",
       "    <tr>\n",
       "      <th>1</th>\n",
       "      <td>LA</td>\n",
       "      <td>4041</td>\n",
       "      <td>21</td>\n",
       "      <td>2022</td>\n",
       "      <td>Dec</td>\n",
       "    </tr>\n",
       "    <tr>\n",
       "      <th>2</th>\n",
       "      <td>GA</td>\n",
       "      <td>5298</td>\n",
       "      <td>88</td>\n",
       "      <td>2023</td>\n",
       "      <td>Feb</td>\n",
       "    </tr>\n",
       "    <tr>\n",
       "      <th>3</th>\n",
       "      <td>LA</td>\n",
       "      <td>2203</td>\n",
       "      <td>23</td>\n",
       "      <td>2023</td>\n",
       "      <td>Mar</td>\n",
       "    </tr>\n",
       "    <tr>\n",
       "      <th>4</th>\n",
       "      <td>LA</td>\n",
       "      <td>5725</td>\n",
       "      <td>47</td>\n",
       "      <td>2023</td>\n",
       "      <td>Jan</td>\n",
       "    </tr>\n",
       "  </tbody>\n",
       "</table>\n",
       "</div>"
      ],
      "text/plain": [
       "  state  new_cases  new_deaths  year month\n",
       "0    AZ       3716          39  2023   Feb\n",
       "1    LA       4041          21  2022   Dec\n",
       "2    GA       5298          88  2023   Feb\n",
       "3    LA       2203          23  2023   Mar\n",
       "4    LA       5725          47  2023   Jan"
      ]
     },
     "execution_count": 39,
     "metadata": {},
     "output_type": "execute_result"
    }
   ],
   "source": [
    "# we'll need to convert start_date to year and month columns\n",
    "\n",
    "def find_year2(s):\n",
    "    return int(s[6:])\n",
    "\n",
    "def find_month2(s):\n",
    "    months = ['Jan', 'Feb', 'Mar', 'Apr', 'May', 'Jun', 'Jul', 'Aug', 'Sep', 'Oct', 'Nov', 'Dec']\n",
    "    month_number = int(s[:2])\n",
    "    return months[month_number-1]\n",
    "\n",
    "df['year'] = df['start_date'].apply(find_year2)\n",
    "df['month'] = df['start_date'].apply(find_month2)\n",
    "\n",
    "df.drop('start_date', axis=1, inplace=True)\n",
    "\n",
    "df.head()"
   ]
  },
  {
   "cell_type": "code",
   "execution_count": 185,
   "id": "ff83cd27-3c9d-41a4-ace9-716436ade4cf",
   "metadata": {},
   "outputs": [],
   "source": [
    "# groupby state/year/month, aggregate sums\n",
    "\n",
    "df = (\n",
    "    df.groupby(['state','year','month'])\n",
    "        .agg(new_cases=('new_cases', 'sum'), new_deaths=('new_deaths', 'sum'))\n",
    ")"
   ]
  },
  {
   "cell_type": "code",
   "execution_count": 188,
   "id": "52e44891-17df-42de-9a03-3e3a056d75b1",
   "metadata": {},
   "outputs": [],
   "source": [
    "df.reset_index(inplace=True)"
   ]
  },
  {
   "cell_type": "code",
   "execution_count": 189,
   "id": "e09efdcf-0dea-4363-9c3e-552ef676b079",
   "metadata": {},
   "outputs": [
    {
     "data": {
      "text/html": [
       "<div>\n",
       "<style scoped>\n",
       "    .dataframe tbody tr th:only-of-type {\n",
       "        vertical-align: middle;\n",
       "    }\n",
       "\n",
       "    .dataframe tbody tr th {\n",
       "        vertical-align: top;\n",
       "    }\n",
       "\n",
       "    .dataframe thead th {\n",
       "        text-align: right;\n",
       "    }\n",
       "</style>\n",
       "<table border=\"1\" class=\"dataframe\">\n",
       "  <thead>\n",
       "    <tr style=\"text-align: right;\">\n",
       "      <th></th>\n",
       "      <th>state</th>\n",
       "      <th>year</th>\n",
       "      <th>month</th>\n",
       "      <th>new_cases</th>\n",
       "      <th>new_deaths</th>\n",
       "    </tr>\n",
       "  </thead>\n",
       "  <tbody>\n",
       "    <tr>\n",
       "      <th>0</th>\n",
       "      <td>AK</td>\n",
       "      <td>2020</td>\n",
       "      <td>Apr</td>\n",
       "      <td>225</td>\n",
       "      <td>7</td>\n",
       "    </tr>\n",
       "    <tr>\n",
       "      <th>1</th>\n",
       "      <td>AK</td>\n",
       "      <td>2020</td>\n",
       "      <td>Aug</td>\n",
       "      <td>1988</td>\n",
       "      <td>13</td>\n",
       "    </tr>\n",
       "    <tr>\n",
       "      <th>2</th>\n",
       "      <td>AK</td>\n",
       "      <td>2020</td>\n",
       "      <td>Dec</td>\n",
       "      <td>14012</td>\n",
       "      <td>97</td>\n",
       "    </tr>\n",
       "    <tr>\n",
       "      <th>3</th>\n",
       "      <td>AK</td>\n",
       "      <td>2020</td>\n",
       "      <td>Feb</td>\n",
       "      <td>0</td>\n",
       "      <td>0</td>\n",
       "    </tr>\n",
       "    <tr>\n",
       "      <th>4</th>\n",
       "      <td>AK</td>\n",
       "      <td>2020</td>\n",
       "      <td>Jan</td>\n",
       "      <td>0</td>\n",
       "      <td>0</td>\n",
       "    </tr>\n",
       "    <tr>\n",
       "      <th>...</th>\n",
       "      <td>...</td>\n",
       "      <td>...</td>\n",
       "      <td>...</td>\n",
       "      <td>...</td>\n",
       "      <td>...</td>\n",
       "    </tr>\n",
       "    <tr>\n",
       "      <th>2455</th>\n",
       "      <td>WY</td>\n",
       "      <td>2023</td>\n",
       "      <td>Apr</td>\n",
       "      <td>542</td>\n",
       "      <td>11</td>\n",
       "    </tr>\n",
       "    <tr>\n",
       "      <th>2456</th>\n",
       "      <td>WY</td>\n",
       "      <td>2023</td>\n",
       "      <td>Feb</td>\n",
       "      <td>1156</td>\n",
       "      <td>23</td>\n",
       "    </tr>\n",
       "    <tr>\n",
       "      <th>2457</th>\n",
       "      <td>WY</td>\n",
       "      <td>2023</td>\n",
       "      <td>Jan</td>\n",
       "      <td>835</td>\n",
       "      <td>21</td>\n",
       "    </tr>\n",
       "    <tr>\n",
       "      <th>2458</th>\n",
       "      <td>WY</td>\n",
       "      <td>2023</td>\n",
       "      <td>Mar</td>\n",
       "      <td>1084</td>\n",
       "      <td>18</td>\n",
       "    </tr>\n",
       "    <tr>\n",
       "      <th>2459</th>\n",
       "      <td>WY</td>\n",
       "      <td>2023</td>\n",
       "      <td>May</td>\n",
       "      <td>366</td>\n",
       "      <td>0</td>\n",
       "    </tr>\n",
       "  </tbody>\n",
       "</table>\n",
       "<p>2460 rows × 5 columns</p>\n",
       "</div>"
      ],
      "text/plain": [
       "     state  year month  new_cases  new_deaths\n",
       "0       AK  2020   Apr        225           7\n",
       "1       AK  2020   Aug       1988          13\n",
       "2       AK  2020   Dec      14012          97\n",
       "3       AK  2020   Feb          0           0\n",
       "4       AK  2020   Jan          0           0\n",
       "...    ...   ...   ...        ...         ...\n",
       "2455    WY  2023   Apr        542          11\n",
       "2456    WY  2023   Feb       1156          23\n",
       "2457    WY  2023   Jan        835          21\n",
       "2458    WY  2023   Mar       1084          18\n",
       "2459    WY  2023   May        366           0\n",
       "\n",
       "[2460 rows x 5 columns]"
      ]
     },
     "execution_count": 189,
     "metadata": {},
     "output_type": "execute_result"
    }
   ],
   "source": [
    "df"
   ]
  },
  {
   "cell_type": "code",
   "execution_count": 8,
   "id": "582a2636-f2f0-4a31-a5a5-deb4b5b81128",
   "metadata": {},
   "outputs": [],
   "source": [
    "df = pd.read_csv('covid_state_data_20240720.csv')"
   ]
  },
  {
   "cell_type": "code",
   "execution_count": 10,
   "id": "ab3f85d4-ee23-4cab-840c-bf26d447536f",
   "metadata": {},
   "outputs": [],
   "source": [
    "def convert_to_year_month_string(y, m):\n",
    "    months = ['Jan', 'Feb', 'Mar', 'Apr', 'May', 'Jun', 'Jul', 'Aug', 'Sep', 'Oct', 'Nov', 'Dec']\n",
    "    month_num = months.index(m) + 1\n",
    "    if month_num < 10:\n",
    "        month_str = '0' + str(month_num)\n",
    "    else:\n",
    "        month_str = str(month_num)\n",
    "    return f'{y}-{month_str}'"
   ]
  },
  {
   "cell_type": "code",
   "execution_count": 12,
   "id": "1913ad2a-7517-4d4e-b637-e63c19e1b8de",
   "metadata": {},
   "outputs": [
    {
     "data": {
      "text/plain": [
       "'2020-12'"
      ]
     },
     "execution_count": 12,
     "metadata": {},
     "output_type": "execute_result"
    }
   ],
   "source": [
    "convert_to_year_month_string(2020, 'Dec')"
   ]
  },
  {
   "cell_type": "code",
   "execution_count": 13,
   "id": "4a0e98af-a0bb-40e2-8353-9528368deda8",
   "metadata": {},
   "outputs": [],
   "source": [
    "df['year-month'] = df.apply(lambda d: convert_to_year_month_string(d.year, d.month), axis=1)"
   ]
  },
  {
   "cell_type": "code",
   "execution_count": 14,
   "id": "d53d9871-f794-49f0-a5b0-cdee05f5dc5c",
   "metadata": {},
   "outputs": [
    {
     "data": {
      "text/html": [
       "<div>\n",
       "<style scoped>\n",
       "    .dataframe tbody tr th:only-of-type {\n",
       "        vertical-align: middle;\n",
       "    }\n",
       "\n",
       "    .dataframe tbody tr th {\n",
       "        vertical-align: top;\n",
       "    }\n",
       "\n",
       "    .dataframe thead th {\n",
       "        text-align: right;\n",
       "    }\n",
       "</style>\n",
       "<table border=\"1\" class=\"dataframe\">\n",
       "  <thead>\n",
       "    <tr style=\"text-align: right;\">\n",
       "      <th></th>\n",
       "      <th>state</th>\n",
       "      <th>year</th>\n",
       "      <th>month</th>\n",
       "      <th>new_cases</th>\n",
       "      <th>new_deaths</th>\n",
       "      <th>year-month</th>\n",
       "    </tr>\n",
       "  </thead>\n",
       "  <tbody>\n",
       "    <tr>\n",
       "      <th>0</th>\n",
       "      <td>AK</td>\n",
       "      <td>2020</td>\n",
       "      <td>Apr</td>\n",
       "      <td>225</td>\n",
       "      <td>7</td>\n",
       "      <td>2020-04</td>\n",
       "    </tr>\n",
       "    <tr>\n",
       "      <th>1</th>\n",
       "      <td>AK</td>\n",
       "      <td>2020</td>\n",
       "      <td>Aug</td>\n",
       "      <td>1988</td>\n",
       "      <td>13</td>\n",
       "      <td>2020-08</td>\n",
       "    </tr>\n",
       "    <tr>\n",
       "      <th>2</th>\n",
       "      <td>AK</td>\n",
       "      <td>2020</td>\n",
       "      <td>Dec</td>\n",
       "      <td>14012</td>\n",
       "      <td>97</td>\n",
       "      <td>2020-12</td>\n",
       "    </tr>\n",
       "    <tr>\n",
       "      <th>3</th>\n",
       "      <td>AK</td>\n",
       "      <td>2020</td>\n",
       "      <td>Feb</td>\n",
       "      <td>0</td>\n",
       "      <td>0</td>\n",
       "      <td>2020-02</td>\n",
       "    </tr>\n",
       "    <tr>\n",
       "      <th>4</th>\n",
       "      <td>AK</td>\n",
       "      <td>2020</td>\n",
       "      <td>Jan</td>\n",
       "      <td>0</td>\n",
       "      <td>0</td>\n",
       "      <td>2020-01</td>\n",
       "    </tr>\n",
       "    <tr>\n",
       "      <th>...</th>\n",
       "      <td>...</td>\n",
       "      <td>...</td>\n",
       "      <td>...</td>\n",
       "      <td>...</td>\n",
       "      <td>...</td>\n",
       "      <td>...</td>\n",
       "    </tr>\n",
       "    <tr>\n",
       "      <th>2455</th>\n",
       "      <td>WY</td>\n",
       "      <td>2023</td>\n",
       "      <td>Apr</td>\n",
       "      <td>542</td>\n",
       "      <td>11</td>\n",
       "      <td>2023-04</td>\n",
       "    </tr>\n",
       "    <tr>\n",
       "      <th>2456</th>\n",
       "      <td>WY</td>\n",
       "      <td>2023</td>\n",
       "      <td>Feb</td>\n",
       "      <td>1156</td>\n",
       "      <td>23</td>\n",
       "      <td>2023-02</td>\n",
       "    </tr>\n",
       "    <tr>\n",
       "      <th>2457</th>\n",
       "      <td>WY</td>\n",
       "      <td>2023</td>\n",
       "      <td>Jan</td>\n",
       "      <td>835</td>\n",
       "      <td>21</td>\n",
       "      <td>2023-01</td>\n",
       "    </tr>\n",
       "    <tr>\n",
       "      <th>2458</th>\n",
       "      <td>WY</td>\n",
       "      <td>2023</td>\n",
       "      <td>Mar</td>\n",
       "      <td>1084</td>\n",
       "      <td>18</td>\n",
       "      <td>2023-03</td>\n",
       "    </tr>\n",
       "    <tr>\n",
       "      <th>2459</th>\n",
       "      <td>WY</td>\n",
       "      <td>2023</td>\n",
       "      <td>May</td>\n",
       "      <td>366</td>\n",
       "      <td>0</td>\n",
       "      <td>2023-05</td>\n",
       "    </tr>\n",
       "  </tbody>\n",
       "</table>\n",
       "<p>2460 rows × 6 columns</p>\n",
       "</div>"
      ],
      "text/plain": [
       "     state  year month  new_cases  new_deaths year-month\n",
       "0       AK  2020   Apr        225           7    2020-04\n",
       "1       AK  2020   Aug       1988          13    2020-08\n",
       "2       AK  2020   Dec      14012          97    2020-12\n",
       "3       AK  2020   Feb          0           0    2020-02\n",
       "4       AK  2020   Jan          0           0    2020-01\n",
       "...    ...   ...   ...        ...         ...        ...\n",
       "2455    WY  2023   Apr        542          11    2023-04\n",
       "2456    WY  2023   Feb       1156          23    2023-02\n",
       "2457    WY  2023   Jan        835          21    2023-01\n",
       "2458    WY  2023   Mar       1084          18    2023-03\n",
       "2459    WY  2023   May        366           0    2023-05\n",
       "\n",
       "[2460 rows x 6 columns]"
      ]
     },
     "execution_count": 14,
     "metadata": {},
     "output_type": "execute_result"
    }
   ],
   "source": [
    "df"
   ]
  },
  {
   "cell_type": "code",
   "execution_count": 21,
   "id": "41cfae64-d16e-4d5d-b61f-f1c7bd8fcfc5",
   "metadata": {},
   "outputs": [],
   "source": [
    "df.to_csv('covid_state_data_20240720.csv', index=False)"
   ]
  },
  {
   "cell_type": "code",
   "execution_count": 22,
   "id": "f97d16bd-7373-4ed0-8f12-15ffe93426a0",
   "metadata": {},
   "outputs": [
    {
     "data": {
      "text/plain": [
       "2460"
      ]
     },
     "execution_count": 22,
     "metadata": {},
     "output_type": "execute_result"
    }
   ],
   "source": [
    "len(df)"
   ]
  },
  {
   "cell_type": "code",
   "execution_count": null,
   "id": "13ca347c-ed83-4821-8265-9075374c4dce",
   "metadata": {},
   "outputs": [],
   "source": []
  },
  {
   "cell_type": "code",
   "execution_count": null,
   "id": "904ac259-8904-4518-8158-41b874b2fb62",
   "metadata": {},
   "outputs": [],
   "source": []
  },
  {
   "cell_type": "code",
   "execution_count": 210,
   "id": "00b3ff6e-4359-40cb-8b59-6d48a311517f",
   "metadata": {},
   "outputs": [],
   "source": [
    "months = ['Jan', 'Feb', 'Mar', 'Apr', 'May', 'Jun', 'Jul', 'Aug', 'Sep', 'Oct', 'Nov', 'Dec']\n",
    "month_nums = [1,2,3,4,5,6,7,8,9,10,11,12]\n",
    "data = {\n",
    "    'month_index': month_nums,\n",
    "    'month': months\n",
    "}\n",
    "pd.DataFrame(data).to_csv('months.csv', index=False)"
   ]
  },
  {
   "cell_type": "code",
   "execution_count": null,
   "id": "d136694c-3ca9-469b-b616-7eee6446008c",
   "metadata": {},
   "outputs": [],
   "source": []
  },
  {
   "cell_type": "code",
   "execution_count": null,
   "id": "5e799b49-46c7-4a0f-93bb-5717848a350e",
   "metadata": {},
   "outputs": [],
   "source": []
  },
  {
   "cell_type": "code",
   "execution_count": null,
   "id": "3cc6fdb6-30d8-4101-a701-a79eb6505803",
   "metadata": {},
   "outputs": [],
   "source": []
  }
 ],
 "metadata": {
  "kernelspec": {
   "display_name": "Python 3 (ipykernel)",
   "language": "python",
   "name": "python3"
  },
  "language_info": {
   "codemirror_mode": {
    "name": "ipython",
    "version": 3
   },
   "file_extension": ".py",
   "mimetype": "text/x-python",
   "name": "python",
   "nbconvert_exporter": "python",
   "pygments_lexer": "ipython3",
   "version": "3.10.14"
  }
 },
 "nbformat": 4,
 "nbformat_minor": 5
}
