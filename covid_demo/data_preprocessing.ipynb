{
 "cells": [
  {
   "cell_type": "code",
   "execution_count": null,
   "id": "5491a6bb-b245-4774-8994-f0d927d46cbb",
   "metadata": {},
   "outputs": [],
   "source": []
  },
  {
   "cell_type": "raw",
   "id": "0a2d441d-0ee0-4446-bf11-effeb8eaacb9",
   "metadata": {},
   "source": [
    "Sources\n",
    "\n",
    "https://data.cdc.gov/Case-Surveillance/COVID-19-Case-Surveillance-Public-Use-Data/vbim-akqf/about_data\n",
    "- sex - not one of 'Unknown', 'Missing', 'NA', 'Other'\n",
    "- age_group - not one of 'Missing', 'NA'\n",
    "- race_ethnicity_combined - not one of 'Unknown', 'Missing', 'NA'\n",
    "5.57gb\n",
    "\n",
    "https://data.cdc.gov/Case-Surveillance/Weekly-United-States-COVID-19-Cases-and-Deaths-by-/pwn4-m3yp/about_data\n",
    "612kb\n",
    "\n"
   ]
  },
  {
   "cell_type": "raw",
   "id": "b552de98-ee1a-44e1-8810-f332939b641e",
   "metadata": {},
   "source": [
    "COVID-19_Case_Surveillance_Public_Use_Data_20240718.csv\n",
    "Weekly_United_States_COVID-19_Cases_and_Deaths_by_State_-_ARCHIVED_20240720.csv"
   ]
  },
  {
   "cell_type": "code",
   "execution_count": null,
   "id": "7c10c597-2b72-4504-b912-9519bad36836",
   "metadata": {},
   "outputs": [],
   "source": []
  },
  {
   "cell_type": "code",
   "execution_count": 1,
   "id": "bc2a61f1-3038-41c4-8e40-b03f9d5c75af",
   "metadata": {},
   "outputs": [],
   "source": [
    "import pandas as pd\n",
    "import numpy as np"
   ]
  },
  {
   "cell_type": "code",
   "execution_count": null,
   "id": "c8534ba5-c60f-4ac4-961b-fa7708cd0758",
   "metadata": {},
   "outputs": [],
   "source": []
  },
  {
   "cell_type": "code",
   "execution_count": null,
   "id": "cc6f0ee0-e65d-47c2-acff-ff9018c79a11",
   "metadata": {},
   "outputs": [],
   "source": [
    "# Load in case data"
   ]
  },
  {
   "cell_type": "code",
   "execution_count": 7,
   "id": "2f91b0b9-afba-4fa2-a65b-d715a0749ac1",
   "metadata": {},
   "outputs": [],
   "source": [
    "df = pd.read_csv('COVID-19_Case_Surveillance_Public_Use_Data_20240718.csv')"
   ]
  },
  {
   "cell_type": "code",
   "execution_count": 13,
   "id": "f6d8434a-8fd1-44ba-8425-6a667ce2bb8c",
   "metadata": {},
   "outputs": [],
   "source": [
    "df = df[['cdc_report_dt', 'sex', 'age_group', 'race_ethnicity_combined',\n",
    "       'hosp_yn', 'icu_yn', 'death_yn', 'medcond_yn']]"
   ]
  },
  {
   "cell_type": "code",
   "execution_count": null,
   "id": "59df43a5-6172-4d51-8e66-1e9074570b3b",
   "metadata": {},
   "outputs": [],
   "source": [
    "# Change column names to be more clear"
   ]
  },
  {
   "cell_type": "code",
   "execution_count": 49,
   "id": "bc4e3b5d-4aa9-4542-b233-dd8d7c7ed996",
   "metadata": {},
   "outputs": [],
   "source": [
    "df.columns = ['cdc_report_dt', 'sex', 'age_group', 'race_ethnicity',\n",
    "       'hospitalized', 'icu', 'death', 'preexisting_medcondition']"
   ]
  },
  {
   "cell_type": "code",
   "execution_count": 21,
   "id": "d1962eac-3c4d-4a0f-916b-229d3bce314b",
   "metadata": {},
   "outputs": [
    {
     "data": {
      "text/plain": [
       "70699482"
      ]
     },
     "execution_count": 21,
     "metadata": {},
     "output_type": "execute_result"
    }
   ],
   "source": [
    "len(df)"
   ]
  },
  {
   "cell_type": "code",
   "execution_count": 15,
   "id": "ecd6c95a-a114-4216-bbaa-b145f25e7288",
   "metadata": {},
   "outputs": [
    {
     "data": {
      "text/html": [
       "<div>\n",
       "<style scoped>\n",
       "    .dataframe tbody tr th:only-of-type {\n",
       "        vertical-align: middle;\n",
       "    }\n",
       "\n",
       "    .dataframe tbody tr th {\n",
       "        vertical-align: top;\n",
       "    }\n",
       "\n",
       "    .dataframe thead th {\n",
       "        text-align: right;\n",
       "    }\n",
       "</style>\n",
       "<table border=\"1\" class=\"dataframe\">\n",
       "  <thead>\n",
       "    <tr style=\"text-align: right;\">\n",
       "      <th></th>\n",
       "      <th>cdc_report_dt</th>\n",
       "      <th>sex</th>\n",
       "      <th>age_group</th>\n",
       "      <th>race_ethnicity_combined</th>\n",
       "      <th>hosp_yn</th>\n",
       "      <th>icu_yn</th>\n",
       "      <th>death_yn</th>\n",
       "      <th>medcond_yn</th>\n",
       "    </tr>\n",
       "  </thead>\n",
       "  <tbody>\n",
       "    <tr>\n",
       "      <th>0</th>\n",
       "      <td>2022/01/31</td>\n",
       "      <td>Female</td>\n",
       "      <td>20 - 29 Years</td>\n",
       "      <td>Asian, Non-Hispanic</td>\n",
       "      <td>Missing</td>\n",
       "      <td>Missing</td>\n",
       "      <td>Missing</td>\n",
       "      <td>Missing</td>\n",
       "    </tr>\n",
       "    <tr>\n",
       "      <th>1</th>\n",
       "      <td>2020/07/11</td>\n",
       "      <td>Female</td>\n",
       "      <td>20 - 29 Years</td>\n",
       "      <td>Asian, Non-Hispanic</td>\n",
       "      <td>Unknown</td>\n",
       "      <td>Unknown</td>\n",
       "      <td>Unknown</td>\n",
       "      <td>No</td>\n",
       "    </tr>\n",
       "    <tr>\n",
       "      <th>2</th>\n",
       "      <td>2022/09/01</td>\n",
       "      <td>Female</td>\n",
       "      <td>20 - 29 Years</td>\n",
       "      <td>Asian, Non-Hispanic</td>\n",
       "      <td>Unknown</td>\n",
       "      <td>Missing</td>\n",
       "      <td>No</td>\n",
       "      <td>Missing</td>\n",
       "    </tr>\n",
       "    <tr>\n",
       "      <th>3</th>\n",
       "      <td>2023/01/10</td>\n",
       "      <td>Female</td>\n",
       "      <td>20 - 29 Years</td>\n",
       "      <td>Asian, Non-Hispanic</td>\n",
       "      <td>Unknown</td>\n",
       "      <td>Unknown</td>\n",
       "      <td>Missing</td>\n",
       "      <td>Unknown</td>\n",
       "    </tr>\n",
       "    <tr>\n",
       "      <th>4</th>\n",
       "      <td>2020/11/01</td>\n",
       "      <td>Female</td>\n",
       "      <td>20 - 29 Years</td>\n",
       "      <td>Asian, Non-Hispanic</td>\n",
       "      <td>Unknown</td>\n",
       "      <td>Missing</td>\n",
       "      <td>Unknown</td>\n",
       "      <td>Missing</td>\n",
       "    </tr>\n",
       "    <tr>\n",
       "      <th>5</th>\n",
       "      <td>2024/06/24</td>\n",
       "      <td>Female</td>\n",
       "      <td>20 - 29 Years</td>\n",
       "      <td>Asian, Non-Hispanic</td>\n",
       "      <td>Unknown</td>\n",
       "      <td>Missing</td>\n",
       "      <td>Unknown</td>\n",
       "      <td>Missing</td>\n",
       "    </tr>\n",
       "    <tr>\n",
       "      <th>6</th>\n",
       "      <td>2022/10/01</td>\n",
       "      <td>Female</td>\n",
       "      <td>20 - 29 Years</td>\n",
       "      <td>Asian, Non-Hispanic</td>\n",
       "      <td>Missing</td>\n",
       "      <td>Missing</td>\n",
       "      <td>Missing</td>\n",
       "      <td>Missing</td>\n",
       "    </tr>\n",
       "    <tr>\n",
       "      <th>7</th>\n",
       "      <td>2022/07/08</td>\n",
       "      <td>Female</td>\n",
       "      <td>20 - 29 Years</td>\n",
       "      <td>Asian, Non-Hispanic</td>\n",
       "      <td>No</td>\n",
       "      <td>Missing</td>\n",
       "      <td>Missing</td>\n",
       "      <td>Missing</td>\n",
       "    </tr>\n",
       "    <tr>\n",
       "      <th>8</th>\n",
       "      <td>2021/09/08</td>\n",
       "      <td>Female</td>\n",
       "      <td>20 - 29 Years</td>\n",
       "      <td>Asian, Non-Hispanic</td>\n",
       "      <td>No</td>\n",
       "      <td>Missing</td>\n",
       "      <td>No</td>\n",
       "      <td>Missing</td>\n",
       "    </tr>\n",
       "    <tr>\n",
       "      <th>9</th>\n",
       "      <td>2022/01/21</td>\n",
       "      <td>Female</td>\n",
       "      <td>20 - 29 Years</td>\n",
       "      <td>Asian, Non-Hispanic</td>\n",
       "      <td>No</td>\n",
       "      <td>Unknown</td>\n",
       "      <td>Missing</td>\n",
       "      <td>Yes</td>\n",
       "    </tr>\n",
       "  </tbody>\n",
       "</table>\n",
       "</div>"
      ],
      "text/plain": [
       "  cdc_report_dt     sex      age_group race_ethnicity_combined  hosp_yn  \\\n",
       "0    2022/01/31  Female  20 - 29 Years     Asian, Non-Hispanic  Missing   \n",
       "1    2020/07/11  Female  20 - 29 Years     Asian, Non-Hispanic  Unknown   \n",
       "2    2022/09/01  Female  20 - 29 Years     Asian, Non-Hispanic  Unknown   \n",
       "3    2023/01/10  Female  20 - 29 Years     Asian, Non-Hispanic  Unknown   \n",
       "4    2020/11/01  Female  20 - 29 Years     Asian, Non-Hispanic  Unknown   \n",
       "5    2024/06/24  Female  20 - 29 Years     Asian, Non-Hispanic  Unknown   \n",
       "6    2022/10/01  Female  20 - 29 Years     Asian, Non-Hispanic  Missing   \n",
       "7    2022/07/08  Female  20 - 29 Years     Asian, Non-Hispanic       No   \n",
       "8    2021/09/08  Female  20 - 29 Years     Asian, Non-Hispanic       No   \n",
       "9    2022/01/21  Female  20 - 29 Years     Asian, Non-Hispanic       No   \n",
       "\n",
       "    icu_yn death_yn medcond_yn  \n",
       "0  Missing  Missing    Missing  \n",
       "1  Unknown  Unknown         No  \n",
       "2  Missing       No    Missing  \n",
       "3  Unknown  Missing    Unknown  \n",
       "4  Missing  Unknown    Missing  \n",
       "5  Missing  Unknown    Missing  \n",
       "6  Missing  Missing    Missing  \n",
       "7  Missing  Missing    Missing  \n",
       "8  Missing       No    Missing  \n",
       "9  Unknown  Missing        Yes  "
      ]
     },
     "execution_count": 15,
     "metadata": {},
     "output_type": "execute_result"
    }
   ],
   "source": [
    "df.head(10)"
   ]
  },
  {
   "cell_type": "code",
   "execution_count": null,
   "id": "d4f124d7-5a12-4155-b328-4fccf661c6d6",
   "metadata": {},
   "outputs": [],
   "source": [
    "# Get year and month columns, first by removing NaN entries from 'cdc_report_dt'"
   ]
  },
  {
   "cell_type": "code",
   "execution_count": 42,
   "id": "c69fa635-1f16-4c0c-afc8-d78dfb957a55",
   "metadata": {},
   "outputs": [],
   "source": [
    "df = df[df['cdc_report_dt'].notnull()]"
   ]
  },
  {
   "cell_type": "code",
   "execution_count": 50,
   "id": "5f3e823d-4adb-4557-bf3e-9a1e09aad8b7",
   "metadata": {},
   "outputs": [
    {
     "data": {
      "text/plain": [
       "64742216"
      ]
     },
     "execution_count": 50,
     "metadata": {},
     "output_type": "execute_result"
    }
   ],
   "source": [
    "len(df)"
   ]
  },
  {
   "cell_type": "code",
   "execution_count": 53,
   "id": "622ad7ae-a671-4d17-84b2-55ca650c7c58",
   "metadata": {},
   "outputs": [],
   "source": [
    "def find_year(s):\n",
    "    return int(s[:4])\n",
    "\n",
    "def find_month(s):\n",
    "    months = ['Jan', 'Feb', 'Mar', 'Apr', 'May', 'Jun', 'Jul', 'Aug', 'Sep', 'Oct', 'Nov', 'Dec']\n",
    "    month_number = int(s[5:7])\n",
    "    return months[month_number-1]"
   ]
  },
  {
   "cell_type": "code",
   "execution_count": 58,
   "id": "fa9c8fec-7fcb-4164-91af-a2d618c723ca",
   "metadata": {},
   "outputs": [
    {
     "data": {
      "text/plain": [
       "'Dec'"
      ]
     },
     "execution_count": 58,
     "metadata": {},
     "output_type": "execute_result"
    }
   ],
   "source": [
    "s = '2020/12/11'\n",
    "find_month(s)"
   ]
  },
  {
   "cell_type": "code",
   "execution_count": 56,
   "id": "c127a500-653e-4abc-8a53-bc941a8bdbef",
   "metadata": {},
   "outputs": [],
   "source": [
    "df['year'] = df['cdc_report_dt'].apply(find_year)"
   ]
  },
  {
   "cell_type": "code",
   "execution_count": 47,
   "id": "944d39a8-6968-45c8-9e6f-4ca91d99db1f",
   "metadata": {},
   "outputs": [
    {
     "data": {
      "text/plain": [
       "year\n",
       "2022    26238047\n",
       "2021    19683940\n",
       "2020     8068238\n",
       "2023     6556529\n",
       "2024     4195462\n",
       "Name: count, dtype: int64"
      ]
     },
     "execution_count": 47,
     "metadata": {},
     "output_type": "execute_result"
    }
   ],
   "source": [
    "df.year.value_counts()"
   ]
  },
  {
   "cell_type": "code",
   "execution_count": 59,
   "id": "26b5ee26-e70a-4bd2-9531-97325b3c72f5",
   "metadata": {},
   "outputs": [],
   "source": [
    "df['month'] = df['cdc_report_dt'].apply(find_month)"
   ]
  },
  {
   "cell_type": "code",
   "execution_count": 60,
   "id": "7a2295d6-875b-4908-a1d0-183078961a42",
   "metadata": {},
   "outputs": [
    {
     "data": {
      "text/plain": [
       "month\n",
       "Jan    13167231\n",
       "Dec     8957556\n",
       "Feb     5172084\n",
       "Jun     4839138\n",
       "Nov     4817261\n",
       "Sep     4755364\n",
       "Aug     4543278\n",
       "Mar     4456841\n",
       "Oct     3899386\n",
       "May     3448418\n",
       "Jul     3357572\n",
       "Apr     3328087\n",
       "Name: count, dtype: int64"
      ]
     },
     "execution_count": 60,
     "metadata": {},
     "output_type": "execute_result"
    }
   ],
   "source": [
    "df.month.value_counts()"
   ]
  },
  {
   "cell_type": "code",
   "execution_count": 61,
   "id": "9ec640b9-eb40-40a0-8a9c-7c0003fb51e8",
   "metadata": {},
   "outputs": [],
   "source": [
    "# save initial file, will slice down more based on what I decide to put on the dashboard\n",
    "df.to_csv('covid_case_data_20240718_full.csv', index=False)"
   ]
  },
  {
   "cell_type": "code",
   "execution_count": 62,
   "id": "116749ce-005d-48e8-860e-b2c5a7efd3d9",
   "metadata": {},
   "outputs": [
    {
     "data": {
      "text/plain": [
       "Index(['cdc_report_dt', 'sex', 'age_group', 'race_ethnicity', 'hospitalized',\n",
       "       'icu', 'death', 'preexisting_medcondition', 'year', 'month'],\n",
       "      dtype='object')"
      ]
     },
     "execution_count": 62,
     "metadata": {},
     "output_type": "execute_result"
    }
   ],
   "source": [
    "df.columns"
   ]
  },
  {
   "cell_type": "code",
   "execution_count": 63,
   "id": "9794a32f-6158-429d-a8b3-1c18b5361f04",
   "metadata": {},
   "outputs": [],
   "source": [
    "df.drop(['cdc_report_dt', 'preexisting_medcondition', 'sex'], axis=1, inplace=True)"
   ]
  },
  {
   "cell_type": "code",
   "execution_count": 64,
   "id": "4fab4715-7438-44a2-aedb-20f3ed657235",
   "metadata": {},
   "outputs": [
    {
     "data": {
      "text/plain": [
       "race_ethnicity\n",
       "White, Non-Hispanic                                     36619285\n",
       "Hispanic/Latino                                         14037786\n",
       "Black, Non-Hispanic                                      8661469\n",
       "Asian, Non-Hispanic                                      2446137\n",
       "Multiple/Other, Non-Hispanic                             2159977\n",
       "American Indian/Alaska Native, Non-Hispanic               668488\n",
       "Native Hawaiian/Other Pacific Islander, Non-Hispanic      149074\n",
       "Name: count, dtype: int64"
      ]
     },
     "execution_count": 64,
     "metadata": {},
     "output_type": "execute_result"
    }
   ],
   "source": [
    "df.race_ethnicity.value_counts()"
   ]
  },
  {
   "cell_type": "code",
   "execution_count": 66,
   "id": "10f83213-66d8-42ef-9a72-486f9fa3fc5f",
   "metadata": {},
   "outputs": [
    {
     "data": {
      "text/plain": [
       "Index(['age_group', 'race_ethnicity', 'hospitalized', 'icu', 'death', 'year',\n",
       "       'month'],\n",
       "      dtype='object')"
      ]
     },
     "execution_count": 66,
     "metadata": {},
     "output_type": "execute_result"
    }
   ],
   "source": [
    "df.columns"
   ]
  },
  {
   "cell_type": "code",
   "execution_count": 67,
   "id": "4830f26d-d1ca-4651-832e-c4bef34babea",
   "metadata": {},
   "outputs": [
    {
     "data": {
      "text/html": [
       "<div>\n",
       "<style scoped>\n",
       "    .dataframe tbody tr th:only-of-type {\n",
       "        vertical-align: middle;\n",
       "    }\n",
       "\n",
       "    .dataframe tbody tr th {\n",
       "        vertical-align: top;\n",
       "    }\n",
       "\n",
       "    .dataframe thead th {\n",
       "        text-align: right;\n",
       "    }\n",
       "</style>\n",
       "<table border=\"1\" class=\"dataframe\">\n",
       "  <thead>\n",
       "    <tr style=\"text-align: right;\">\n",
       "      <th></th>\n",
       "      <th>year</th>\n",
       "    </tr>\n",
       "  </thead>\n",
       "  <tbody>\n",
       "    <tr>\n",
       "      <th>count</th>\n",
       "      <td>6.474222e+07</td>\n",
       "    </tr>\n",
       "    <tr>\n",
       "      <th>mean</th>\n",
       "      <td>2.021678e+03</td>\n",
       "    </tr>\n",
       "    <tr>\n",
       "      <th>std</th>\n",
       "      <td>1.029106e+00</td>\n",
       "    </tr>\n",
       "    <tr>\n",
       "      <th>min</th>\n",
       "      <td>2.020000e+03</td>\n",
       "    </tr>\n",
       "    <tr>\n",
       "      <th>25%</th>\n",
       "      <td>2.021000e+03</td>\n",
       "    </tr>\n",
       "    <tr>\n",
       "      <th>50%</th>\n",
       "      <td>2.022000e+03</td>\n",
       "    </tr>\n",
       "    <tr>\n",
       "      <th>75%</th>\n",
       "      <td>2.022000e+03</td>\n",
       "    </tr>\n",
       "    <tr>\n",
       "      <th>max</th>\n",
       "      <td>2.024000e+03</td>\n",
       "    </tr>\n",
       "  </tbody>\n",
       "</table>\n",
       "</div>"
      ],
      "text/plain": [
       "               year\n",
       "count  6.474222e+07\n",
       "mean   2.021678e+03\n",
       "std    1.029106e+00\n",
       "min    2.020000e+03\n",
       "25%    2.021000e+03\n",
       "50%    2.022000e+03\n",
       "75%    2.022000e+03\n",
       "max    2.024000e+03"
      ]
     },
     "execution_count": 67,
     "metadata": {},
     "output_type": "execute_result"
    }
   ],
   "source": [
    "df.describe()"
   ]
  },
  {
   "cell_type": "code",
   "execution_count": 68,
   "id": "c6761f45-bc21-477f-8b83-2191c42db60e",
   "metadata": {},
   "outputs": [
    {
     "data": {
      "text/html": [
       "<div>\n",
       "<style scoped>\n",
       "    .dataframe tbody tr th:only-of-type {\n",
       "        vertical-align: middle;\n",
       "    }\n",
       "\n",
       "    .dataframe tbody tr th {\n",
       "        vertical-align: top;\n",
       "    }\n",
       "\n",
       "    .dataframe thead th {\n",
       "        text-align: right;\n",
       "    }\n",
       "</style>\n",
       "<table border=\"1\" class=\"dataframe\">\n",
       "  <thead>\n",
       "    <tr style=\"text-align: right;\">\n",
       "      <th></th>\n",
       "      <th>age_group</th>\n",
       "      <th>race_ethnicity</th>\n",
       "      <th>hospitalized</th>\n",
       "      <th>icu</th>\n",
       "      <th>death</th>\n",
       "      <th>month</th>\n",
       "    </tr>\n",
       "  </thead>\n",
       "  <tbody>\n",
       "    <tr>\n",
       "      <th>count</th>\n",
       "      <td>64742216</td>\n",
       "      <td>64742216</td>\n",
       "      <td>64742216</td>\n",
       "      <td>64742216</td>\n",
       "      <td>64742216</td>\n",
       "      <td>64742216</td>\n",
       "    </tr>\n",
       "    <tr>\n",
       "      <th>unique</th>\n",
       "      <td>9</td>\n",
       "      <td>7</td>\n",
       "      <td>4</td>\n",
       "      <td>4</td>\n",
       "      <td>4</td>\n",
       "      <td>12</td>\n",
       "    </tr>\n",
       "    <tr>\n",
       "      <th>top</th>\n",
       "      <td>20 - 29 Years</td>\n",
       "      <td>White, Non-Hispanic</td>\n",
       "      <td>Missing</td>\n",
       "      <td>Missing</td>\n",
       "      <td>Missing</td>\n",
       "      <td>Jan</td>\n",
       "    </tr>\n",
       "    <tr>\n",
       "      <th>freq</th>\n",
       "      <td>10633145</td>\n",
       "      <td>36619285</td>\n",
       "      <td>27136853</td>\n",
       "      <td>54261309</td>\n",
       "      <td>29943644</td>\n",
       "      <td>13167231</td>\n",
       "    </tr>\n",
       "  </tbody>\n",
       "</table>\n",
       "</div>"
      ],
      "text/plain": [
       "            age_group       race_ethnicity hospitalized       icu     death  \\\n",
       "count        64742216             64742216     64742216  64742216  64742216   \n",
       "unique              9                    7            4         4         4   \n",
       "top     20 - 29 Years  White, Non-Hispanic      Missing   Missing   Missing   \n",
       "freq         10633145             36619285     27136853  54261309  29943644   \n",
       "\n",
       "           month  \n",
       "count   64742216  \n",
       "unique        12  \n",
       "top          Jan  \n",
       "freq    13167231  "
      ]
     },
     "execution_count": 68,
     "metadata": {},
     "output_type": "execute_result"
    }
   ],
   "source": [
    "df[['age_group', 'race_ethnicity', 'hospitalized', 'icu', 'death', 'month']].describe()"
   ]
  },
  {
   "cell_type": "code",
   "execution_count": 69,
   "id": "6728c73d-f66f-453d-8992-fd78b437611f",
   "metadata": {},
   "outputs": [],
   "source": [
    "# save working file, but it's still too large at 3.9gb\n",
    "df.to_csv('covid_case_data_20240718.csv', index=False)"
   ]
  },
  {
   "cell_type": "code",
   "execution_count": null,
   "id": "7de95af8-362b-4308-8c7a-314a0cc2daa3",
   "metadata": {},
   "outputs": [],
   "source": [
    "# will try to make the file size smaller by truncating some of the text"
   ]
  },
  {
   "cell_type": "code",
   "execution_count": 70,
   "id": "c26b2b08-1100-4de5-88fb-ab37caff1b66",
   "metadata": {},
   "outputs": [
    {
     "data": {
      "text/plain": [
       "age_group\n",
       "20 - 29 Years    10633145\n",
       "30 - 39 Years    10337174\n",
       "40 - 49 Years     8918721\n",
       "50 - 59 Years     8477923\n",
       "10 - 19 Years     7433999\n",
       "60 - 69 Years     6692023\n",
       "0 - 9 Years       5039122\n",
       "70 - 79 Years     4293987\n",
       "80+ Years         2916122\n",
       "Name: count, dtype: int64"
      ]
     },
     "execution_count": 70,
     "metadata": {},
     "output_type": "execute_result"
    }
   ],
   "source": [
    "df.age_group.value_counts()"
   ]
  },
  {
   "cell_type": "code",
   "execution_count": 77,
   "id": "6cd1c4d1-6461-4814-8e7b-1155b4da82b6",
   "metadata": {},
   "outputs": [],
   "source": [
    "df['age_group'] = df['age_group'].apply(lambda s: s.replace('Years','').replace(' ',''))"
   ]
  },
  {
   "cell_type": "code",
   "execution_count": 78,
   "id": "0d34e582-1691-4912-bb42-67399304651f",
   "metadata": {},
   "outputs": [
    {
     "data": {
      "text/plain": [
       "age_group\n",
       "20-29    10633145\n",
       "30-39    10337174\n",
       "40-49     8918721\n",
       "50-59     8477923\n",
       "10-19     7433999\n",
       "60-69     6692023\n",
       "0-9       5039122\n",
       "70-79     4293987\n",
       "80+       2916122\n",
       "Name: count, dtype: int64"
      ]
     },
     "execution_count": 78,
     "metadata": {},
     "output_type": "execute_result"
    }
   ],
   "source": [
    "df.age_group.value_counts()"
   ]
  },
  {
   "cell_type": "code",
   "execution_count": 71,
   "id": "01715f8b-f286-4f63-b907-8832111f8554",
   "metadata": {},
   "outputs": [
    {
     "data": {
      "text/plain": [
       "race_ethnicity\n",
       "White, Non-Hispanic                                     36619285\n",
       "Hispanic/Latino                                         14037786\n",
       "Black, Non-Hispanic                                      8661469\n",
       "Asian, Non-Hispanic                                      2446137\n",
       "Multiple/Other, Non-Hispanic                             2159977\n",
       "American Indian/Alaska Native, Non-Hispanic               668488\n",
       "Native Hawaiian/Other Pacific Islander, Non-Hispanic      149074\n",
       "Name: count, dtype: int64"
      ]
     },
     "execution_count": 71,
     "metadata": {},
     "output_type": "execute_result"
    }
   ],
   "source": [
    "df.race_ethnicity.value_counts()"
   ]
  },
  {
   "cell_type": "code",
   "execution_count": 81,
   "id": "fc05063f-be77-4b62-b096-4f995eb83b19",
   "metadata": {},
   "outputs": [],
   "source": [
    "df['race_ethnicity'] = df['race_ethnicity'].apply(lambda s: s.replace(', Non-Hispanic', ''))"
   ]
  },
  {
   "cell_type": "code",
   "execution_count": 82,
   "id": "ef012d64-68ad-4976-989d-74cd4ee52b89",
   "metadata": {},
   "outputs": [
    {
     "data": {
      "text/plain": [
       "race_ethnicity\n",
       "White                                     36619285\n",
       "Hispanic/Latino                           14037786\n",
       "Black                                      8661469\n",
       "Asian                                      2446137\n",
       "Multiple/Other                             2159977\n",
       "American Indian/Alaska Native               668488\n",
       "Native Hawaiian/Other Pacific Islander      149074\n",
       "Name: count, dtype: int64"
      ]
     },
     "execution_count": 82,
     "metadata": {},
     "output_type": "execute_result"
    }
   ],
   "source": [
    "df.race_ethnicity.value_counts()"
   ]
  },
  {
   "cell_type": "code",
   "execution_count": 87,
   "id": "f02b52ab-48e3-4b78-9916-85d471aede6b",
   "metadata": {},
   "outputs": [],
   "source": [
    "def replace_hospitalized_icu_death_values_to_bool(s):\n",
    "    if s in ['Missing', 'Unknown']:\n",
    "        return None\n",
    "    elif s == 'Yes':\n",
    "        return True\n",
    "    else:\n",
    "        return False"
   ]
  },
  {
   "cell_type": "code",
   "execution_count": 72,
   "id": "d06a1168-d198-47bf-99d8-caab8dce0649",
   "metadata": {},
   "outputs": [
    {
     "data": {
      "text/plain": [
       "hospitalized\n",
       "Missing    27136853\n",
       "No         24045526\n",
       "Unknown    10919379\n",
       "Yes         2640458\n",
       "Name: count, dtype: int64"
      ]
     },
     "execution_count": 72,
     "metadata": {},
     "output_type": "execute_result"
    }
   ],
   "source": [
    "df.hospitalized.value_counts()"
   ]
  },
  {
   "cell_type": "code",
   "execution_count": 73,
   "id": "eefd809d-c7e1-4293-a419-f4e468bd8a64",
   "metadata": {},
   "outputs": [
    {
     "data": {
      "text/plain": [
       "icu\n",
       "Missing    54261309\n",
       "Unknown     7843555\n",
       "No          2453810\n",
       "Yes          183542\n",
       "Name: count, dtype: int64"
      ]
     },
     "execution_count": 73,
     "metadata": {},
     "output_type": "execute_result"
    }
   ],
   "source": [
    "df.icu.value_counts()"
   ]
  },
  {
   "cell_type": "code",
   "execution_count": 74,
   "id": "54211a67-40d4-49cc-9190-f00b77ce510b",
   "metadata": {},
   "outputs": [
    {
     "data": {
      "text/plain": [
       "death\n",
       "Missing    29943644\n",
       "No         23791233\n",
       "Unknown    10130814\n",
       "Yes          876525\n",
       "Name: count, dtype: int64"
      ]
     },
     "execution_count": 74,
     "metadata": {},
     "output_type": "execute_result"
    }
   ],
   "source": [
    "df.death.value_counts()"
   ]
  },
  {
   "cell_type": "code",
   "execution_count": 88,
   "id": "0cedda9a-6861-4107-9dff-690cdcf0510a",
   "metadata": {},
   "outputs": [],
   "source": [
    "df['hospitalized'] = df['hospitalized'].apply(replace_hospitalized_icu_death_values_to_bool)\n",
    "df['icu'] = df['icu'].apply(replace_hospitalized_icu_death_values_to_bool)\n",
    "df['death'] = df['death'].apply(replace_hospitalized_icu_death_values_to_bool)"
   ]
  },
  {
   "cell_type": "code",
   "execution_count": 89,
   "id": "422edf7b-2192-47ae-bd89-83329fa89eb0",
   "metadata": {},
   "outputs": [],
   "source": [
    "# still 1.8 gb\n",
    "df.to_csv('covid_case_data_20240718.csv', index=False)"
   ]
  },
  {
   "cell_type": "code",
   "execution_count": null,
   "id": "77f23b32-9bbf-4265-ab35-67b5c76cf5d1",
   "metadata": {},
   "outputs": [],
   "source": [
    "# removing all values with missing data in the three columns: hospitalized, icu, death"
   ]
  },
  {
   "cell_type": "code",
   "execution_count": 90,
   "id": "932d5406-06ce-42c6-b40c-c891ae6a245b",
   "metadata": {},
   "outputs": [
    {
     "data": {
      "text/plain": [
       "64742216"
      ]
     },
     "execution_count": 90,
     "metadata": {},
     "output_type": "execute_result"
    }
   ],
   "source": [
    "len(df)"
   ]
  },
  {
   "cell_type": "code",
   "execution_count": 92,
   "id": "f5288bdd-a31b-4d79-9a86-42831ab78df9",
   "metadata": {},
   "outputs": [
    {
     "data": {
      "text/plain": [
       "hospitalized\n",
       "None     38056232\n",
       "False    24045526\n",
       "True      2640458\n",
       "Name: count, dtype: int64"
      ]
     },
     "execution_count": 92,
     "metadata": {},
     "output_type": "execute_result"
    }
   ],
   "source": [
    "df.hospitalized.value_counts(dropna=False)"
   ]
  },
  {
   "cell_type": "code",
   "execution_count": 99,
   "id": "2c142018-1757-4495-ab17-c696cfd55bd8",
   "metadata": {},
   "outputs": [],
   "source": [
    "df.dropna(axis=0, how='all', subset=['hospitalized','icu','death'], inplace=True)"
   ]
  },
  {
   "cell_type": "code",
   "execution_count": 100,
   "id": "f65547ef-2f63-46c5-a83d-fc8eede79bb5",
   "metadata": {},
   "outputs": [
    {
     "data": {
      "text/plain": [
       "33899452"
      ]
     },
     "execution_count": 100,
     "metadata": {},
     "output_type": "execute_result"
    }
   ],
   "source": [
    "len(df)"
   ]
  },
  {
   "cell_type": "code",
   "execution_count": 102,
   "id": "22add3b8-06f7-4fc5-b8a8-2f5a0350b2d3",
   "metadata": {},
   "outputs": [],
   "source": [
    "# 1.1gb...\n",
    "df.to_csv('covid_case_data_20240718.csv', index=False)"
   ]
  },
  {
   "cell_type": "code",
   "execution_count": null,
   "id": "69ff0bc7-8112-488e-bc20-f0c3ad435299",
   "metadata": {},
   "outputs": [],
   "source": [
    "# since the state dataset only goes from 1/2020-5/2023, we'll remove anything beyond that"
   ]
  },
  {
   "cell_type": "raw",
   "id": "40c43c91-2b96-4cd6-9651-990ebdb8b785",
   "metadata": {},
   "source": [
    "df = pd.read_csv('covid_case_data_20240718.csv')"
   ]
  },
  {
   "cell_type": "code",
   "execution_count": 120,
   "id": "18a96867-e7df-493d-85af-bccf8d71d792",
   "metadata": {},
   "outputs": [
    {
     "data": {
      "text/html": [
       "<div>\n",
       "<style scoped>\n",
       "    .dataframe tbody tr th:only-of-type {\n",
       "        vertical-align: middle;\n",
       "    }\n",
       "\n",
       "    .dataframe tbody tr th {\n",
       "        vertical-align: top;\n",
       "    }\n",
       "\n",
       "    .dataframe thead th {\n",
       "        text-align: right;\n",
       "    }\n",
       "</style>\n",
       "<table border=\"1\" class=\"dataframe\">\n",
       "  <thead>\n",
       "    <tr style=\"text-align: right;\">\n",
       "      <th></th>\n",
       "      <th>age_group</th>\n",
       "      <th>race_ethnicity</th>\n",
       "      <th>hospitalized</th>\n",
       "      <th>icu</th>\n",
       "      <th>death</th>\n",
       "      <th>year</th>\n",
       "      <th>month</th>\n",
       "    </tr>\n",
       "  </thead>\n",
       "  <tbody>\n",
       "    <tr>\n",
       "      <th>0</th>\n",
       "      <td>20-29</td>\n",
       "      <td>Asian</td>\n",
       "      <td>NaN</td>\n",
       "      <td>NaN</td>\n",
       "      <td>False</td>\n",
       "      <td>2022</td>\n",
       "      <td>Sep</td>\n",
       "    </tr>\n",
       "    <tr>\n",
       "      <th>1</th>\n",
       "      <td>20-29</td>\n",
       "      <td>Asian</td>\n",
       "      <td>False</td>\n",
       "      <td>NaN</td>\n",
       "      <td>NaN</td>\n",
       "      <td>2022</td>\n",
       "      <td>Jul</td>\n",
       "    </tr>\n",
       "    <tr>\n",
       "      <th>2</th>\n",
       "      <td>20-29</td>\n",
       "      <td>Asian</td>\n",
       "      <td>False</td>\n",
       "      <td>NaN</td>\n",
       "      <td>False</td>\n",
       "      <td>2021</td>\n",
       "      <td>Sep</td>\n",
       "    </tr>\n",
       "    <tr>\n",
       "      <th>3</th>\n",
       "      <td>20-29</td>\n",
       "      <td>Asian</td>\n",
       "      <td>False</td>\n",
       "      <td>NaN</td>\n",
       "      <td>NaN</td>\n",
       "      <td>2022</td>\n",
       "      <td>Jan</td>\n",
       "    </tr>\n",
       "    <tr>\n",
       "      <th>4</th>\n",
       "      <td>20-29</td>\n",
       "      <td>Asian</td>\n",
       "      <td>False</td>\n",
       "      <td>False</td>\n",
       "      <td>False</td>\n",
       "      <td>2022</td>\n",
       "      <td>Apr</td>\n",
       "    </tr>\n",
       "  </tbody>\n",
       "</table>\n",
       "</div>"
      ],
      "text/plain": [
       "  age_group race_ethnicity hospitalized    icu  death  year month\n",
       "0     20-29          Asian          NaN    NaN  False  2022   Sep\n",
       "1     20-29          Asian        False    NaN    NaN  2022   Jul\n",
       "2     20-29          Asian        False    NaN  False  2021   Sep\n",
       "3     20-29          Asian        False    NaN    NaN  2022   Jan\n",
       "4     20-29          Asian        False  False  False  2022   Apr"
      ]
     },
     "execution_count": 120,
     "metadata": {},
     "output_type": "execute_result"
    }
   ],
   "source": [
    "df.head()"
   ]
  },
  {
   "cell_type": "code",
   "execution_count": 121,
   "id": "d992b705-9bd9-4321-8859-9211a6ecdb51",
   "metadata": {},
   "outputs": [
    {
     "data": {
      "text/html": [
       "<div>\n",
       "<style scoped>\n",
       "    .dataframe tbody tr th:only-of-type {\n",
       "        vertical-align: middle;\n",
       "    }\n",
       "\n",
       "    .dataframe tbody tr th {\n",
       "        vertical-align: top;\n",
       "    }\n",
       "\n",
       "    .dataframe thead th {\n",
       "        text-align: right;\n",
       "    }\n",
       "</style>\n",
       "<table border=\"1\" class=\"dataframe\">\n",
       "  <thead>\n",
       "    <tr style=\"text-align: right;\">\n",
       "      <th></th>\n",
       "      <th>age_group</th>\n",
       "      <th>race_ethnicity</th>\n",
       "      <th>hospitalized</th>\n",
       "      <th>icu</th>\n",
       "      <th>death</th>\n",
       "      <th>year</th>\n",
       "      <th>month</th>\n",
       "    </tr>\n",
       "  </thead>\n",
       "  <tbody>\n",
       "    <tr>\n",
       "      <th>22</th>\n",
       "      <td>20-29</td>\n",
       "      <td>Asian</td>\n",
       "      <td>NaN</td>\n",
       "      <td>NaN</td>\n",
       "      <td>False</td>\n",
       "      <td>2023</td>\n",
       "      <td>Feb</td>\n",
       "    </tr>\n",
       "    <tr>\n",
       "      <th>67</th>\n",
       "      <td>20-29</td>\n",
       "      <td>Asian</td>\n",
       "      <td>False</td>\n",
       "      <td>NaN</td>\n",
       "      <td>NaN</td>\n",
       "      <td>2023</td>\n",
       "      <td>Jun</td>\n",
       "    </tr>\n",
       "    <tr>\n",
       "      <th>68</th>\n",
       "      <td>20-29</td>\n",
       "      <td>Asian</td>\n",
       "      <td>False</td>\n",
       "      <td>NaN</td>\n",
       "      <td>False</td>\n",
       "      <td>2023</td>\n",
       "      <td>Mar</td>\n",
       "    </tr>\n",
       "    <tr>\n",
       "      <th>72</th>\n",
       "      <td>20-29</td>\n",
       "      <td>Asian</td>\n",
       "      <td>False</td>\n",
       "      <td>NaN</td>\n",
       "      <td>False</td>\n",
       "      <td>2023</td>\n",
       "      <td>Mar</td>\n",
       "    </tr>\n",
       "    <tr>\n",
       "      <th>98</th>\n",
       "      <td>20-29</td>\n",
       "      <td>Asian</td>\n",
       "      <td>False</td>\n",
       "      <td>NaN</td>\n",
       "      <td>NaN</td>\n",
       "      <td>2023</td>\n",
       "      <td>Jan</td>\n",
       "    </tr>\n",
       "    <tr>\n",
       "      <th>104</th>\n",
       "      <td>20-29</td>\n",
       "      <td>Asian</td>\n",
       "      <td>False</td>\n",
       "      <td>NaN</td>\n",
       "      <td>False</td>\n",
       "      <td>2023</td>\n",
       "      <td>Oct</td>\n",
       "    </tr>\n",
       "    <tr>\n",
       "      <th>112</th>\n",
       "      <td>20-29</td>\n",
       "      <td>Asian</td>\n",
       "      <td>False</td>\n",
       "      <td>NaN</td>\n",
       "      <td>False</td>\n",
       "      <td>2023</td>\n",
       "      <td>Feb</td>\n",
       "    </tr>\n",
       "    <tr>\n",
       "      <th>137</th>\n",
       "      <td>20-29</td>\n",
       "      <td>Asian</td>\n",
       "      <td>False</td>\n",
       "      <td>NaN</td>\n",
       "      <td>False</td>\n",
       "      <td>2023</td>\n",
       "      <td>Mar</td>\n",
       "    </tr>\n",
       "    <tr>\n",
       "      <th>156</th>\n",
       "      <td>20-29</td>\n",
       "      <td>Asian</td>\n",
       "      <td>False</td>\n",
       "      <td>NaN</td>\n",
       "      <td>NaN</td>\n",
       "      <td>2023</td>\n",
       "      <td>Jul</td>\n",
       "    </tr>\n",
       "    <tr>\n",
       "      <th>204</th>\n",
       "      <td>20-29</td>\n",
       "      <td>Asian</td>\n",
       "      <td>False</td>\n",
       "      <td>NaN</td>\n",
       "      <td>False</td>\n",
       "      <td>2023</td>\n",
       "      <td>Feb</td>\n",
       "    </tr>\n",
       "  </tbody>\n",
       "</table>\n",
       "</div>"
      ],
      "text/plain": [
       "    age_group race_ethnicity hospitalized  icu  death  year month\n",
       "22      20-29          Asian          NaN  NaN  False  2023   Feb\n",
       "67      20-29          Asian        False  NaN    NaN  2023   Jun\n",
       "68      20-29          Asian        False  NaN  False  2023   Mar\n",
       "72      20-29          Asian        False  NaN  False  2023   Mar\n",
       "98      20-29          Asian        False  NaN    NaN  2023   Jan\n",
       "104     20-29          Asian        False  NaN  False  2023   Oct\n",
       "112     20-29          Asian        False  NaN  False  2023   Feb\n",
       "137     20-29          Asian        False  NaN  False  2023   Mar\n",
       "156     20-29          Asian        False  NaN    NaN  2023   Jul\n",
       "204     20-29          Asian        False  NaN  False  2023   Feb"
      ]
     },
     "execution_count": 121,
     "metadata": {},
     "output_type": "execute_result"
    }
   ],
   "source": [
    "df[df['year']==2023].head(10)"
   ]
  },
  {
   "cell_type": "code",
   "execution_count": 122,
   "id": "c50fbd90-5941-4be9-9c26-7d5f138358b6",
   "metadata": {},
   "outputs": [
    {
     "data": {
      "text/plain": [
       "year\n",
       "2021    11784563\n",
       "2022    11591452\n",
       "2020     5721495\n",
       "2023     2971975\n",
       "2024     1829967\n",
       "Name: count, dtype: int64"
      ]
     },
     "execution_count": 122,
     "metadata": {},
     "output_type": "execute_result"
    }
   ],
   "source": [
    "df.year.value_counts(dropna=False)"
   ]
  },
  {
   "cell_type": "code",
   "execution_count": 123,
   "id": "bffdbe1d-cf93-4d46-9f68-13b6ca4f4561",
   "metadata": {},
   "outputs": [],
   "source": [
    "df.drop(df[df['year']==2024].index, inplace=True)"
   ]
  },
  {
   "cell_type": "code",
   "execution_count": 124,
   "id": "24c179b8-daa7-4a74-8386-19a5ebcd3e2c",
   "metadata": {},
   "outputs": [
    {
     "data": {
      "text/plain": [
       "year\n",
       "2021    11784563\n",
       "2022    11591452\n",
       "2020     5721495\n",
       "2023     2971975\n",
       "Name: count, dtype: int64"
      ]
     },
     "execution_count": 124,
     "metadata": {},
     "output_type": "execute_result"
    }
   ],
   "source": [
    "df.year.value_counts(dropna=False)"
   ]
  },
  {
   "cell_type": "code",
   "execution_count": 129,
   "id": "b467585f-02d2-4381-88be-d536199b1098",
   "metadata": {},
   "outputs": [],
   "source": [
    "df2 = df[df['year']==2023]"
   ]
  },
  {
   "cell_type": "code",
   "execution_count": 130,
   "id": "43611e62-63a2-46c1-b222-cba13a678594",
   "metadata": {},
   "outputs": [
    {
     "data": {
      "text/plain": [
       "year\n",
       "2023    2971975\n",
       "Name: count, dtype: int64"
      ]
     },
     "execution_count": 130,
     "metadata": {},
     "output_type": "execute_result"
    }
   ],
   "source": [
    "df2.year.value_counts()"
   ]
  },
  {
   "cell_type": "code",
   "execution_count": 139,
   "id": "66854c01-d969-4374-8216-a29772f6317f",
   "metadata": {},
   "outputs": [],
   "source": [
    "indices = df2[df2['month'].isin(['May','Jun','Jul','Aug','Sep','Oct','Nov','Dec'])].index"
   ]
  },
  {
   "cell_type": "code",
   "execution_count": 140,
   "id": "61f495ef-640d-4642-8e42-f8a1a7520192",
   "metadata": {},
   "outputs": [
    {
     "data": {
      "text/plain": [
       "Index([      67,      104,      156,      238,      240,      250,      270,\n",
       "            276,      293,      297,\n",
       "       ...\n",
       "       33899234, 33899236, 33899242, 33899249, 33899255, 33899265, 33899301,\n",
       "       33899303, 33899339, 33899408],\n",
       "      dtype='int64', length=1481092)"
      ]
     },
     "execution_count": 140,
     "metadata": {},
     "output_type": "execute_result"
    }
   ],
   "source": [
    "indices"
   ]
  },
  {
   "cell_type": "code",
   "execution_count": 144,
   "id": "fc030a9b-2972-49ef-95a1-c4c6c56da686",
   "metadata": {},
   "outputs": [],
   "source": [
    "df.drop(indices, inplace=True)"
   ]
  },
  {
   "cell_type": "code",
   "execution_count": 145,
   "id": "69823757-ae2b-4f83-8a42-4eb5545d73ee",
   "metadata": {},
   "outputs": [
    {
     "data": {
      "text/plain": [
       "year\n",
       "2021    11784563\n",
       "2022    11591452\n",
       "2020     5721495\n",
       "2023     1490883\n",
       "Name: count, dtype: int64"
      ]
     },
     "execution_count": 145,
     "metadata": {},
     "output_type": "execute_result"
    }
   ],
   "source": [
    "df.year.value_counts(dropna=False)"
   ]
  },
  {
   "cell_type": "code",
   "execution_count": 148,
   "id": "4980781f-aa52-42ec-8791-1fd71c789d12",
   "metadata": {},
   "outputs": [],
   "source": [
    "# 1.05 gb, getting there\n",
    "df.to_csv('covid_case_data_20240718.csv', index=False)"
   ]
  },
  {
   "cell_type": "code",
   "execution_count": 149,
   "id": "f2c95387-875d-4bba-8026-5995bf2f3e6b",
   "metadata": {},
   "outputs": [
    {
     "data": {
      "text/html": [
       "<div>\n",
       "<style scoped>\n",
       "    .dataframe tbody tr th:only-of-type {\n",
       "        vertical-align: middle;\n",
       "    }\n",
       "\n",
       "    .dataframe tbody tr th {\n",
       "        vertical-align: top;\n",
       "    }\n",
       "\n",
       "    .dataframe thead th {\n",
       "        text-align: right;\n",
       "    }\n",
       "</style>\n",
       "<table border=\"1\" class=\"dataframe\">\n",
       "  <thead>\n",
       "    <tr style=\"text-align: right;\">\n",
       "      <th></th>\n",
       "      <th>age_group</th>\n",
       "      <th>race_ethnicity</th>\n",
       "      <th>hospitalized</th>\n",
       "      <th>icu</th>\n",
       "      <th>death</th>\n",
       "      <th>year</th>\n",
       "      <th>month</th>\n",
       "    </tr>\n",
       "  </thead>\n",
       "  <tbody>\n",
       "    <tr>\n",
       "      <th>0</th>\n",
       "      <td>20-29</td>\n",
       "      <td>Asian</td>\n",
       "      <td>NaN</td>\n",
       "      <td>NaN</td>\n",
       "      <td>False</td>\n",
       "      <td>2022</td>\n",
       "      <td>Sep</td>\n",
       "    </tr>\n",
       "    <tr>\n",
       "      <th>1</th>\n",
       "      <td>20-29</td>\n",
       "      <td>Asian</td>\n",
       "      <td>False</td>\n",
       "      <td>NaN</td>\n",
       "      <td>NaN</td>\n",
       "      <td>2022</td>\n",
       "      <td>Jul</td>\n",
       "    </tr>\n",
       "    <tr>\n",
       "      <th>2</th>\n",
       "      <td>20-29</td>\n",
       "      <td>Asian</td>\n",
       "      <td>False</td>\n",
       "      <td>NaN</td>\n",
       "      <td>False</td>\n",
       "      <td>2021</td>\n",
       "      <td>Sep</td>\n",
       "    </tr>\n",
       "    <tr>\n",
       "      <th>3</th>\n",
       "      <td>20-29</td>\n",
       "      <td>Asian</td>\n",
       "      <td>False</td>\n",
       "      <td>NaN</td>\n",
       "      <td>NaN</td>\n",
       "      <td>2022</td>\n",
       "      <td>Jan</td>\n",
       "    </tr>\n",
       "    <tr>\n",
       "      <th>4</th>\n",
       "      <td>20-29</td>\n",
       "      <td>Asian</td>\n",
       "      <td>False</td>\n",
       "      <td>False</td>\n",
       "      <td>False</td>\n",
       "      <td>2022</td>\n",
       "      <td>Apr</td>\n",
       "    </tr>\n",
       "  </tbody>\n",
       "</table>\n",
       "</div>"
      ],
      "text/plain": [
       "  age_group race_ethnicity hospitalized    icu  death  year month\n",
       "0     20-29          Asian          NaN    NaN  False  2022   Sep\n",
       "1     20-29          Asian        False    NaN    NaN  2022   Jul\n",
       "2     20-29          Asian        False    NaN  False  2021   Sep\n",
       "3     20-29          Asian        False    NaN    NaN  2022   Jan\n",
       "4     20-29          Asian        False  False  False  2022   Apr"
      ]
     },
     "execution_count": 149,
     "metadata": {},
     "output_type": "execute_result"
    }
   ],
   "source": [
    "df.head()"
   ]
  },
  {
   "cell_type": "code",
   "execution_count": 150,
   "id": "38d42944-9626-4b75-8fa4-f44cfa24f403",
   "metadata": {},
   "outputs": [
    {
     "data": {
      "text/plain": [
       "race_ethnicity\n",
       "White                                     18054215\n",
       "Hispanic/Latino                            6720767\n",
       "Black                                      3540170\n",
       "Asian                                      1024434\n",
       "Multiple/Other                              887909\n",
       "American Indian/Alaska Native               285824\n",
       "Native Hawaiian/Other Pacific Islander       75074\n",
       "Name: count, dtype: int64"
      ]
     },
     "execution_count": 150,
     "metadata": {},
     "output_type": "execute_result"
    }
   ],
   "source": [
    "df.race_ethnicity.value_counts(dropna=False)"
   ]
  },
  {
   "cell_type": "code",
   "execution_count": 151,
   "id": "477d7321-c70e-48ae-98c3-d6d74557ccff",
   "metadata": {},
   "outputs": [
    {
     "data": {
      "text/plain": [
       "30588393"
      ]
     },
     "execution_count": 151,
     "metadata": {},
     "output_type": "execute_result"
    }
   ],
   "source": [
    "len(df)"
   ]
  },
  {
   "cell_type": "code",
   "execution_count": 152,
   "id": "a87dfcf5-d9a3-4250-bbc6-137ccb00cd9d",
   "metadata": {},
   "outputs": [
    {
     "name": "stdout",
     "output_type": "stream",
     "text": [
      "<class 'pandas.core.frame.DataFrame'>\n",
      "Index: 30588393 entries, 0 to 33899451\n",
      "Data columns (total 7 columns):\n",
      " #   Column          Dtype \n",
      "---  ------          ----- \n",
      " 0   age_group       object\n",
      " 1   race_ethnicity  object\n",
      " 2   hospitalized    object\n",
      " 3   icu             object\n",
      " 4   death           object\n",
      " 5   year            int64 \n",
      " 6   month           object\n",
      "dtypes: int64(1), object(6)\n",
      "memory usage: 1.8+ GB\n"
     ]
    }
   ],
   "source": [
    "df.info()"
   ]
  },
  {
   "cell_type": "code",
   "execution_count": 153,
   "id": "6688a33a-629e-444b-9577-9ce8ef43a068",
   "metadata": {},
   "outputs": [],
   "source": [
    "def truncate_race_names(s):\n",
    "    if s == 'Hispanic/Latino':\n",
    "        return 'Hispanic'\n",
    "    elif s in ['Multiple/Other',\n",
    "               'American Indian/Alaska Native',\n",
    "               'Native Hawaiian/Other Pacific Islander']:\n",
    "        return 'Other'\n",
    "    else:\n",
    "        return s"
   ]
  },
  {
   "cell_type": "code",
   "execution_count": 154,
   "id": "f3356be9-5696-4225-9d99-0c52bb1f94d1",
   "metadata": {},
   "outputs": [],
   "source": [
    "df['race_ethnicity'] = df['race_ethnicity'].apply(truncate_race_names)"
   ]
  },
  {
   "cell_type": "code",
   "execution_count": 155,
   "id": "4bd7632e-7d29-44aa-bd90-5bfde5d98f18",
   "metadata": {},
   "outputs": [
    {
     "name": "stdout",
     "output_type": "stream",
     "text": [
      "<class 'pandas.core.frame.DataFrame'>\n",
      "Index: 30588393 entries, 0 to 33899451\n",
      "Data columns (total 7 columns):\n",
      " #   Column          Dtype \n",
      "---  ------          ----- \n",
      " 0   age_group       object\n",
      " 1   race_ethnicity  object\n",
      " 2   hospitalized    object\n",
      " 3   icu             object\n",
      " 4   death           object\n",
      " 5   year            int64 \n",
      " 6   month           object\n",
      "dtypes: int64(1), object(6)\n",
      "memory usage: 1.8+ GB\n"
     ]
    }
   ],
   "source": [
    "df.info()"
   ]
  },
  {
   "cell_type": "code",
   "execution_count": 156,
   "id": "22d813ec-5205-44fd-9ee6-999fd1ef5589",
   "metadata": {},
   "outputs": [
    {
     "data": {
      "text/plain": [
       "race_ethnicity\n",
       "White       18054215\n",
       "Hispanic     6720767\n",
       "Black        3540170\n",
       "Other        1248807\n",
       "Asian        1024434\n",
       "Name: count, dtype: int64"
      ]
     },
     "execution_count": 156,
     "metadata": {},
     "output_type": "execute_result"
    }
   ],
   "source": [
    "df.race_ethnicity.value_counts(dropna=False)"
   ]
  },
  {
   "cell_type": "code",
   "execution_count": 157,
   "id": "55cf1ef3-769f-4460-a6ee-b62310072f98",
   "metadata": {},
   "outputs": [],
   "source": [
    "df.to_csv('covid_case_data_20240718.csv', index=False)"
   ]
  },
  {
   "cell_type": "code",
   "execution_count": 158,
   "id": "7fe5a68c-6a46-43fb-88fe-9eba7f846d02",
   "metadata": {},
   "outputs": [
    {
     "data": {
      "text/plain": [
       "30588393"
      ]
     },
     "execution_count": 158,
     "metadata": {},
     "output_type": "execute_result"
    }
   ],
   "source": [
    "len(df)"
   ]
  },
  {
   "cell_type": "code",
   "execution_count": null,
   "id": "ffc5f978-8730-4128-8e03-d05683c007cc",
   "metadata": {},
   "outputs": [],
   "source": [
    "# so apparently, i can only have <15mil rows in Tableau public, so we have to reduce more"
   ]
  },
  {
   "cell_type": "raw",
   "id": "c4d6bba5-72d5-45d3-90cf-05e89ffebfc7",
   "metadata": {},
   "source": [
    "df = pd.read_csv('covid_case_data_20240718.csv')"
   ]
  },
  {
   "cell_type": "code",
   "execution_count": 194,
   "id": "9c625ea3-4a64-4458-8d8f-c7d09884696b",
   "metadata": {},
   "outputs": [
    {
     "data": {
      "text/html": [
       "<div>\n",
       "<style scoped>\n",
       "    .dataframe tbody tr th:only-of-type {\n",
       "        vertical-align: middle;\n",
       "    }\n",
       "\n",
       "    .dataframe tbody tr th {\n",
       "        vertical-align: top;\n",
       "    }\n",
       "\n",
       "    .dataframe thead th {\n",
       "        text-align: right;\n",
       "    }\n",
       "</style>\n",
       "<table border=\"1\" class=\"dataframe\">\n",
       "  <thead>\n",
       "    <tr style=\"text-align: right;\">\n",
       "      <th></th>\n",
       "      <th>age_group</th>\n",
       "      <th>race_ethnicity</th>\n",
       "      <th>hospitalized</th>\n",
       "      <th>icu</th>\n",
       "      <th>death</th>\n",
       "      <th>year</th>\n",
       "      <th>month</th>\n",
       "    </tr>\n",
       "  </thead>\n",
       "  <tbody>\n",
       "    <tr>\n",
       "      <th>0</th>\n",
       "      <td>20-29</td>\n",
       "      <td>Asian</td>\n",
       "      <td>NaN</td>\n",
       "      <td>NaN</td>\n",
       "      <td>False</td>\n",
       "      <td>2022</td>\n",
       "      <td>Sep</td>\n",
       "    </tr>\n",
       "    <tr>\n",
       "      <th>1</th>\n",
       "      <td>20-29</td>\n",
       "      <td>Asian</td>\n",
       "      <td>False</td>\n",
       "      <td>NaN</td>\n",
       "      <td>NaN</td>\n",
       "      <td>2022</td>\n",
       "      <td>Jul</td>\n",
       "    </tr>\n",
       "    <tr>\n",
       "      <th>2</th>\n",
       "      <td>20-29</td>\n",
       "      <td>Asian</td>\n",
       "      <td>False</td>\n",
       "      <td>NaN</td>\n",
       "      <td>False</td>\n",
       "      <td>2021</td>\n",
       "      <td>Sep</td>\n",
       "    </tr>\n",
       "    <tr>\n",
       "      <th>3</th>\n",
       "      <td>20-29</td>\n",
       "      <td>Asian</td>\n",
       "      <td>False</td>\n",
       "      <td>NaN</td>\n",
       "      <td>NaN</td>\n",
       "      <td>2022</td>\n",
       "      <td>Jan</td>\n",
       "    </tr>\n",
       "    <tr>\n",
       "      <th>4</th>\n",
       "      <td>20-29</td>\n",
       "      <td>Asian</td>\n",
       "      <td>False</td>\n",
       "      <td>False</td>\n",
       "      <td>False</td>\n",
       "      <td>2022</td>\n",
       "      <td>Apr</td>\n",
       "    </tr>\n",
       "  </tbody>\n",
       "</table>\n",
       "</div>"
      ],
      "text/plain": [
       "  age_group race_ethnicity hospitalized    icu  death  year month\n",
       "0     20-29          Asian          NaN    NaN  False  2022   Sep\n",
       "1     20-29          Asian        False    NaN    NaN  2022   Jul\n",
       "2     20-29          Asian        False    NaN  False  2021   Sep\n",
       "3     20-29          Asian        False    NaN    NaN  2022   Jan\n",
       "4     20-29          Asian        False  False  False  2022   Apr"
      ]
     },
     "execution_count": 194,
     "metadata": {},
     "output_type": "execute_result"
    }
   ],
   "source": [
    "df.head()"
   ]
  },
  {
   "cell_type": "code",
   "execution_count": 195,
   "id": "b74b3351-a961-454e-aa21-eae2a9f6e4df",
   "metadata": {},
   "outputs": [
    {
     "data": {
      "text/plain": [
       "hospitalized\n",
       "False    22760128\n",
       "NaN       5421781\n",
       "True      2406484\n",
       "Name: count, dtype: int64"
      ]
     },
     "execution_count": 195,
     "metadata": {},
     "output_type": "execute_result"
    }
   ],
   "source": [
    "df.hospitalized.value_counts(dropna=False)"
   ]
  },
  {
   "cell_type": "code",
   "execution_count": 196,
   "id": "43678dd9-7765-4bc6-80b4-9404f8abf656",
   "metadata": {},
   "outputs": [
    {
     "data": {
      "text/plain": [
       "icu\n",
       "NaN      28077272\n",
       "False     2341428\n",
       "True       169693\n",
       "Name: count, dtype: int64"
      ]
     },
     "execution_count": 196,
     "metadata": {},
     "output_type": "execute_result"
    }
   ],
   "source": [
    "df.icu.value_counts(dropna=False)"
   ]
  },
  {
   "cell_type": "code",
   "execution_count": 197,
   "id": "64b87ba5-4af6-4032-9712-f965061ce5a9",
   "metadata": {},
   "outputs": [
    {
     "data": {
      "text/plain": [
       "death\n",
       "False    20923128\n",
       "NaN       8852408\n",
       "True       812857\n",
       "Name: count, dtype: int64"
      ]
     },
     "execution_count": 197,
     "metadata": {},
     "output_type": "execute_result"
    }
   ],
   "source": [
    "df.death.value_counts(dropna=False)"
   ]
  },
  {
   "cell_type": "code",
   "execution_count": 198,
   "id": "8db0acc9-d3e1-42fb-a08a-de17e94941fc",
   "metadata": {},
   "outputs": [
    {
     "data": {
      "text/plain": [
       "30588393"
      ]
     },
     "execution_count": 198,
     "metadata": {},
     "output_type": "execute_result"
    }
   ],
   "source": [
    "len(df)"
   ]
  },
  {
   "cell_type": "raw",
   "id": "f41a2cd9-6f81-406e-9216-3dbadedc24c7",
   "metadata": {},
   "source": [
    "df2 = df.dropna(subset = ['hospitalized','icu','death'])"
   ]
  },
  {
   "cell_type": "raw",
   "id": "bea44f6e-df6a-4021-9b05-28295338c07c",
   "metadata": {},
   "source": [
    "len(df2) # all three"
   ]
  },
  {
   "cell_type": "code",
   "execution_count": 204,
   "id": "473a8f8f-4d63-4771-9485-2e9b4e6a5f31",
   "metadata": {},
   "outputs": [],
   "source": [
    "df.dropna(subset = ['hospitalized','death'], inplace=True)"
   ]
  },
  {
   "cell_type": "code",
   "execution_count": 205,
   "id": "f711899b-b1ce-4b59-8ab2-8bedf27ace37",
   "metadata": {},
   "outputs": [
    {
     "data": {
      "text/plain": [
       "16348900"
      ]
     },
     "execution_count": 205,
     "metadata": {},
     "output_type": "execute_result"
    }
   ],
   "source": [
    "len(df) # hos/death"
   ]
  },
  {
   "cell_type": "code",
   "execution_count": null,
   "id": "b34fdd58-377e-4b0d-b235-b8db22107486",
   "metadata": {},
   "outputs": [],
   "source": [
    "# at this point, I'm just going to sample down to sub 15mil"
   ]
  },
  {
   "cell_type": "code",
   "execution_count": 208,
   "id": "c1cf9741-b2af-4e86-8a07-fd12a630bc1a",
   "metadata": {},
   "outputs": [
    {
     "data": {
      "text/plain": [
       "14990000"
      ]
     },
     "execution_count": 208,
     "metadata": {},
     "output_type": "execute_result"
    }
   ],
   "source": [
    "n=14990000\n",
    "seed=1234\n",
    "df = df.sample(n, random_state=seed)\n",
    "len(df)"
   ]
  },
  {
   "cell_type": "code",
   "execution_count": 209,
   "id": "3a658d84-490f-456b-a42b-8122bcb9fd64",
   "metadata": {},
   "outputs": [],
   "source": [
    "df.to_csv('covid_case_data_20240718.csv', index=False)"
   ]
  },
  {
   "cell_type": "code",
   "execution_count": 2,
   "id": "627c61df-b7d9-4cff-957a-348639e47e35",
   "metadata": {},
   "outputs": [],
   "source": [
    "df = pd.read_csv('covid_case_data_20240718.csv')"
   ]
  },
  {
   "cell_type": "code",
   "execution_count": 3,
   "id": "cfb233c8-c9e5-4c93-844e-d19d6e0e82f1",
   "metadata": {},
   "outputs": [
    {
     "data": {
      "text/plain": [
       "14990000"
      ]
     },
     "execution_count": 3,
     "metadata": {},
     "output_type": "execute_result"
    }
   ],
   "source": [
    "len(df)"
   ]
  },
  {
   "cell_type": "code",
   "execution_count": 4,
   "id": "95f70be6-9223-44b5-b181-821c889e4d77",
   "metadata": {},
   "outputs": [],
   "source": [
    "df.dropna(subset = ['hospitalized','icu','death'], inplace=True)"
   ]
  },
  {
   "cell_type": "code",
   "execution_count": 5,
   "id": "f48d1faa-7637-4073-9dd9-c2e4b45f4f0f",
   "metadata": {},
   "outputs": [
    {
     "data": {
      "text/plain": [
       "1738192"
      ]
     },
     "execution_count": 5,
     "metadata": {},
     "output_type": "execute_result"
    }
   ],
   "source": [
    "len(df)"
   ]
  },
  {
   "cell_type": "code",
   "execution_count": 6,
   "id": "d0a0ffee-5256-4a73-9456-2daf31b6f415",
   "metadata": {},
   "outputs": [],
   "source": [
    "df.to_csv('covid_case_data_20240718_reduced.csv', index=False)"
   ]
  },
  {
   "cell_type": "code",
   "execution_count": null,
   "id": "de72863e-0673-436e-b283-7dbc50fd4896",
   "metadata": {},
   "outputs": [],
   "source": []
  },
  {
   "cell_type": "code",
   "execution_count": null,
   "id": "b791055a-56aa-46c8-ba85-989f7b040e7d",
   "metadata": {},
   "outputs": [],
   "source": []
  },
  {
   "cell_type": "code",
   "execution_count": 105,
   "id": "5d306913-cfd4-4b8c-b049-32cdc0ad539d",
   "metadata": {},
   "outputs": [],
   "source": [
    "# Load in state/time data"
   ]
  },
  {
   "cell_type": "code",
   "execution_count": 159,
   "id": "b8579add-1b75-4ae8-ae55-a2642b8cd10f",
   "metadata": {},
   "outputs": [],
   "source": [
    "df = pd.read_csv('Weekly_United_States_COVID-19_Cases_and_Deaths_by_State_-_ARCHIVED_20240720.csv')"
   ]
  },
  {
   "cell_type": "code",
   "execution_count": 160,
   "id": "e28a8d7a-5c3e-465e-b396-b2e3aac73c91",
   "metadata": {},
   "outputs": [
    {
     "data": {
      "text/html": [
       "<div>\n",
       "<style scoped>\n",
       "    .dataframe tbody tr th:only-of-type {\n",
       "        vertical-align: middle;\n",
       "    }\n",
       "\n",
       "    .dataframe tbody tr th {\n",
       "        vertical-align: top;\n",
       "    }\n",
       "\n",
       "    .dataframe thead th {\n",
       "        text-align: right;\n",
       "    }\n",
       "</style>\n",
       "<table border=\"1\" class=\"dataframe\">\n",
       "  <thead>\n",
       "    <tr style=\"text-align: right;\">\n",
       "      <th></th>\n",
       "      <th>date_updated</th>\n",
       "      <th>state</th>\n",
       "      <th>start_date</th>\n",
       "      <th>end_date</th>\n",
       "      <th>tot_cases</th>\n",
       "      <th>new_cases</th>\n",
       "      <th>tot_deaths</th>\n",
       "      <th>new_deaths</th>\n",
       "      <th>new_historic_cases</th>\n",
       "      <th>new_historic_deaths</th>\n",
       "    </tr>\n",
       "  </thead>\n",
       "  <tbody>\n",
       "    <tr>\n",
       "      <th>0</th>\n",
       "      <td>02/23/2023</td>\n",
       "      <td>AZ</td>\n",
       "      <td>02/16/2023</td>\n",
       "      <td>02/22/2023</td>\n",
       "      <td>2434631</td>\n",
       "      <td>3716</td>\n",
       "      <td>33042</td>\n",
       "      <td>39</td>\n",
       "      <td>23150</td>\n",
       "      <td>0</td>\n",
       "    </tr>\n",
       "    <tr>\n",
       "      <th>1</th>\n",
       "      <td>12/22/2022</td>\n",
       "      <td>LA</td>\n",
       "      <td>12/15/2022</td>\n",
       "      <td>12/21/2022</td>\n",
       "      <td>1507707</td>\n",
       "      <td>4041</td>\n",
       "      <td>18345</td>\n",
       "      <td>21</td>\n",
       "      <td>21397</td>\n",
       "      <td>0</td>\n",
       "    </tr>\n",
       "    <tr>\n",
       "      <th>2</th>\n",
       "      <td>02/23/2023</td>\n",
       "      <td>GA</td>\n",
       "      <td>02/16/2023</td>\n",
       "      <td>02/22/2023</td>\n",
       "      <td>3061141</td>\n",
       "      <td>5298</td>\n",
       "      <td>42324</td>\n",
       "      <td>88</td>\n",
       "      <td>6800</td>\n",
       "      <td>0</td>\n",
       "    </tr>\n",
       "    <tr>\n",
       "      <th>3</th>\n",
       "      <td>03/30/2023</td>\n",
       "      <td>LA</td>\n",
       "      <td>03/23/2023</td>\n",
       "      <td>03/29/2023</td>\n",
       "      <td>1588259</td>\n",
       "      <td>2203</td>\n",
       "      <td>18858</td>\n",
       "      <td>23</td>\n",
       "      <td>5347</td>\n",
       "      <td>0</td>\n",
       "    </tr>\n",
       "    <tr>\n",
       "      <th>4</th>\n",
       "      <td>02/02/2023</td>\n",
       "      <td>LA</td>\n",
       "      <td>01/26/2023</td>\n",
       "      <td>02/01/2023</td>\n",
       "      <td>1548508</td>\n",
       "      <td>5725</td>\n",
       "      <td>18572</td>\n",
       "      <td>47</td>\n",
       "      <td>4507</td>\n",
       "      <td>0</td>\n",
       "    </tr>\n",
       "  </tbody>\n",
       "</table>\n",
       "</div>"
      ],
      "text/plain": [
       "  date_updated state  start_date    end_date  tot_cases  new_cases  \\\n",
       "0   02/23/2023    AZ  02/16/2023  02/22/2023    2434631       3716   \n",
       "1   12/22/2022    LA  12/15/2022  12/21/2022    1507707       4041   \n",
       "2   02/23/2023    GA  02/16/2023  02/22/2023    3061141       5298   \n",
       "3   03/30/2023    LA  03/23/2023  03/29/2023    1588259       2203   \n",
       "4   02/02/2023    LA  01/26/2023  02/01/2023    1548508       5725   \n",
       "\n",
       "   tot_deaths  new_deaths  new_historic_cases  new_historic_deaths  \n",
       "0       33042          39               23150                    0  \n",
       "1       18345          21               21397                    0  \n",
       "2       42324          88                6800                    0  \n",
       "3       18858          23                5347                    0  \n",
       "4       18572          47                4507                    0  "
      ]
     },
     "execution_count": 160,
     "metadata": {},
     "output_type": "execute_result"
    }
   ],
   "source": [
    "df.head()"
   ]
  },
  {
   "cell_type": "code",
   "execution_count": 161,
   "id": "a570496d-f141-453c-ab30-47ee3373e880",
   "metadata": {},
   "outputs": [],
   "source": [
    "# drop unnecessary columns\n",
    "df.drop(['date_updated', 'end_date', 'tot_cases', 'tot_deaths', 'new_historic_cases', 'new_historic_deaths'], axis=1, inplace=True)"
   ]
  },
  {
   "cell_type": "code",
   "execution_count": 162,
   "id": "d2e92a5f-a807-4f64-be33-804bea88a43b",
   "metadata": {},
   "outputs": [
    {
     "data": {
      "text/html": [
       "<div>\n",
       "<style scoped>\n",
       "    .dataframe tbody tr th:only-of-type {\n",
       "        vertical-align: middle;\n",
       "    }\n",
       "\n",
       "    .dataframe tbody tr th {\n",
       "        vertical-align: top;\n",
       "    }\n",
       "\n",
       "    .dataframe thead th {\n",
       "        text-align: right;\n",
       "    }\n",
       "</style>\n",
       "<table border=\"1\" class=\"dataframe\">\n",
       "  <thead>\n",
       "    <tr style=\"text-align: right;\">\n",
       "      <th></th>\n",
       "      <th>state</th>\n",
       "      <th>start_date</th>\n",
       "      <th>new_cases</th>\n",
       "      <th>new_deaths</th>\n",
       "    </tr>\n",
       "  </thead>\n",
       "  <tbody>\n",
       "    <tr>\n",
       "      <th>0</th>\n",
       "      <td>AZ</td>\n",
       "      <td>02/16/2023</td>\n",
       "      <td>3716</td>\n",
       "      <td>39</td>\n",
       "    </tr>\n",
       "    <tr>\n",
       "      <th>1</th>\n",
       "      <td>LA</td>\n",
       "      <td>12/15/2022</td>\n",
       "      <td>4041</td>\n",
       "      <td>21</td>\n",
       "    </tr>\n",
       "    <tr>\n",
       "      <th>2</th>\n",
       "      <td>GA</td>\n",
       "      <td>02/16/2023</td>\n",
       "      <td>5298</td>\n",
       "      <td>88</td>\n",
       "    </tr>\n",
       "    <tr>\n",
       "      <th>3</th>\n",
       "      <td>LA</td>\n",
       "      <td>03/23/2023</td>\n",
       "      <td>2203</td>\n",
       "      <td>23</td>\n",
       "    </tr>\n",
       "    <tr>\n",
       "      <th>4</th>\n",
       "      <td>LA</td>\n",
       "      <td>01/26/2023</td>\n",
       "      <td>5725</td>\n",
       "      <td>47</td>\n",
       "    </tr>\n",
       "  </tbody>\n",
       "</table>\n",
       "</div>"
      ],
      "text/plain": [
       "  state  start_date  new_cases  new_deaths\n",
       "0    AZ  02/16/2023       3716          39\n",
       "1    LA  12/15/2022       4041          21\n",
       "2    GA  02/16/2023       5298          88\n",
       "3    LA  03/23/2023       2203          23\n",
       "4    LA  01/26/2023       5725          47"
      ]
     },
     "execution_count": 162,
     "metadata": {},
     "output_type": "execute_result"
    }
   ],
   "source": [
    "df.head()"
   ]
  },
  {
   "cell_type": "code",
   "execution_count": null,
   "id": "4fb1bdb7-8cf7-4b26-9357-acce3566b867",
   "metadata": {},
   "outputs": [],
   "source": [
    "# we'll need to convert start_date to year and month columns"
   ]
  },
  {
   "cell_type": "code",
   "execution_count": 176,
   "id": "14964985-86b3-40ec-928b-81851d1a08e1",
   "metadata": {},
   "outputs": [],
   "source": [
    "def find_year2(s):\n",
    "    return int(s[6:])\n",
    "\n",
    "def find_month2(s):\n",
    "    months = ['Jan', 'Feb', 'Mar', 'Apr', 'May', 'Jun', 'Jul', 'Aug', 'Sep', 'Oct', 'Nov', 'Dec']\n",
    "    month_number = int(s[:2])\n",
    "    return months[month_number-1]"
   ]
  },
  {
   "cell_type": "code",
   "execution_count": 177,
   "id": "b414c833-d4b1-41ba-807f-d7ddc9337db3",
   "metadata": {},
   "outputs": [],
   "source": [
    "df['year'] = df['start_date'].apply(find_year2)\n",
    "df['month'] = df['start_date'].apply(find_month2)"
   ]
  },
  {
   "cell_type": "code",
   "execution_count": 179,
   "id": "c2dbc109-6e7c-4117-b5c3-d4a3e9c9b6cd",
   "metadata": {},
   "outputs": [],
   "source": [
    "df.drop('start_date', axis=1, inplace=True)"
   ]
  },
  {
   "cell_type": "code",
   "execution_count": 180,
   "id": "4b915e2e-4f34-4653-ad7e-0156bd31ea7d",
   "metadata": {},
   "outputs": [
    {
     "data": {
      "text/html": [
       "<div>\n",
       "<style scoped>\n",
       "    .dataframe tbody tr th:only-of-type {\n",
       "        vertical-align: middle;\n",
       "    }\n",
       "\n",
       "    .dataframe tbody tr th {\n",
       "        vertical-align: top;\n",
       "    }\n",
       "\n",
       "    .dataframe thead th {\n",
       "        text-align: right;\n",
       "    }\n",
       "</style>\n",
       "<table border=\"1\" class=\"dataframe\">\n",
       "  <thead>\n",
       "    <tr style=\"text-align: right;\">\n",
       "      <th></th>\n",
       "      <th>state</th>\n",
       "      <th>new_cases</th>\n",
       "      <th>new_deaths</th>\n",
       "      <th>year</th>\n",
       "      <th>month</th>\n",
       "    </tr>\n",
       "  </thead>\n",
       "  <tbody>\n",
       "    <tr>\n",
       "      <th>0</th>\n",
       "      <td>AZ</td>\n",
       "      <td>3716</td>\n",
       "      <td>39</td>\n",
       "      <td>2023</td>\n",
       "      <td>Feb</td>\n",
       "    </tr>\n",
       "    <tr>\n",
       "      <th>1</th>\n",
       "      <td>LA</td>\n",
       "      <td>4041</td>\n",
       "      <td>21</td>\n",
       "      <td>2022</td>\n",
       "      <td>Dec</td>\n",
       "    </tr>\n",
       "    <tr>\n",
       "      <th>2</th>\n",
       "      <td>GA</td>\n",
       "      <td>5298</td>\n",
       "      <td>88</td>\n",
       "      <td>2023</td>\n",
       "      <td>Feb</td>\n",
       "    </tr>\n",
       "    <tr>\n",
       "      <th>3</th>\n",
       "      <td>LA</td>\n",
       "      <td>2203</td>\n",
       "      <td>23</td>\n",
       "      <td>2023</td>\n",
       "      <td>Mar</td>\n",
       "    </tr>\n",
       "    <tr>\n",
       "      <th>4</th>\n",
       "      <td>LA</td>\n",
       "      <td>5725</td>\n",
       "      <td>47</td>\n",
       "      <td>2023</td>\n",
       "      <td>Jan</td>\n",
       "    </tr>\n",
       "  </tbody>\n",
       "</table>\n",
       "</div>"
      ],
      "text/plain": [
       "  state  new_cases  new_deaths  year month\n",
       "0    AZ       3716          39  2023   Feb\n",
       "1    LA       4041          21  2022   Dec\n",
       "2    GA       5298          88  2023   Feb\n",
       "3    LA       2203          23  2023   Mar\n",
       "4    LA       5725          47  2023   Jan"
      ]
     },
     "execution_count": 180,
     "metadata": {},
     "output_type": "execute_result"
    }
   ],
   "source": [
    "df.head()"
   ]
  },
  {
   "cell_type": "code",
   "execution_count": 185,
   "id": "ff83cd27-3c9d-41a4-ace9-716436ade4cf",
   "metadata": {},
   "outputs": [],
   "source": [
    "df = (\n",
    "    df.groupby(['state','year','month'])\n",
    "        .agg(new_cases=('new_cases', 'sum'), new_deaths=('new_deaths', 'sum'))\n",
    ")"
   ]
  },
  {
   "cell_type": "code",
   "execution_count": 188,
   "id": "52e44891-17df-42de-9a03-3e3a056d75b1",
   "metadata": {},
   "outputs": [],
   "source": [
    "df.reset_index(inplace=True)"
   ]
  },
  {
   "cell_type": "code",
   "execution_count": 189,
   "id": "e09efdcf-0dea-4363-9c3e-552ef676b079",
   "metadata": {},
   "outputs": [
    {
     "data": {
      "text/html": [
       "<div>\n",
       "<style scoped>\n",
       "    .dataframe tbody tr th:only-of-type {\n",
       "        vertical-align: middle;\n",
       "    }\n",
       "\n",
       "    .dataframe tbody tr th {\n",
       "        vertical-align: top;\n",
       "    }\n",
       "\n",
       "    .dataframe thead th {\n",
       "        text-align: right;\n",
       "    }\n",
       "</style>\n",
       "<table border=\"1\" class=\"dataframe\">\n",
       "  <thead>\n",
       "    <tr style=\"text-align: right;\">\n",
       "      <th></th>\n",
       "      <th>state</th>\n",
       "      <th>year</th>\n",
       "      <th>month</th>\n",
       "      <th>new_cases</th>\n",
       "      <th>new_deaths</th>\n",
       "    </tr>\n",
       "  </thead>\n",
       "  <tbody>\n",
       "    <tr>\n",
       "      <th>0</th>\n",
       "      <td>AK</td>\n",
       "      <td>2020</td>\n",
       "      <td>Apr</td>\n",
       "      <td>225</td>\n",
       "      <td>7</td>\n",
       "    </tr>\n",
       "    <tr>\n",
       "      <th>1</th>\n",
       "      <td>AK</td>\n",
       "      <td>2020</td>\n",
       "      <td>Aug</td>\n",
       "      <td>1988</td>\n",
       "      <td>13</td>\n",
       "    </tr>\n",
       "    <tr>\n",
       "      <th>2</th>\n",
       "      <td>AK</td>\n",
       "      <td>2020</td>\n",
       "      <td>Dec</td>\n",
       "      <td>14012</td>\n",
       "      <td>97</td>\n",
       "    </tr>\n",
       "    <tr>\n",
       "      <th>3</th>\n",
       "      <td>AK</td>\n",
       "      <td>2020</td>\n",
       "      <td>Feb</td>\n",
       "      <td>0</td>\n",
       "      <td>0</td>\n",
       "    </tr>\n",
       "    <tr>\n",
       "      <th>4</th>\n",
       "      <td>AK</td>\n",
       "      <td>2020</td>\n",
       "      <td>Jan</td>\n",
       "      <td>0</td>\n",
       "      <td>0</td>\n",
       "    </tr>\n",
       "    <tr>\n",
       "      <th>...</th>\n",
       "      <td>...</td>\n",
       "      <td>...</td>\n",
       "      <td>...</td>\n",
       "      <td>...</td>\n",
       "      <td>...</td>\n",
       "    </tr>\n",
       "    <tr>\n",
       "      <th>2455</th>\n",
       "      <td>WY</td>\n",
       "      <td>2023</td>\n",
       "      <td>Apr</td>\n",
       "      <td>542</td>\n",
       "      <td>11</td>\n",
       "    </tr>\n",
       "    <tr>\n",
       "      <th>2456</th>\n",
       "      <td>WY</td>\n",
       "      <td>2023</td>\n",
       "      <td>Feb</td>\n",
       "      <td>1156</td>\n",
       "      <td>23</td>\n",
       "    </tr>\n",
       "    <tr>\n",
       "      <th>2457</th>\n",
       "      <td>WY</td>\n",
       "      <td>2023</td>\n",
       "      <td>Jan</td>\n",
       "      <td>835</td>\n",
       "      <td>21</td>\n",
       "    </tr>\n",
       "    <tr>\n",
       "      <th>2458</th>\n",
       "      <td>WY</td>\n",
       "      <td>2023</td>\n",
       "      <td>Mar</td>\n",
       "      <td>1084</td>\n",
       "      <td>18</td>\n",
       "    </tr>\n",
       "    <tr>\n",
       "      <th>2459</th>\n",
       "      <td>WY</td>\n",
       "      <td>2023</td>\n",
       "      <td>May</td>\n",
       "      <td>366</td>\n",
       "      <td>0</td>\n",
       "    </tr>\n",
       "  </tbody>\n",
       "</table>\n",
       "<p>2460 rows × 5 columns</p>\n",
       "</div>"
      ],
      "text/plain": [
       "     state  year month  new_cases  new_deaths\n",
       "0       AK  2020   Apr        225           7\n",
       "1       AK  2020   Aug       1988          13\n",
       "2       AK  2020   Dec      14012          97\n",
       "3       AK  2020   Feb          0           0\n",
       "4       AK  2020   Jan          0           0\n",
       "...    ...   ...   ...        ...         ...\n",
       "2455    WY  2023   Apr        542          11\n",
       "2456    WY  2023   Feb       1156          23\n",
       "2457    WY  2023   Jan        835          21\n",
       "2458    WY  2023   Mar       1084          18\n",
       "2459    WY  2023   May        366           0\n",
       "\n",
       "[2460 rows x 5 columns]"
      ]
     },
     "execution_count": 189,
     "metadata": {},
     "output_type": "execute_result"
    }
   ],
   "source": [
    "df"
   ]
  },
  {
   "cell_type": "code",
   "execution_count": 8,
   "id": "582a2636-f2f0-4a31-a5a5-deb4b5b81128",
   "metadata": {},
   "outputs": [],
   "source": [
    "df = pd.read_csv('covid_state_data_20240720.csv')"
   ]
  },
  {
   "cell_type": "code",
   "execution_count": 10,
   "id": "ab3f85d4-ee23-4cab-840c-bf26d447536f",
   "metadata": {},
   "outputs": [],
   "source": [
    "def convert_to_year_month_string(y, m):\n",
    "    months = ['Jan', 'Feb', 'Mar', 'Apr', 'May', 'Jun', 'Jul', 'Aug', 'Sep', 'Oct', 'Nov', 'Dec']\n",
    "    month_num = months.index(m) + 1\n",
    "    if month_num < 10:\n",
    "        month_str = '0' + str(month_num)\n",
    "    else:\n",
    "        month_str = str(month_num)\n",
    "    return f'{y}-{month_str}'"
   ]
  },
  {
   "cell_type": "code",
   "execution_count": 12,
   "id": "1913ad2a-7517-4d4e-b637-e63c19e1b8de",
   "metadata": {},
   "outputs": [
    {
     "data": {
      "text/plain": [
       "'2020-12'"
      ]
     },
     "execution_count": 12,
     "metadata": {},
     "output_type": "execute_result"
    }
   ],
   "source": [
    "convert_to_year_month_string(2020, 'Dec')"
   ]
  },
  {
   "cell_type": "code",
   "execution_count": 13,
   "id": "4a0e98af-a0bb-40e2-8353-9528368deda8",
   "metadata": {},
   "outputs": [],
   "source": [
    "df['year-month'] = df.apply(lambda d: convert_to_year_month_string(d.year, d.month), axis=1)"
   ]
  },
  {
   "cell_type": "code",
   "execution_count": 14,
   "id": "d53d9871-f794-49f0-a5b0-cdee05f5dc5c",
   "metadata": {},
   "outputs": [
    {
     "data": {
      "text/html": [
       "<div>\n",
       "<style scoped>\n",
       "    .dataframe tbody tr th:only-of-type {\n",
       "        vertical-align: middle;\n",
       "    }\n",
       "\n",
       "    .dataframe tbody tr th {\n",
       "        vertical-align: top;\n",
       "    }\n",
       "\n",
       "    .dataframe thead th {\n",
       "        text-align: right;\n",
       "    }\n",
       "</style>\n",
       "<table border=\"1\" class=\"dataframe\">\n",
       "  <thead>\n",
       "    <tr style=\"text-align: right;\">\n",
       "      <th></th>\n",
       "      <th>state</th>\n",
       "      <th>year</th>\n",
       "      <th>month</th>\n",
       "      <th>new_cases</th>\n",
       "      <th>new_deaths</th>\n",
       "      <th>year-month</th>\n",
       "    </tr>\n",
       "  </thead>\n",
       "  <tbody>\n",
       "    <tr>\n",
       "      <th>0</th>\n",
       "      <td>AK</td>\n",
       "      <td>2020</td>\n",
       "      <td>Apr</td>\n",
       "      <td>225</td>\n",
       "      <td>7</td>\n",
       "      <td>2020-04</td>\n",
       "    </tr>\n",
       "    <tr>\n",
       "      <th>1</th>\n",
       "      <td>AK</td>\n",
       "      <td>2020</td>\n",
       "      <td>Aug</td>\n",
       "      <td>1988</td>\n",
       "      <td>13</td>\n",
       "      <td>2020-08</td>\n",
       "    </tr>\n",
       "    <tr>\n",
       "      <th>2</th>\n",
       "      <td>AK</td>\n",
       "      <td>2020</td>\n",
       "      <td>Dec</td>\n",
       "      <td>14012</td>\n",
       "      <td>97</td>\n",
       "      <td>2020-12</td>\n",
       "    </tr>\n",
       "    <tr>\n",
       "      <th>3</th>\n",
       "      <td>AK</td>\n",
       "      <td>2020</td>\n",
       "      <td>Feb</td>\n",
       "      <td>0</td>\n",
       "      <td>0</td>\n",
       "      <td>2020-02</td>\n",
       "    </tr>\n",
       "    <tr>\n",
       "      <th>4</th>\n",
       "      <td>AK</td>\n",
       "      <td>2020</td>\n",
       "      <td>Jan</td>\n",
       "      <td>0</td>\n",
       "      <td>0</td>\n",
       "      <td>2020-01</td>\n",
       "    </tr>\n",
       "    <tr>\n",
       "      <th>...</th>\n",
       "      <td>...</td>\n",
       "      <td>...</td>\n",
       "      <td>...</td>\n",
       "      <td>...</td>\n",
       "      <td>...</td>\n",
       "      <td>...</td>\n",
       "    </tr>\n",
       "    <tr>\n",
       "      <th>2455</th>\n",
       "      <td>WY</td>\n",
       "      <td>2023</td>\n",
       "      <td>Apr</td>\n",
       "      <td>542</td>\n",
       "      <td>11</td>\n",
       "      <td>2023-04</td>\n",
       "    </tr>\n",
       "    <tr>\n",
       "      <th>2456</th>\n",
       "      <td>WY</td>\n",
       "      <td>2023</td>\n",
       "      <td>Feb</td>\n",
       "      <td>1156</td>\n",
       "      <td>23</td>\n",
       "      <td>2023-02</td>\n",
       "    </tr>\n",
       "    <tr>\n",
       "      <th>2457</th>\n",
       "      <td>WY</td>\n",
       "      <td>2023</td>\n",
       "      <td>Jan</td>\n",
       "      <td>835</td>\n",
       "      <td>21</td>\n",
       "      <td>2023-01</td>\n",
       "    </tr>\n",
       "    <tr>\n",
       "      <th>2458</th>\n",
       "      <td>WY</td>\n",
       "      <td>2023</td>\n",
       "      <td>Mar</td>\n",
       "      <td>1084</td>\n",
       "      <td>18</td>\n",
       "      <td>2023-03</td>\n",
       "    </tr>\n",
       "    <tr>\n",
       "      <th>2459</th>\n",
       "      <td>WY</td>\n",
       "      <td>2023</td>\n",
       "      <td>May</td>\n",
       "      <td>366</td>\n",
       "      <td>0</td>\n",
       "      <td>2023-05</td>\n",
       "    </tr>\n",
       "  </tbody>\n",
       "</table>\n",
       "<p>2460 rows × 6 columns</p>\n",
       "</div>"
      ],
      "text/plain": [
       "     state  year month  new_cases  new_deaths year-month\n",
       "0       AK  2020   Apr        225           7    2020-04\n",
       "1       AK  2020   Aug       1988          13    2020-08\n",
       "2       AK  2020   Dec      14012          97    2020-12\n",
       "3       AK  2020   Feb          0           0    2020-02\n",
       "4       AK  2020   Jan          0           0    2020-01\n",
       "...    ...   ...   ...        ...         ...        ...\n",
       "2455    WY  2023   Apr        542          11    2023-04\n",
       "2456    WY  2023   Feb       1156          23    2023-02\n",
       "2457    WY  2023   Jan        835          21    2023-01\n",
       "2458    WY  2023   Mar       1084          18    2023-03\n",
       "2459    WY  2023   May        366           0    2023-05\n",
       "\n",
       "[2460 rows x 6 columns]"
      ]
     },
     "execution_count": 14,
     "metadata": {},
     "output_type": "execute_result"
    }
   ],
   "source": [
    "df"
   ]
  },
  {
   "cell_type": "code",
   "execution_count": 21,
   "id": "41cfae64-d16e-4d5d-b61f-f1c7bd8fcfc5",
   "metadata": {},
   "outputs": [],
   "source": [
    "df.to_csv('covid_state_data_20240720.csv', index=False)"
   ]
  },
  {
   "cell_type": "code",
   "execution_count": 22,
   "id": "f97d16bd-7373-4ed0-8f12-15ffe93426a0",
   "metadata": {},
   "outputs": [
    {
     "data": {
      "text/plain": [
       "2460"
      ]
     },
     "execution_count": 22,
     "metadata": {},
     "output_type": "execute_result"
    }
   ],
   "source": [
    "len(df)"
   ]
  },
  {
   "cell_type": "code",
   "execution_count": null,
   "id": "13ca347c-ed83-4821-8265-9075374c4dce",
   "metadata": {},
   "outputs": [],
   "source": []
  },
  {
   "cell_type": "code",
   "execution_count": null,
   "id": "904ac259-8904-4518-8158-41b874b2fb62",
   "metadata": {},
   "outputs": [],
   "source": []
  },
  {
   "cell_type": "code",
   "execution_count": 210,
   "id": "00b3ff6e-4359-40cb-8b59-6d48a311517f",
   "metadata": {},
   "outputs": [],
   "source": [
    "months = ['Jan', 'Feb', 'Mar', 'Apr', 'May', 'Jun', 'Jul', 'Aug', 'Sep', 'Oct', 'Nov', 'Dec']\n",
    "month_nums = [1,2,3,4,5,6,7,8,9,10,11,12]\n",
    "data = {\n",
    "    'month_index': month_nums,\n",
    "    'month': months\n",
    "}\n",
    "pd.DataFrame(data).to_csv('months.csv', index=False)"
   ]
  },
  {
   "cell_type": "code",
   "execution_count": null,
   "id": "d136694c-3ca9-469b-b616-7eee6446008c",
   "metadata": {},
   "outputs": [],
   "source": []
  },
  {
   "cell_type": "code",
   "execution_count": null,
   "id": "5e799b49-46c7-4a0f-93bb-5717848a350e",
   "metadata": {},
   "outputs": [],
   "source": []
  },
  {
   "cell_type": "code",
   "execution_count": null,
   "id": "3cc6fdb6-30d8-4101-a701-a79eb6505803",
   "metadata": {},
   "outputs": [],
   "source": []
  }
 ],
 "metadata": {
  "kernelspec": {
   "display_name": "Python 3 (ipykernel)",
   "language": "python",
   "name": "python3"
  },
  "language_info": {
   "codemirror_mode": {
    "name": "ipython",
    "version": 3
   },
   "file_extension": ".py",
   "mimetype": "text/x-python",
   "name": "python",
   "nbconvert_exporter": "python",
   "pygments_lexer": "ipython3",
   "version": "3.10.14"
  }
 },
 "nbformat": 4,
 "nbformat_minor": 5
}
