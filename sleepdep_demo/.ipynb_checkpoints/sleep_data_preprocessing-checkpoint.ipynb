{
 "cells": [
  {
   "cell_type": "code",
   "execution_count": null,
   "id": "3f05eef3-0667-43f0-96d7-8328048d1613",
   "metadata": {},
   "outputs": [],
   "source": []
  },
  {
   "cell_type": "markdown",
   "id": "f6e0502f-10a1-4c57-9f05-6e4550d4133f",
   "metadata": {},
   "source": [
    "# Sleep deprivation data processing notebook\n",
    "\n",
    "Processing notebook for COVID datasets to be used in a Tableau dashboard"
   ]
  },
  {
   "cell_type": "markdown",
   "id": "e7d12638-52b7-434f-ae9c-ab2d262358f9",
   "metadata": {},
   "source": [
    "### Sources\n",
    "\n",
    "1) Sleep Deprivation & Cognition Performance - https://www.kaggle.com/datasets/sacramentotechnology/sleep-deprivation-and-cognitive-performance/data?select=sleep_deprivation_dataset_detailed.csv\n",
    "\n",
    "A note on this dataset: I saw it featured on Kaggle and thought it would be interesting since it seemed to be associated with some kind of sleep deprivation research somewhere. However, the dataset proved to be very small (60 entries) to really show many meaningful insights between variables and the features themselves unclear how many of them were empirically-derived or participant self-assigned. Additionally, the kaggle page above and a quick search on google scholar and pubmed didn't result in a paper that this could have came from (I suppose it could be research that's ongoing or just unpublished). Nevertheless, here's my quick and dirty EDA and simple data processing notebook.\n",
    "\n",
    "Dataset Features:\n",
    "- `Participant_ID` - A unique identifier for the people \n",
    "- `Sleep_Hours` - Number of hours the participant slept throughout the night\n",
    "- `Sleep_Quality_Score` - A score from 0-20 of the quality of sleep for the participant. It's unclear to me if this is somehow empirically-derived score or a self-assigned score (this is a reoccuring theme that will bother me with this dataset)\n",
    "- `Daytime_Sleepiness` - A score from 0-24 measuring daytime sleepiness for the participant (I'm guessing it has to do with hours feeling sleepiness?)\n",
    "- Cognitive Performance Metrics (I'd take a guess at least these are empirical)\n",
    "  - `Stroop_Task_Reaction_Time` - Cognitive psychological test that measures selection attention, cognitive flexibility, and processsing speed. Measured in seconds (reaction time to correctly identify the color of a word printed in ink) and lower typically is a better result\n",
    "  - `N_Back_Accuracy` - Cognitive test measuring working memory and executive function. A percentage accuracy of correct responses, higher is better.\n",
    "  - `PVT_Reaction_Time` - A cognitive test measuring sustained attention and vigilance. Measured in seconds (reaction time to react to a visual stimulus) and lower typically is a better result (similarly to Stroop)\n",
    "- `Emotion_Regulation_Score` - A metric used to assess an individual's ability to manage and respond to emotional experiences in a healthy and adaptive way. A score from some kind of questionnaire or some scale (higher scores typically mean better emotional regulation)\n",
    "- Lifestyle Factors (other than BMI, I'm guessing these are likely self-reported)\n",
    "  - `BMI` - Body mass index, a measure of body fat based on height and weight\n",
    "  - `Caffeine_Intake` - Amount of caffeine intake, on a scale from 0-5\n",
    "  - `Physical_Activity_Level` - Amount of physical activity, on a scale from 0-10\n",
    "  - `Stress_Level` - Amount of stress, unsure of the exact scale but the range in this dataset falls between 0-40\n",
    "- Demographic factors\n",
    "  - `Age` - participant's age, ages range from 18-43\n",
    "  - `Gender` - participant's gender, 37:23 male:female split\n",
    "\n",
    "There were no missing data in any of the records and so the dataset was clean in that regard. I added a few columns creating \"groups\" for age, BMI, caffeine, physical activity, and stress."
   ]
  },
  {
   "cell_type": "code",
   "execution_count": null,
   "id": "67487410-fd68-4e76-8025-35c8f50e9101",
   "metadata": {},
   "outputs": [],
   "source": []
  },
  {
   "cell_type": "code",
   "execution_count": 2,
   "id": "4f9aebd9-ee71-48fb-b462-db002b7b0b69",
   "metadata": {},
   "outputs": [],
   "source": [
    "import pandas as pd\n",
    "import matplotlib.pyplot as plt"
   ]
  },
  {
   "cell_type": "code",
   "execution_count": null,
   "id": "52ef9e95-7438-4c0b-bbe5-b019f463458c",
   "metadata": {},
   "outputs": [],
   "source": []
  },
  {
   "cell_type": "code",
   "execution_count": 3,
   "id": "58ec6d38-c224-4012-8285-269b80f789aa",
   "metadata": {},
   "outputs": [],
   "source": [
    "df = pd.read_csv('data/sleep_deprivation_dataset_detailed.csv')"
   ]
  },
  {
   "cell_type": "code",
   "execution_count": 4,
   "id": "8b4aeabb-1a3f-433a-93d6-f3719ada0aff",
   "metadata": {},
   "outputs": [
    {
     "data": {
      "text/plain": [
       "60"
      ]
     },
     "execution_count": 4,
     "metadata": {},
     "output_type": "execute_result"
    }
   ],
   "source": [
    "len(df)"
   ]
  },
  {
   "cell_type": "code",
   "execution_count": 5,
   "id": "4df6959c-1f8e-4db3-831f-76eb48829d81",
   "metadata": {},
   "outputs": [
    {
     "data": {
      "text/html": [
       "<div>\n",
       "<style scoped>\n",
       "    .dataframe tbody tr th:only-of-type {\n",
       "        vertical-align: middle;\n",
       "    }\n",
       "\n",
       "    .dataframe tbody tr th {\n",
       "        vertical-align: top;\n",
       "    }\n",
       "\n",
       "    .dataframe thead th {\n",
       "        text-align: right;\n",
       "    }\n",
       "</style>\n",
       "<table border=\"1\" class=\"dataframe\">\n",
       "  <thead>\n",
       "    <tr style=\"text-align: right;\">\n",
       "      <th></th>\n",
       "      <th>Sleep_Hours</th>\n",
       "      <th>Sleep_Quality_Score</th>\n",
       "      <th>Daytime_Sleepiness</th>\n",
       "      <th>Stroop_Task_Reaction_Time</th>\n",
       "      <th>N_Back_Accuracy</th>\n",
       "      <th>Emotion_Regulation_Score</th>\n",
       "      <th>PVT_Reaction_Time</th>\n",
       "      <th>Age</th>\n",
       "      <th>BMI</th>\n",
       "      <th>Caffeine_Intake</th>\n",
       "      <th>Physical_Activity_Level</th>\n",
       "      <th>Stress_Level</th>\n",
       "    </tr>\n",
       "  </thead>\n",
       "  <tbody>\n",
       "    <tr>\n",
       "      <th>count</th>\n",
       "      <td>60.000000</td>\n",
       "      <td>60.000000</td>\n",
       "      <td>60.000000</td>\n",
       "      <td>60.000000</td>\n",
       "      <td>60.000000</td>\n",
       "      <td>60.0000</td>\n",
       "      <td>60.000000</td>\n",
       "      <td>60.000000</td>\n",
       "      <td>60.000000</td>\n",
       "      <td>60.000000</td>\n",
       "      <td>60.000000</td>\n",
       "      <td>60.000000</td>\n",
       "    </tr>\n",
       "    <tr>\n",
       "      <th>mean</th>\n",
       "      <td>5.805500</td>\n",
       "      <td>8.316667</td>\n",
       "      <td>12.000000</td>\n",
       "      <td>3.245000</td>\n",
       "      <td>75.005833</td>\n",
       "      <td>38.1500</td>\n",
       "      <td>332.539000</td>\n",
       "      <td>29.516667</td>\n",
       "      <td>27.329333</td>\n",
       "      <td>2.383333</td>\n",
       "      <td>4.116667</td>\n",
       "      <td>17.866667</td>\n",
       "    </tr>\n",
       "    <tr>\n",
       "      <th>std</th>\n",
       "      <td>1.832357</td>\n",
       "      <td>5.637320</td>\n",
       "      <td>7.577845</td>\n",
       "      <td>0.827368</td>\n",
       "      <td>13.671457</td>\n",
       "      <td>17.1334</td>\n",
       "      <td>87.800288</td>\n",
       "      <td>8.168753</td>\n",
       "      <td>4.541382</td>\n",
       "      <td>1.688362</td>\n",
       "      <td>3.108717</td>\n",
       "      <td>11.015346</td>\n",
       "    </tr>\n",
       "    <tr>\n",
       "      <th>min</th>\n",
       "      <td>3.120000</td>\n",
       "      <td>0.000000</td>\n",
       "      <td>0.000000</td>\n",
       "      <td>1.600000</td>\n",
       "      <td>50.900000</td>\n",
       "      <td>10.0000</td>\n",
       "      <td>201.560000</td>\n",
       "      <td>18.000000</td>\n",
       "      <td>18.740000</td>\n",
       "      <td>0.000000</td>\n",
       "      <td>0.000000</td>\n",
       "      <td>0.000000</td>\n",
       "    </tr>\n",
       "    <tr>\n",
       "      <th>25%</th>\n",
       "      <td>4.107500</td>\n",
       "      <td>4.000000</td>\n",
       "      <td>6.000000</td>\n",
       "      <td>2.595000</td>\n",
       "      <td>64.620000</td>\n",
       "      <td>25.0000</td>\n",
       "      <td>257.535000</td>\n",
       "      <td>21.750000</td>\n",
       "      <td>23.580000</td>\n",
       "      <td>1.000000</td>\n",
       "      <td>1.000000</td>\n",
       "      <td>8.750000</td>\n",
       "    </tr>\n",
       "    <tr>\n",
       "      <th>50%</th>\n",
       "      <td>5.690000</td>\n",
       "      <td>8.000000</td>\n",
       "      <td>11.500000</td>\n",
       "      <td>3.260000</td>\n",
       "      <td>74.270000</td>\n",
       "      <td>37.0000</td>\n",
       "      <td>327.210000</td>\n",
       "      <td>28.500000</td>\n",
       "      <td>27.365000</td>\n",
       "      <td>2.500000</td>\n",
       "      <td>4.000000</td>\n",
       "      <td>17.500000</td>\n",
       "    </tr>\n",
       "    <tr>\n",
       "      <th>75%</th>\n",
       "      <td>7.285000</td>\n",
       "      <td>13.000000</td>\n",
       "      <td>19.000000</td>\n",
       "      <td>3.965000</td>\n",
       "      <td>85.600000</td>\n",
       "      <td>54.2500</td>\n",
       "      <td>402.845000</td>\n",
       "      <td>36.000000</td>\n",
       "      <td>30.747500</td>\n",
       "      <td>4.000000</td>\n",
       "      <td>6.000000</td>\n",
       "      <td>26.250000</td>\n",
       "    </tr>\n",
       "    <tr>\n",
       "      <th>max</th>\n",
       "      <td>8.820000</td>\n",
       "      <td>20.000000</td>\n",
       "      <td>24.000000</td>\n",
       "      <td>4.490000</td>\n",
       "      <td>99.730000</td>\n",
       "      <td>67.0000</td>\n",
       "      <td>494.550000</td>\n",
       "      <td>43.000000</td>\n",
       "      <td>34.930000</td>\n",
       "      <td>5.000000</td>\n",
       "      <td>10.000000</td>\n",
       "      <td>40.000000</td>\n",
       "    </tr>\n",
       "  </tbody>\n",
       "</table>\n",
       "</div>"
      ],
      "text/plain": [
       "       Sleep_Hours  Sleep_Quality_Score  Daytime_Sleepiness  \\\n",
       "count    60.000000            60.000000           60.000000   \n",
       "mean      5.805500             8.316667           12.000000   \n",
       "std       1.832357             5.637320            7.577845   \n",
       "min       3.120000             0.000000            0.000000   \n",
       "25%       4.107500             4.000000            6.000000   \n",
       "50%       5.690000             8.000000           11.500000   \n",
       "75%       7.285000            13.000000           19.000000   \n",
       "max       8.820000            20.000000           24.000000   \n",
       "\n",
       "       Stroop_Task_Reaction_Time  N_Back_Accuracy  Emotion_Regulation_Score  \\\n",
       "count                  60.000000        60.000000                   60.0000   \n",
       "mean                    3.245000        75.005833                   38.1500   \n",
       "std                     0.827368        13.671457                   17.1334   \n",
       "min                     1.600000        50.900000                   10.0000   \n",
       "25%                     2.595000        64.620000                   25.0000   \n",
       "50%                     3.260000        74.270000                   37.0000   \n",
       "75%                     3.965000        85.600000                   54.2500   \n",
       "max                     4.490000        99.730000                   67.0000   \n",
       "\n",
       "       PVT_Reaction_Time        Age        BMI  Caffeine_Intake  \\\n",
       "count          60.000000  60.000000  60.000000        60.000000   \n",
       "mean          332.539000  29.516667  27.329333         2.383333   \n",
       "std            87.800288   8.168753   4.541382         1.688362   \n",
       "min           201.560000  18.000000  18.740000         0.000000   \n",
       "25%           257.535000  21.750000  23.580000         1.000000   \n",
       "50%           327.210000  28.500000  27.365000         2.500000   \n",
       "75%           402.845000  36.000000  30.747500         4.000000   \n",
       "max           494.550000  43.000000  34.930000         5.000000   \n",
       "\n",
       "       Physical_Activity_Level  Stress_Level  \n",
       "count                60.000000     60.000000  \n",
       "mean                  4.116667     17.866667  \n",
       "std                   3.108717     11.015346  \n",
       "min                   0.000000      0.000000  \n",
       "25%                   1.000000      8.750000  \n",
       "50%                   4.000000     17.500000  \n",
       "75%                   6.000000     26.250000  \n",
       "max                  10.000000     40.000000  "
      ]
     },
     "execution_count": 5,
     "metadata": {},
     "output_type": "execute_result"
    }
   ],
   "source": [
    "df.describe()"
   ]
  },
  {
   "cell_type": "code",
   "execution_count": 6,
   "id": "f4d49429-c367-4347-a7c8-8f6e15899f91",
   "metadata": {},
   "outputs": [
    {
     "name": "stdout",
     "output_type": "stream",
     "text": [
      "<class 'pandas.core.frame.DataFrame'>\n",
      "RangeIndex: 60 entries, 0 to 59\n",
      "Data columns (total 14 columns):\n",
      " #   Column                     Non-Null Count  Dtype  \n",
      "---  ------                     --------------  -----  \n",
      " 0   Participant_ID             60 non-null     object \n",
      " 1   Sleep_Hours                60 non-null     float64\n",
      " 2   Sleep_Quality_Score        60 non-null     int64  \n",
      " 3   Daytime_Sleepiness         60 non-null     int64  \n",
      " 4   Stroop_Task_Reaction_Time  60 non-null     float64\n",
      " 5   N_Back_Accuracy            60 non-null     float64\n",
      " 6   Emotion_Regulation_Score   60 non-null     int64  \n",
      " 7   PVT_Reaction_Time          60 non-null     float64\n",
      " 8   Age                        60 non-null     int64  \n",
      " 9   Gender                     60 non-null     object \n",
      " 10  BMI                        60 non-null     float64\n",
      " 11  Caffeine_Intake            60 non-null     int64  \n",
      " 12  Physical_Activity_Level    60 non-null     int64  \n",
      " 13  Stress_Level               60 non-null     int64  \n",
      "dtypes: float64(5), int64(7), object(2)\n",
      "memory usage: 6.7+ KB\n"
     ]
    }
   ],
   "source": [
    "df.info()"
   ]
  },
  {
   "cell_type": "code",
   "execution_count": 7,
   "id": "2ea1a524-d506-4f0e-968e-8a3e842bf394",
   "metadata": {},
   "outputs": [
    {
     "data": {
      "text/plain": [
       "<Axes: >"
      ]
     },
     "execution_count": 7,
     "metadata": {},
     "output_type": "execute_result"
    },
    {
     "data": {
      "image/png": "[encoded data removed]",
      "text/plain": [
       "<Figure size 640x480 with 1 Axes>"
      ]
     },
     "metadata": {},
     "output_type": "display_data"
    }
   ],
   "source": [
    "df['Sleep_Hours'].hist()"
   ]
  },
  {
   "cell_type": "code",
   "execution_count": 8,
   "id": "d9d1a713-21c6-4dee-bb81-d57d69d1a446",
   "metadata": {},
   "outputs": [
    {
     "data": {
      "text/plain": [
       "count    60.000000\n",
       "mean      5.805500\n",
       "std       1.832357\n",
       "min       3.120000\n",
       "25%       4.107500\n",
       "50%       5.690000\n",
       "75%       7.285000\n",
       "max       8.820000\n",
       "Name: Sleep_Hours, dtype: float64"
      ]
     },
     "execution_count": 8,
     "metadata": {},
     "output_type": "execute_result"
    }
   ],
   "source": [
    "df.Sleep_Hours.describe()"
   ]
  },
  {
   "cell_type": "code",
   "execution_count": 9,
   "id": "a993729c-f3ac-41a8-b458-13a5d1a52f4b",
   "metadata": {},
   "outputs": [
    {
     "data": {
      "text/plain": [
       "Index(['Participant_ID', 'Sleep_Hours', 'Sleep_Quality_Score',\n",
       "       'Daytime_Sleepiness', 'Stroop_Task_Reaction_Time', 'N_Back_Accuracy',\n",
       "       'Emotion_Regulation_Score', 'PVT_Reaction_Time', 'Age', 'Gender', 'BMI',\n",
       "       'Caffeine_Intake', 'Physical_Activity_Level', 'Stress_Level'],\n",
       "      dtype='object')"
      ]
     },
     "execution_count": 9,
     "metadata": {},
     "output_type": "execute_result"
    }
   ],
   "source": [
    "df.columns"
   ]
  },
  {
   "cell_type": "code",
   "execution_count": null,
   "id": "ccc2818f-8660-43fe-abdf-5bb2749dc6f1",
   "metadata": {},
   "outputs": [],
   "source": []
  },
  {
   "cell_type": "code",
   "execution_count": 10,
   "id": "0b990faa-9013-4db1-927b-1c188e5e5e8e",
   "metadata": {},
   "outputs": [
    {
     "data": {
      "text/plain": [
       "np.float64(5.8054999999999986)"
      ]
     },
     "execution_count": 10,
     "metadata": {},
     "output_type": "execute_result"
    }
   ],
   "source": [
    "df.Sleep_Hours.mean()"
   ]
  },
  {
   "cell_type": "code",
   "execution_count": 11,
   "id": "b105c859-64ae-451f-911b-3ae7c9188cad",
   "metadata": {},
   "outputs": [
    {
     "data": {
      "text/plain": [
       "<Axes: >"
      ]
     },
     "execution_count": 11,
     "metadata": {},
     "output_type": "execute_result"
    },
    {
     "data": {
      "image/png": "[encoded data removed]",
      "text/plain": [
       "<Figure size 640x480 with 1 Axes>"
      ]
     },
     "metadata": {},
     "output_type": "display_data"
    }
   ],
   "source": [
    "df.Daytime_Sleepiness.hist()"
   ]
  },
  {
   "cell_type": "code",
   "execution_count": null,
   "id": "d46f5f74-efc4-40a5-98c4-b108d45fd290",
   "metadata": {},
   "outputs": [],
   "source": []
  },
  {
   "cell_type": "code",
   "execution_count": 12,
   "id": "5cd882b8-3c94-4119-a527-9c9a3bde1294",
   "metadata": {},
   "outputs": [
    {
     "data": {
      "text/plain": [
       "<Axes: >"
      ]
     },
     "execution_count": 12,
     "metadata": {},
     "output_type": "execute_result"
    },
    {
     "data": {
      "image/png": "[encoded data removed]",
      "text/plain": [
       "<Figure size 640x480 with 1 Axes>"
      ]
     },
     "metadata": {},
     "output_type": "display_data"
    }
   ],
   "source": [
    "df.Age.hist()"
   ]
  },
  {
   "cell_type": "code",
   "execution_count": 13,
   "id": "d4ee29d2-ddef-4fc4-92db-0a4aa8857ee7",
   "metadata": {},
   "outputs": [
    {
     "data": {
      "text/plain": [
       "count    60.000000\n",
       "mean     29.516667\n",
       "std       8.168753\n",
       "min      18.000000\n",
       "25%      21.750000\n",
       "50%      28.500000\n",
       "75%      36.000000\n",
       "max      43.000000\n",
       "Name: Age, dtype: float64"
      ]
     },
     "execution_count": 13,
     "metadata": {},
     "output_type": "execute_result"
    }
   ],
   "source": [
    "df.Age.describe()"
   ]
  },
  {
   "cell_type": "code",
   "execution_count": null,
   "id": "79a56e89-83cd-4f64-9983-daeaffa6cbae",
   "metadata": {},
   "outputs": [],
   "source": []
  },
  {
   "cell_type": "code",
   "execution_count": 14,
   "id": "414239b5-7e2f-4015-b1e1-5e8ac4ed65cd",
   "metadata": {},
   "outputs": [
    {
     "data": {
      "text/plain": [
       "<Axes: >"
      ]
     },
     "execution_count": 14,
     "metadata": {},
     "output_type": "execute_result"
    },
    {
     "data": {
      "image/png": "[encoded data removed]",
      "text/plain": [
       "<Figure size 640x480 with 1 Axes>"
      ]
     },
     "metadata": {},
     "output_type": "display_data"
    }
   ],
   "source": [
    "df.BMI.hist()"
   ]
  },
  {
   "cell_type": "code",
   "execution_count": null,
   "id": "17be0fb0-a39d-4091-a6f1-f94196c1491e",
   "metadata": {},
   "outputs": [],
   "source": []
  },
  {
   "cell_type": "code",
   "execution_count": 15,
   "id": "599584e8-4d7d-409b-985c-bad0572a2107",
   "metadata": {},
   "outputs": [
    {
     "data": {
      "text/plain": [
       "Gender\n",
       "Male      37\n",
       "Female    23\n",
       "Name: count, dtype: int64"
      ]
     },
     "execution_count": 15,
     "metadata": {},
     "output_type": "execute_result"
    }
   ],
   "source": [
    "df.Gender.value_counts(dropna=False)"
   ]
  },
  {
   "cell_type": "code",
   "execution_count": null,
   "id": "0c0c80dc-0df8-4c95-8410-016ed5651905",
   "metadata": {},
   "outputs": [],
   "source": []
  },
  {
   "cell_type": "markdown",
   "id": "609632fb-4e37-4019-8352-8527a09be371",
   "metadata": {},
   "source": [
    "## Data Processing\n",
    "\n",
    "Plan\n",
    "\n",
    "1) Create age groups (18-25, 26-35, 36-45)\n",
    "2) Create BMI groups (underweight, normal, overweight, obese)\n",
    "3) Create Caffeine Intake groups (low, moderate, high caffeine intake)\n",
    "4) Create Physical Activity Level groups (low, moderate, high)\n",
    "5) Create Stress Level Groups (low, moderate, high)"
   ]
  },
  {
   "cell_type": "code",
   "execution_count": null,
   "id": "468ea851-51cf-496f-b146-486da489ce31",
   "metadata": {},
   "outputs": [],
   "source": []
  },
  {
   "cell_type": "markdown",
   "id": "529431f6-a3d2-4c6e-9bd8-8d23c19cce61",
   "metadata": {},
   "source": [
    "1) Create age groups (18-25, 26-35, 36-45)"
   ]
  },
  {
   "cell_type": "code",
   "execution_count": 24,
   "id": "3958494e-d168-41f0-a5ca-f903a74a4035",
   "metadata": {},
   "outputs": [],
   "source": [
    "def age_group(n):\n",
    "    if n <= 25: # 18-25, min is 18\n",
    "        return \"18-25\"\n",
    "    elif n <= 35: # 26-35\n",
    "        return \"26-35\"\n",
    "    else: # max is 43\n",
    "        return \"36-45\"\n",
    "        \n",
    "df['Age_Group'] = df.Age.apply(age_group)"
   ]
  },
  {
   "cell_type": "code",
   "execution_count": 26,
   "id": "aaf65c57-5fe1-40dc-9d34-7d5a09d6b27e",
   "metadata": {},
   "outputs": [
    {
     "data": {
      "text/plain": [
       "Age\n",
       "26-35    22\n",
       "18-25    22\n",
       "36-45    16\n",
       "Name: count, dtype: int64"
      ]
     },
     "execution_count": 26,
     "metadata": {},
     "output_type": "execute_result"
    }
   ],
   "source": [
    "df.Age_Group.value_counts()"
   ]
  },
  {
   "cell_type": "code",
   "execution_count": null,
   "id": "085b03fe-c0d6-46a2-ad9f-298efa4f9c6f",
   "metadata": {},
   "outputs": [],
   "source": []
  },
  {
   "cell_type": "markdown",
   "id": "f6066171-c1b4-464f-9a7b-8015af8a569b",
   "metadata": {},
   "source": [
    "2) Create BMI groups (underweight, normal, overweight, obese)  \n",
    "https://www.who.int/data/gho/data/themes/topics/topic-details/GHO/body-mass-index?introPage=intro_3.html  \n",
    "- Underweight -> <18.5  \n",
    "- Normal -> =>18.5, <25  \n",
    "- Overweight -> =>25, <30  \n",
    "- Obese -> =>30"
   ]
  },
  {
   "cell_type": "code",
   "execution_count": 28,
   "id": "8f030008-f725-4fe3-bc6f-020a721d0d4f",
   "metadata": {},
   "outputs": [
    {
     "data": {
      "text/plain": [
       "<Axes: >"
      ]
     },
     "execution_count": 28,
     "metadata": {},
     "output_type": "execute_result"
    },
    {
     "data": {
      "image/png": "[encoded data removed]",
      "text/plain": [
       "<Figure size 640x480 with 1 Axes>"
      ]
     },
     "metadata": {},
     "output_type": "display_data"
    }
   ],
   "source": [
    "df.BMI.hist()"
   ]
  },
  {
   "cell_type": "code",
   "execution_count": 29,
   "id": "7a3f1e26-8f35-4fd6-8e91-c89c2a388d46",
   "metadata": {},
   "outputs": [],
   "source": [
    "def BMI_group(n):\n",
    "    if n<18.5:\n",
    "        return \"Underweight\"\n",
    "    elif n<25:\n",
    "        return \"Normal\"\n",
    "    elif n<30:\n",
    "        return \"Overweight\"\n",
    "    else:\n",
    "        return \"Obese\"\n",
    "\n",
    "df['BMI_group'] = df.BMI.apply(BMI_group)"
   ]
  },
  {
   "cell_type": "code",
   "execution_count": 30,
   "id": "b5232b46-7e72-4b47-a75f-128474311413",
   "metadata": {},
   "outputs": [
    {
     "data": {
      "text/plain": [
       "BMI_group\n",
       "Normal        22\n",
       "Obese         21\n",
       "Overweight    17\n",
       "Name: count, dtype: int64"
      ]
     },
     "execution_count": 30,
     "metadata": {},
     "output_type": "execute_result"
    }
   ],
   "source": [
    "df['BMI_group'].value_counts()"
   ]
  },
  {
   "cell_type": "code",
   "execution_count": null,
   "id": "c5fbe247-1421-4198-8591-c4d92a7ffc60",
   "metadata": {},
   "outputs": [],
   "source": []
  },
  {
   "cell_type": "markdown",
   "id": "f4841360-0061-4596-a3d4-4203aed8d0ff",
   "metadata": {},
   "source": [
    "3) Create Caffeine Intake groups (low, moderate, high caffeine intake)  \n",
    "0-5 range\n",
    "\n",
    "- 0-1 low-to-none\n",
    "- 2-3 moderate\n",
    "- 4-5 high"
   ]
  },
  {
   "cell_type": "code",
   "execution_count": 34,
   "id": "f83f9978-5dc7-45a9-901e-a0163c60106d",
   "metadata": {},
   "outputs": [
    {
     "data": {
      "text/plain": [
       "Caffeine_Intake\n",
       "4    12\n",
       "3    11\n",
       "0    11\n",
       "1    11\n",
       "2     8\n",
       "5     7\n",
       "Name: count, dtype: int64"
      ]
     },
     "execution_count": 34,
     "metadata": {},
     "output_type": "execute_result"
    }
   ],
   "source": [
    "df.Caffeine_Intake.value_counts()"
   ]
  },
  {
   "cell_type": "code",
   "execution_count": 35,
   "id": "a6eb71d9-e03f-43b9-b001-479134b066e4",
   "metadata": {},
   "outputs": [],
   "source": [
    "def caffeine_group(n):\n",
    "    if n<2:\n",
    "        return \"Low-to-None\"\n",
    "    elif n<4:\n",
    "        return \"Moderate\"\n",
    "    else:\n",
    "        return \"High\"\n",
    "\n",
    "df['Caffeine_group'] = df.Caffeine_Intake.apply(caffeine_group)"
   ]
  },
  {
   "cell_type": "code",
   "execution_count": 36,
   "id": "6e1535ae-6bed-477d-8e73-1ada295f5030",
   "metadata": {},
   "outputs": [
    {
     "data": {
      "text/plain": [
       "Caffeine_group\n",
       "Low-to-None    22\n",
       "Moderate       19\n",
       "High           19\n",
       "Name: count, dtype: int64"
      ]
     },
     "execution_count": 36,
     "metadata": {},
     "output_type": "execute_result"
    }
   ],
   "source": [
    "df['Caffeine_group'].value_counts()"
   ]
  },
  {
   "cell_type": "code",
   "execution_count": null,
   "id": "81e1ccbe-7bec-418d-910f-384598521dc0",
   "metadata": {},
   "outputs": [],
   "source": []
  },
  {
   "cell_type": "markdown",
   "id": "76c25e11-3687-425f-84d1-b830ba543496",
   "metadata": {},
   "source": [
    "4) Create Physical Activity Level groups (low, moderate, high)  \n",
    "0-10 range\n",
    "\n",
    "Two possible schemes for binning this category\n",
    "\n",
    "a) <-- ended up using this\n",
    "- 0-3 - Low\n",
    "- 4-7 - Moderate\n",
    "- 8-10 - High\n",
    "- ^ doesn't really create a good grouping (25/24/11)\n",
    "\n",
    "b)\n",
    "- 0-2 - Low\n",
    "- 3-5 - Moderate\n",
    "- 6-10 - High\n",
    "^ creates 23/19/18, but 6-10 seems a wide group"
   ]
  },
  {
   "cell_type": "code",
   "execution_count": 39,
   "id": "4ccdc1e6-b463-480f-b3b4-23322a6ae39e",
   "metadata": {},
   "outputs": [
    {
     "data": {
      "text/plain": [
       "Physical_Activity_Level\n",
       "4     11\n",
       "1      9\n",
       "0      8\n",
       "5      7\n",
       "2      6\n",
       "6      5\n",
       "9      4\n",
       "10     4\n",
       "8      3\n",
       "7      2\n",
       "3      1\n",
       "Name: count, dtype: int64"
      ]
     },
     "execution_count": 39,
     "metadata": {},
     "output_type": "execute_result"
    }
   ],
   "source": [
    "df.Physical_Activity_Level.value_counts()"
   ]
  },
  {
   "cell_type": "code",
   "execution_count": 40,
   "id": "a2411fcc-2b15-462c-9f8d-317733860548",
   "metadata": {},
   "outputs": [
    {
     "data": {
      "text/plain": [
       "<Axes: >"
      ]
     },
     "execution_count": 40,
     "metadata": {},
     "output_type": "execute_result"
    },
    {
     "data": {
      "image/png": "[encoded data removed]",
      "text/plain": [
       "<Figure size 640x480 with 1 Axes>"
      ]
     },
     "metadata": {},
     "output_type": "display_data"
    }
   ],
   "source": [
    "df.Physical_Activity_Level.hist()"
   ]
  },
  {
   "cell_type": "code",
   "execution_count": 50,
   "id": "0c83edc2-d81a-491b-968b-93354735adaf",
   "metadata": {},
   "outputs": [],
   "source": [
    "def physical_activity_group(n):\n",
    "    if n<4:\n",
    "        return \"Low-to-None\"\n",
    "    elif n<8:\n",
    "        return \"Moderate\"\n",
    "    else:\n",
    "        return \"High\"\n",
    "\n",
    "df['Physical_Activity_group'] = df.Physical_Activity_Level.apply(physical_activity_group)"
   ]
  },
  {
   "cell_type": "code",
   "execution_count": 51,
   "id": "66cdcf1a-4afd-4a4e-92f3-a004827d2b0a",
   "metadata": {},
   "outputs": [
    {
     "data": {
      "text/plain": [
       "Physical_Activity_group\n",
       "Moderate       25\n",
       "Low-to-None    24\n",
       "High           11\n",
       "Name: count, dtype: int64"
      ]
     },
     "execution_count": 51,
     "metadata": {},
     "output_type": "execute_result"
    }
   ],
   "source": [
    "df['Physical_Activity_group'].value_counts()"
   ]
  },
  {
   "cell_type": "code",
   "execution_count": null,
   "id": "08a89a56-5ab0-4e9c-afb6-84eaacf2f48c",
   "metadata": {},
   "outputs": [],
   "source": []
  },
  {
   "cell_type": "code",
   "execution_count": null,
   "id": "4e8e1538-697c-45a1-83ee-c2e4b7b64ecf",
   "metadata": {},
   "outputs": [],
   "source": []
  },
  {
   "cell_type": "raw",
   "id": "11f9cbb0-6dac-4e36-814b-d241a57ed688",
   "metadata": {},
   "source": [
    "5) Create Stress Level Groups (low, moderate, high)"
   ]
  },
  {
   "cell_type": "code",
   "execution_count": 54,
   "id": "df2671fd-897b-4dc6-ab20-46c4b91923a4",
   "metadata": {},
   "outputs": [
    {
     "data": {
      "text/plain": [
       "count    60.000000\n",
       "mean     17.866667\n",
       "std      11.015346\n",
       "min       0.000000\n",
       "25%       8.750000\n",
       "50%      17.500000\n",
       "75%      26.250000\n",
       "max      40.000000\n",
       "Name: Stress_Level, dtype: float64"
      ]
     },
     "execution_count": 54,
     "metadata": {},
     "output_type": "execute_result"
    }
   ],
   "source": [
    "df.Stress_Level.describe()"
   ]
  },
  {
   "cell_type": "code",
   "execution_count": 55,
   "id": "d039dfe1-bee3-4ff3-90e7-a601f0399b98",
   "metadata": {},
   "outputs": [
    {
     "data": {
      "text/plain": [
       "<Axes: >"
      ]
     },
     "execution_count": 55,
     "metadata": {},
     "output_type": "execute_result"
    },
    {
     "data": {
      "image/png": "[encoded data removed]",
      "text/plain": [
       "<Figure size 640x480 with 1 Axes>"
      ]
     },
     "metadata": {},
     "output_type": "display_data"
    }
   ],
   "source": [
    "df.Stress_Level.hist()"
   ]
  },
  {
   "cell_type": "code",
   "execution_count": 58,
   "id": "9f8db1eb-76d5-4f04-8762-734ad3c31f85",
   "metadata": {},
   "outputs": [],
   "source": [
    "# We'll just play around with the grouping until we find a good grouping\n",
    "\"\"\"\n",
    "0-13/14-27/28-40 gets 22/24/14\n",
    "14  / 14  / 13\n",
    "\n",
    "0-13/14-26/27-40 gets 22/23/15 < go with this\n",
    "14  / 13  / 14\n",
    "\"\"\"\n",
    "\n",
    "\n",
    "def stress_group(n):\n",
    "    if n<14:\n",
    "        return \"Low\"\n",
    "    elif n<27:\n",
    "        return \"Moderate\"\n",
    "    else:\n",
    "        return \"High\"\n",
    "\n",
    "df['Stress_Level_group'] = df.Stress_Level.apply(stress_group)"
   ]
  },
  {
   "cell_type": "code",
   "execution_count": 59,
   "id": "b086d6bb-7123-455a-9276-93e057480d8b",
   "metadata": {},
   "outputs": [
    {
     "data": {
      "text/plain": [
       "Stress_Level_group\n",
       "Moderate    23\n",
       "Low         22\n",
       "High        15\n",
       "Name: count, dtype: int64"
      ]
     },
     "execution_count": 59,
     "metadata": {},
     "output_type": "execute_result"
    }
   ],
   "source": [
    "df.Stress_Level_group.value_counts()"
   ]
  },
  {
   "cell_type": "code",
   "execution_count": null,
   "id": "650bad72-7408-4678-b679-b1c8158a679f",
   "metadata": {},
   "outputs": [],
   "source": []
  },
  {
   "cell_type": "code",
   "execution_count": 60,
   "id": "af9bb7eb-5310-4f2c-ac44-fe23de0d6292",
   "metadata": {},
   "outputs": [],
   "source": [
    "df.to_csv(\"data/sleep_deprivation_data_processed.csv\", index=False)"
   ]
  },
  {
   "cell_type": "code",
   "execution_count": null,
   "id": "626c3a0d-6b79-4935-b20e-266e5295ee4e",
   "metadata": {},
   "outputs": [],
   "source": []
  },
  {
   "cell_type": "markdown",
   "id": "357638e3-9d72-4fcb-a13b-52c292dd54a3",
   "metadata": {},
   "source": [
    "### End processing"
   ]
  },
  {
   "cell_type": "markdown",
   "id": "e8922e60-aa55-4859-a38f-a8ba81ff1b67",
   "metadata": {},
   "source": [
    "### Some additional EDA below"
   ]
  },
  {
   "cell_type": "code",
   "execution_count": null,
   "id": "f4b316d7-7d2d-4b8a-8a56-7d78d968946a",
   "metadata": {},
   "outputs": [],
   "source": []
  },
  {
   "cell_type": "code",
   "execution_count": 74,
   "id": "fd013bc4-43bb-44e7-a016-2a11802d5b47",
   "metadata": {},
   "outputs": [],
   "source": [
    "df2 = df.copy()"
   ]
  },
  {
   "cell_type": "code",
   "execution_count": 75,
   "id": "0ea5dafd-63fb-4dca-abbf-cf22c610a293",
   "metadata": {},
   "outputs": [
    {
     "data": {
      "text/plain": [
       "Gender\n",
       "Male      37\n",
       "Female    23\n",
       "Name: count, dtype: int64"
      ]
     },
     "execution_count": 75,
     "metadata": {},
     "output_type": "execute_result"
    }
   ],
   "source": [
    "df2.Gender.value_counts()"
   ]
  },
  {
   "cell_type": "code",
   "execution_count": 77,
   "id": "14b9de44-4219-46c2-8472-26e50c7bab5f",
   "metadata": {},
   "outputs": [],
   "source": [
    "def gender_category(s):\n",
    "    if s == 'Male':\n",
    "        return 0\n",
    "    else:\n",
    "        return 1\n",
    "\n",
    "df2['Gender_Category'] = df2.Gender.apply(gender_category)"
   ]
  },
  {
   "cell_type": "code",
   "execution_count": null,
   "id": "5bf8bc45-551c-4855-b404-7ff33980c297",
   "metadata": {},
   "outputs": [],
   "source": []
  },
  {
   "cell_type": "code",
   "execution_count": 73,
   "id": "09041c49-4640-481e-be31-f9ee0ea01688",
   "metadata": {},
   "outputs": [
    {
     "data": {
      "text/plain": [
       "Index(['Participant_ID', 'Sleep_Hours', 'Sleep_Quality_Score',\n",
       "       'Daytime_Sleepiness', 'Stroop_Task_Reaction_Time', 'N_Back_Accuracy',\n",
       "       'Emotion_Regulation_Score', 'PVT_Reaction_Time', 'Age', 'Gender', 'BMI',\n",
       "       'Caffeine_Intake', 'Physical_Activity_Level', 'Stress_Level',\n",
       "       'Age_Group', 'BMI_group', 'Caffeine_group', 'Physical_Activity_group',\n",
       "       'Stress_Level_group'],\n",
       "      dtype='object')"
      ]
     },
     "execution_count": 73,
     "metadata": {},
     "output_type": "execute_result"
    }
   ],
   "source": [
    "df.columns"
   ]
  },
  {
   "cell_type": "code",
   "execution_count": 78,
   "id": "1fc68d89-14fb-4228-a025-a6d2555ad4e5",
   "metadata": {},
   "outputs": [],
   "source": [
    "df_corr_cols = ['Sleep_Hours', 'Sleep_Quality_Score',\n",
    "       'Daytime_Sleepiness', 'Stroop_Task_Reaction_Time', 'N_Back_Accuracy',\n",
    "       'Emotion_Regulation_Score', 'PVT_Reaction_Time', 'Age', 'BMI',\n",
    "       'Caffeine_Intake', 'Physical_Activity_Level', 'Stress_Level', 'Gender_Category']"
   ]
  },
  {
   "cell_type": "code",
   "execution_count": null,
   "id": "8fe59fe7-b11d-448f-a742-735dc6e0bf09",
   "metadata": {},
   "outputs": [],
   "source": []
  },
  {
   "cell_type": "code",
   "execution_count": 82,
   "id": "1be2a24e-db0b-4449-8b12-e5a114ced864",
   "metadata": {},
   "outputs": [
    {
     "data": {
      "text/html": [
       "<div>\n",
       "<style scoped>\n",
       "    .dataframe tbody tr th:only-of-type {\n",
       "        vertical-align: middle;\n",
       "    }\n",
       "\n",
       "    .dataframe tbody tr th {\n",
       "        vertical-align: top;\n",
       "    }\n",
       "\n",
       "    .dataframe thead th {\n",
       "        text-align: right;\n",
       "    }\n",
       "</style>\n",
       "<table border=\"1\" class=\"dataframe\">\n",
       "  <thead>\n",
       "    <tr style=\"text-align: right;\">\n",
       "      <th></th>\n",
       "      <th>Sleep_Hours</th>\n",
       "      <th>Sleep_Quality_Score</th>\n",
       "      <th>Daytime_Sleepiness</th>\n",
       "      <th>Stroop_Task_Reaction_Time</th>\n",
       "      <th>N_Back_Accuracy</th>\n",
       "      <th>Emotion_Regulation_Score</th>\n",
       "      <th>PVT_Reaction_Time</th>\n",
       "      <th>Age</th>\n",
       "      <th>BMI</th>\n",
       "      <th>Caffeine_Intake</th>\n",
       "      <th>Physical_Activity_Level</th>\n",
       "      <th>Stress_Level</th>\n",
       "      <th>Gender_Category</th>\n",
       "    </tr>\n",
       "  </thead>\n",
       "  <tbody>\n",
       "    <tr>\n",
       "      <th>Sleep_Hours</th>\n",
       "      <td>1.000000</td>\n",
       "      <td>0.013907</td>\n",
       "      <td>0.131855</td>\n",
       "      <td>0.056203</td>\n",
       "      <td>-0.110396</td>\n",
       "      <td>-0.178629</td>\n",
       "      <td>-0.174171</td>\n",
       "      <td>0.044150</td>\n",
       "      <td>-0.034617</td>\n",
       "      <td>-0.036469</td>\n",
       "      <td>0.153093</td>\n",
       "      <td>-0.020587</td>\n",
       "      <td>-0.102752</td>\n",
       "    </tr>\n",
       "    <tr>\n",
       "      <th>Sleep_Quality_Score</th>\n",
       "      <td>0.013907</td>\n",
       "      <td>1.000000</td>\n",
       "      <td>0.024599</td>\n",
       "      <td>0.079965</td>\n",
       "      <td>-0.089971</td>\n",
       "      <td>0.152695</td>\n",
       "      <td>-0.131605</td>\n",
       "      <td>-0.137587</td>\n",
       "      <td>0.203753</td>\n",
       "      <td>-0.062832</td>\n",
       "      <td>-0.019553</td>\n",
       "      <td>0.189843</td>\n",
       "      <td>-0.044662</td>\n",
       "    </tr>\n",
       "    <tr>\n",
       "      <th>Daytime_Sleepiness</th>\n",
       "      <td>0.131855</td>\n",
       "      <td>0.024599</td>\n",
       "      <td>1.000000</td>\n",
       "      <td>0.187316</td>\n",
       "      <td>-0.014012</td>\n",
       "      <td>0.034333</td>\n",
       "      <td>-0.034868</td>\n",
       "      <td>-0.058595</td>\n",
       "      <td>-0.010481</td>\n",
       "      <td>0.047691</td>\n",
       "      <td>-0.030218</td>\n",
       "      <td>-0.165486</td>\n",
       "      <td>-0.177911</td>\n",
       "    </tr>\n",
       "    <tr>\n",
       "      <th>Stroop_Task_Reaction_Time</th>\n",
       "      <td>0.056203</td>\n",
       "      <td>0.079965</td>\n",
       "      <td>0.187316</td>\n",
       "      <td>1.000000</td>\n",
       "      <td>0.012468</td>\n",
       "      <td>0.194503</td>\n",
       "      <td>0.090767</td>\n",
       "      <td>0.077077</td>\n",
       "      <td>0.086004</td>\n",
       "      <td>-0.028332</td>\n",
       "      <td>0.012619</td>\n",
       "      <td>-0.048521</td>\n",
       "      <td>-0.006476</td>\n",
       "    </tr>\n",
       "    <tr>\n",
       "      <th>N_Back_Accuracy</th>\n",
       "      <td>-0.110396</td>\n",
       "      <td>-0.089971</td>\n",
       "      <td>-0.014012</td>\n",
       "      <td>0.012468</td>\n",
       "      <td>1.000000</td>\n",
       "      <td>-0.143863</td>\n",
       "      <td>0.104692</td>\n",
       "      <td>-0.013084</td>\n",
       "      <td>0.071775</td>\n",
       "      <td>-0.187181</td>\n",
       "      <td>-0.178366</td>\n",
       "      <td>-0.123392</td>\n",
       "      <td>0.215143</td>\n",
       "    </tr>\n",
       "    <tr>\n",
       "      <th>Emotion_Regulation_Score</th>\n",
       "      <td>-0.178629</td>\n",
       "      <td>0.152695</td>\n",
       "      <td>0.034333</td>\n",
       "      <td>0.194503</td>\n",
       "      <td>-0.143863</td>\n",
       "      <td>1.000000</td>\n",
       "      <td>-0.050701</td>\n",
       "      <td>0.161349</td>\n",
       "      <td>0.042498</td>\n",
       "      <td>0.190747</td>\n",
       "      <td>-0.069069</td>\n",
       "      <td>-0.147983</td>\n",
       "      <td>0.017251</td>\n",
       "    </tr>\n",
       "    <tr>\n",
       "      <th>PVT_Reaction_Time</th>\n",
       "      <td>-0.174171</td>\n",
       "      <td>-0.131605</td>\n",
       "      <td>-0.034868</td>\n",
       "      <td>0.090767</td>\n",
       "      <td>0.104692</td>\n",
       "      <td>-0.050701</td>\n",
       "      <td>1.000000</td>\n",
       "      <td>0.003603</td>\n",
       "      <td>-0.148436</td>\n",
       "      <td>-0.044927</td>\n",
       "      <td>-0.224303</td>\n",
       "      <td>-0.117805</td>\n",
       "      <td>0.080659</td>\n",
       "    </tr>\n",
       "    <tr>\n",
       "      <th>Age</th>\n",
       "      <td>0.044150</td>\n",
       "      <td>-0.137587</td>\n",
       "      <td>-0.058595</td>\n",
       "      <td>0.077077</td>\n",
       "      <td>-0.013084</td>\n",
       "      <td>0.161349</td>\n",
       "      <td>0.003603</td>\n",
       "      <td>1.000000</td>\n",
       "      <td>0.024663</td>\n",
       "      <td>-0.053929</td>\n",
       "      <td>-0.086511</td>\n",
       "      <td>0.045609</td>\n",
       "      <td>0.013189</td>\n",
       "    </tr>\n",
       "    <tr>\n",
       "      <th>BMI</th>\n",
       "      <td>-0.034617</td>\n",
       "      <td>0.203753</td>\n",
       "      <td>-0.010481</td>\n",
       "      <td>0.086004</td>\n",
       "      <td>0.071775</td>\n",
       "      <td>0.042498</td>\n",
       "      <td>-0.148436</td>\n",
       "      <td>0.024663</td>\n",
       "      <td>1.000000</td>\n",
       "      <td>-0.040485</td>\n",
       "      <td>0.019635</td>\n",
       "      <td>0.175338</td>\n",
       "      <td>-0.053091</td>\n",
       "    </tr>\n",
       "    <tr>\n",
       "      <th>Caffeine_Intake</th>\n",
       "      <td>-0.036469</td>\n",
       "      <td>-0.062832</td>\n",
       "      <td>0.047691</td>\n",
       "      <td>-0.028332</td>\n",
       "      <td>-0.187181</td>\n",
       "      <td>0.190747</td>\n",
       "      <td>-0.044927</td>\n",
       "      <td>-0.053929</td>\n",
       "      <td>-0.040485</td>\n",
       "      <td>1.000000</td>\n",
       "      <td>0.007481</td>\n",
       "      <td>-0.020900</td>\n",
       "      <td>0.085653</td>\n",
       "    </tr>\n",
       "    <tr>\n",
       "      <th>Physical_Activity_Level</th>\n",
       "      <td>0.153093</td>\n",
       "      <td>-0.019553</td>\n",
       "      <td>-0.030218</td>\n",
       "      <td>0.012619</td>\n",
       "      <td>-0.178366</td>\n",
       "      <td>-0.069069</td>\n",
       "      <td>-0.224303</td>\n",
       "      <td>-0.086511</td>\n",
       "      <td>0.019635</td>\n",
       "      <td>0.007481</td>\n",
       "      <td>1.000000</td>\n",
       "      <td>0.041049</td>\n",
       "      <td>-0.241118</td>\n",
       "    </tr>\n",
       "    <tr>\n",
       "      <th>Stress_Level</th>\n",
       "      <td>-0.020587</td>\n",
       "      <td>0.189843</td>\n",
       "      <td>-0.165486</td>\n",
       "      <td>-0.048521</td>\n",
       "      <td>-0.123392</td>\n",
       "      <td>-0.147983</td>\n",
       "      <td>-0.117805</td>\n",
       "      <td>0.045609</td>\n",
       "      <td>0.175338</td>\n",
       "      <td>-0.020900</td>\n",
       "      <td>0.041049</td>\n",
       "      <td>1.000000</td>\n",
       "      <td>0.078665</td>\n",
       "    </tr>\n",
       "    <tr>\n",
       "      <th>Gender_Category</th>\n",
       "      <td>-0.102752</td>\n",
       "      <td>-0.044662</td>\n",
       "      <td>-0.177911</td>\n",
       "      <td>-0.006476</td>\n",
       "      <td>0.215143</td>\n",
       "      <td>0.017251</td>\n",
       "      <td>0.080659</td>\n",
       "      <td>0.013189</td>\n",
       "      <td>-0.053091</td>\n",
       "      <td>0.085653</td>\n",
       "      <td>-0.241118</td>\n",
       "      <td>0.078665</td>\n",
       "      <td>1.000000</td>\n",
       "    </tr>\n",
       "  </tbody>\n",
       "</table>\n",
       "</div>"
      ],
      "text/plain": [
       "                           Sleep_Hours  Sleep_Quality_Score  \\\n",
       "Sleep_Hours                   1.000000             0.013907   \n",
       "Sleep_Quality_Score           0.013907             1.000000   \n",
       "Daytime_Sleepiness            0.131855             0.024599   \n",
       "Stroop_Task_Reaction_Time     0.056203             0.079965   \n",
       "N_Back_Accuracy              -0.110396            -0.089971   \n",
       "Emotion_Regulation_Score     -0.178629             0.152695   \n",
       "PVT_Reaction_Time            -0.174171            -0.131605   \n",
       "Age                           0.044150            -0.137587   \n",
       "BMI                          -0.034617             0.203753   \n",
       "Caffeine_Intake              -0.036469            -0.062832   \n",
       "Physical_Activity_Level       0.153093            -0.019553   \n",
       "Stress_Level                 -0.020587             0.189843   \n",
       "Gender_Category              -0.102752            -0.044662   \n",
       "\n",
       "                           Daytime_Sleepiness  Stroop_Task_Reaction_Time  \\\n",
       "Sleep_Hours                          0.131855                   0.056203   \n",
       "Sleep_Quality_Score                  0.024599                   0.079965   \n",
       "Daytime_Sleepiness                   1.000000                   0.187316   \n",
       "Stroop_Task_Reaction_Time            0.187316                   1.000000   \n",
       "N_Back_Accuracy                     -0.014012                   0.012468   \n",
       "Emotion_Regulation_Score             0.034333                   0.194503   \n",
       "PVT_Reaction_Time                   -0.034868                   0.090767   \n",
       "Age                                 -0.058595                   0.077077   \n",
       "BMI                                 -0.010481                   0.086004   \n",
       "Caffeine_Intake                      0.047691                  -0.028332   \n",
       "Physical_Activity_Level             -0.030218                   0.012619   \n",
       "Stress_Level                        -0.165486                  -0.048521   \n",
       "Gender_Category                     -0.177911                  -0.006476   \n",
       "\n",
       "                           N_Back_Accuracy  Emotion_Regulation_Score  \\\n",
       "Sleep_Hours                      -0.110396                 -0.178629   \n",
       "Sleep_Quality_Score              -0.089971                  0.152695   \n",
       "Daytime_Sleepiness               -0.014012                  0.034333   \n",
       "Stroop_Task_Reaction_Time         0.012468                  0.194503   \n",
       "N_Back_Accuracy                   1.000000                 -0.143863   \n",
       "Emotion_Regulation_Score         -0.143863                  1.000000   \n",
       "PVT_Reaction_Time                 0.104692                 -0.050701   \n",
       "Age                              -0.013084                  0.161349   \n",
       "BMI                               0.071775                  0.042498   \n",
       "Caffeine_Intake                  -0.187181                  0.190747   \n",
       "Physical_Activity_Level          -0.178366                 -0.069069   \n",
       "Stress_Level                     -0.123392                 -0.147983   \n",
       "Gender_Category                   0.215143                  0.017251   \n",
       "\n",
       "                           PVT_Reaction_Time       Age       BMI  \\\n",
       "Sleep_Hours                        -0.174171  0.044150 -0.034617   \n",
       "Sleep_Quality_Score                -0.131605 -0.137587  0.203753   \n",
       "Daytime_Sleepiness                 -0.034868 -0.058595 -0.010481   \n",
       "Stroop_Task_Reaction_Time           0.090767  0.077077  0.086004   \n",
       "N_Back_Accuracy                     0.104692 -0.013084  0.071775   \n",
       "Emotion_Regulation_Score           -0.050701  0.161349  0.042498   \n",
       "PVT_Reaction_Time                   1.000000  0.003603 -0.148436   \n",
       "Age                                 0.003603  1.000000  0.024663   \n",
       "BMI                                -0.148436  0.024663  1.000000   \n",
       "Caffeine_Intake                    -0.044927 -0.053929 -0.040485   \n",
       "Physical_Activity_Level            -0.224303 -0.086511  0.019635   \n",
       "Stress_Level                       -0.117805  0.045609  0.175338   \n",
       "Gender_Category                     0.080659  0.013189 -0.053091   \n",
       "\n",
       "                           Caffeine_Intake  Physical_Activity_Level  \\\n",
       "Sleep_Hours                      -0.036469                 0.153093   \n",
       "Sleep_Quality_Score              -0.062832                -0.019553   \n",
       "Daytime_Sleepiness                0.047691                -0.030218   \n",
       "Stroop_Task_Reaction_Time        -0.028332                 0.012619   \n",
       "N_Back_Accuracy                  -0.187181                -0.178366   \n",
       "Emotion_Regulation_Score          0.190747                -0.069069   \n",
       "PVT_Reaction_Time                -0.044927                -0.224303   \n",
       "Age                              -0.053929                -0.086511   \n",
       "BMI                              -0.040485                 0.019635   \n",
       "Caffeine_Intake                   1.000000                 0.007481   \n",
       "Physical_Activity_Level           0.007481                 1.000000   \n",
       "Stress_Level                     -0.020900                 0.041049   \n",
       "Gender_Category                   0.085653                -0.241118   \n",
       "\n",
       "                           Stress_Level  Gender_Category  \n",
       "Sleep_Hours                   -0.020587        -0.102752  \n",
       "Sleep_Quality_Score            0.189843        -0.044662  \n",
       "Daytime_Sleepiness            -0.165486        -0.177911  \n",
       "Stroop_Task_Reaction_Time     -0.048521        -0.006476  \n",
       "N_Back_Accuracy               -0.123392         0.215143  \n",
       "Emotion_Regulation_Score      -0.147983         0.017251  \n",
       "PVT_Reaction_Time             -0.117805         0.080659  \n",
       "Age                            0.045609         0.013189  \n",
       "BMI                            0.175338        -0.053091  \n",
       "Caffeine_Intake               -0.020900         0.085653  \n",
       "Physical_Activity_Level        0.041049        -0.241118  \n",
       "Stress_Level                   1.000000         0.078665  \n",
       "Gender_Category                0.078665         1.000000  "
      ]
     },
     "execution_count": 82,
     "metadata": {},
     "output_type": "execute_result"
    }
   ],
   "source": [
    "matrix = df2[df_corr_cols].corr()\n",
    "matrix"
   ]
  },
  {
   "cell_type": "code",
   "execution_count": null,
   "id": "fa83e167-459c-41a1-b60f-fbb9f6793d87",
   "metadata": {},
   "outputs": [],
   "source": []
  },
  {
   "cell_type": "code",
   "execution_count": 86,
   "id": "0cfe54f4-7225-4c56-bcfc-eb13593b8ac0",
   "metadata": {},
   "outputs": [
    {
     "data": {
      "image/png": "[encoded data removed]",
      "text/plain": [
       "<Figure size 640x480 with 2 Axes>"
      ]
     },
     "metadata": {},
     "output_type": "display_data"
    }
   ],
   "source": [
    "plt.imshow(matrix, cmap='Blues')\n",
    "plt.colorbar()\n",
    "\n",
    "variables = []\n",
    "for i in matrix.columns:\n",
    "    variables.append(i)\n",
    "\n",
    "plt.xticks(range(len(matrix)), variables, rotation=45, ha='right')\n",
    "plt.yticks(range(len(matrix)), variables)\n",
    "\n",
    "plt.savefig('correlationmatrix.png')\n",
    "\n",
    "plt.show()"
   ]
  },
  {
   "cell_type": "code",
   "execution_count": null,
   "id": "da9e2c9f-e706-4352-837c-be662250fd3c",
   "metadata": {},
   "outputs": [],
   "source": []
  },
  {
   "cell_type": "code",
   "execution_count": null,
   "id": "a7d9912f-fa74-4557-9da3-1fba2f1e252c",
   "metadata": {},
   "outputs": [],
   "source": []
  },
  {
   "cell_type": "code",
   "execution_count": null,
   "id": "90d87524-ac88-4b2e-bf81-385b2e80476d",
   "metadata": {},
   "outputs": [],
   "source": []
  }
 ],
 "metadata": {
  "kernelspec": {
   "display_name": "Python 3 (ipykernel)",
   "language": "python",
   "name": "python3"
  },
  "language_info": {
   "codemirror_mode": {
    "name": "ipython",
    "version": 3
   },
   "file_extension": ".py",
   "mimetype": "text/x-python",
   "name": "python",
   "nbconvert_exporter": "python",
   "pygments_lexer": "ipython3",
   "version": "3.10.14"
  }
 },
 "nbformat": 4,
 "nbformat_minor": 5
}
